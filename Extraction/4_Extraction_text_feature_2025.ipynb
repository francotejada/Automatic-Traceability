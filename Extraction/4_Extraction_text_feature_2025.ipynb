{
  "cells": [
    {
      "cell_type": "markdown",
      "metadata": {
        "id": "view-in-github",
        "colab_type": "text"
      },
      "source": [
        "<a href=\"https://colab.research.google.com/github/francotejada/Automatic-Traceability/blob/main/Extraction/4_Extraction_text_feature_2025.ipynb\" target=\"_parent\"><img src=\"https://colab.research.google.com/assets/colab-badge.svg\" alt=\"Open In Colab\"/></a>"
      ]
    },
    {
      "cell_type": "markdown",
      "metadata": {
        "id": "HLOBkCLig6z-"
      },
      "source": [
        "In this notebook, we will check out how to perform information extraction using NLP techniques in Python.\n",
        "\n",
        "I recommend, going over [this article](https://www.analyticsvidhya.com/blog/2020/06/nlp-project-information-extraction/) to understand the concept in detail."
      ]
    },
    {
      "cell_type": "markdown",
      "metadata": {
        "id": "w2oXfNLcg60G"
      },
      "source": [
        "# What is Information Extraction?"
      ]
    },
    {
      "cell_type": "markdown",
      "metadata": {
        "id": "T4l8FKDEg60H"
      },
      "source": [
        "Text data contains a lot of information but not all of it will be important to you. We might be looking for names of entities, others would want to extract specific relationships between those entities. Our intentions differ according to our requirements.\n",
        "\n",
        "Imagine having to go through all the legal documents to find legal precedence to validate your current case. Or having to go through all the research papers to find relevant information to cure a disease. There are many more examples like resume harvesting, media analysis, email scanning, etc.\n",
        "\n",
        "But just imagine having to manually go through all of the textual data and extracting the most relevant information. Clearly, it is an uphill battle and you might even end up skipping some important information.\n",
        "\n",
        "For anyone trying to analyze textual data, the difficult task is not of finding the right documents, but of finding the right information from these documents. Understanding the relationship between entities, understanding how the events have unfolded, or just simply finding hidden gems of information, is clearly what anyone is looking for when they go through a piece of text.\n",
        "\n",
        "Therefore, coming up with an automated way of extracting the information from textual data and presenting it in a structured manner will help us reap a lot of benefits and tremendously reduce the amount of time we have to spend time skimming through text documents. This is precisely what information extraction strives to achieve.\n",
        "\n",
        "\n",
        "> `The task of Information Extraction (IE) involves extracting meaningful information from unstructured text data and presenting it in a structured format.`\n",
        "\n",
        "\n",
        "Using information extraction, we can retrieve pre-defined information such as the name of a person, location of an organization, or identify a relation between entities, and save this information in a structured format such as a database.\n",
        "\n",
        "This enables us to reap the benefits of powerful query tools like SQL for further analysis. Creating such structured data using information extraction will not only help us in analyzing the documents better but also help us in understanding the hidden relationships in the text."
      ]
    },
    {
      "cell_type": "markdown",
      "metadata": {
        "heading_collapsed": true,
        "id": "FF-RLDPeg60I"
      },
      "source": [
        "# How does Information Extraction work?"
      ]
    },
    {
      "cell_type": "markdown",
      "metadata": {
        "hidden": true,
        "id": "zHmEuUcjg60J"
      },
      "source": [
        "Given the capricious nature of text data that changes depending on different authors and under different contexts, Information Extraction seems like a daunting task at hand. But it doesn't have to be so.\n",
        "\n",
        "We all know that sentences are made up of words belonging to various different Parts of Speech (POS). Their are eight different POS in the english language: noun, pronoun, verb, adjective , adverb, preposition, conjuction, and intersection. The POS determines how a specific word functions in meaning in a given sentence. For example take the word \"right\". In the sentence, \"The boy was awarded with a chocolate for giving the right answer\", \"right\" is used as an adjective. Whereas, in the sentence, \"You have the right to say whatever you want\", \"right\" is treated as a noun. This goes to show that POS tag of a word carries a lot of significance when it comes to understanding the meaning of a sentence. No doubt we can leverage it to extract meaningful information from our text."
      ]
    },
    {
      "cell_type": "code",
      "execution_count": null,
      "metadata": {
        "hidden": true,
        "colab": {
          "base_uri": "https://localhost:8080/"
        },
        "id": "hBN0kZlxg60J",
        "outputId": "6ab770fd-321e-48d2-e71f-01b438d3c0b1"
      },
      "outputs": [
        {
          "output_type": "stream",
          "name": "stdout",
          "text": [
            "allow -> VERB\n",
            "annotation -> NOUN\n",
            "based -> VERB\n",
            "configuration -> NOUN\n",
            "annotations -> NOUN\n",
            "based -> VERB\n",
            "configuration -> NOUN\n",
            "can -> VERB\n",
            "be -> AUX\n",
            "preferable -> ADJ\n",
            "to -> ADP\n",
            "some -> DET\n",
            "users -> NOUN\n",
            "investigate -> VERB\n",
            "and -> CCONJ\n",
            "implement -> VERB\n",
            "annotation -> NOUN\n",
            "based -> VERB\n",
            "alternatives -> NOUN\n",
            "to -> ADP\n",
            "programmatic -> ADJ\n",
            "configuration -> NOUN\n",
            "which -> DET\n",
            "should -> VERB\n",
            "always -> ADV\n",
            "be -> AUX\n",
            "possible -> ADJ\n"
          ]
        }
      ],
      "source": [
        "# import spacy\n",
        "import spacy\n",
        "\n",
        "# load english language model\n",
        "nlp = spacy.load('en_core_web_sm',disable=['ner','textcat'])\n",
        "\n",
        "text = \"allow annotation based configuration annotations based configuration can be preferable to some users investigate and implement annotation based alternatives to programmatic configuration which should always be possible\"\n",
        "\n",
        "# create spacy\n",
        "doc = nlp(text)\n",
        "\n",
        "for token in doc:\n",
        "    print(token.text,'->',token.pos_)"
      ]
    },
    {
      "cell_type": "markdown",
      "metadata": {
        "hidden": true,
        "id": "Lq3CDxQqg60L"
      },
      "source": [
        "We were easily able to determine the POS tags of all the words in the sentence. But how does it help in Information Extraction?\n",
        "\n",
        "Well, if we wanted to extract nouns from the sentences, we could take a look at POS tags of the words/tokens in the sentence, using the attribute **.pos_**, and extract them accordingly."
      ]
    },
    {
      "cell_type": "code",
      "execution_count": null,
      "metadata": {
        "hidden": true,
        "colab": {
          "base_uri": "https://localhost:8080/"
        },
        "id": "qWCnF155g60M",
        "outputId": "af0acc21-670e-41fc-ba13-feeff348a95d"
      },
      "outputs": [
        {
          "output_type": "stream",
          "name": "stdout",
          "text": [
            "annotation\n",
            "configuration\n",
            "annotations\n",
            "configuration\n",
            "users\n",
            "annotation\n",
            "alternatives\n",
            "configuration\n"
          ]
        }
      ],
      "source": [
        "for token in doc:\n",
        "    # check token pos\n",
        "    if token.pos_=='NOUN':\n",
        "        # print token\n",
        "        print(token.text)"
      ]
    },
    {
      "cell_type": "markdown",
      "metadata": {
        "hidden": true,
        "id": "3tv81Hpeg60N"
      },
      "source": [
        "It was that easy to extract words based on their POS tags. But sometimes extracting information purely based on the POS tags is not enough. Have a look at the sentence below:"
      ]
    },
    {
      "cell_type": "code",
      "execution_count": null,
      "metadata": {
        "hidden": true,
        "colab": {
          "base_uri": "https://localhost:8080/"
        },
        "id": "nQZD8o58g60O",
        "outputId": "04434b2c-7e76-4dbb-a3dc-f7c8b497b81f"
      },
      "outputs": [
        {
          "output_type": "stream",
          "name": "stdout",
          "text": [
            "The -> DET\n",
            "children -> NOUN\n",
            "love -> VERB\n",
            "cream -> NOUN\n",
            "biscuits -> NOUN\n"
          ]
        }
      ],
      "source": [
        "text = \"The children love cream biscuits\"\n",
        "\n",
        "# create spacy\n",
        "doc = nlp(text)\n",
        "\n",
        "for token in doc:\n",
        "    print(token.text,'->',token.pos_)"
      ]
    },
    {
      "cell_type": "markdown",
      "metadata": {
        "hidden": true,
        "id": "f5KdP0xQg60P"
      },
      "source": [
        "If I wanted to extract the subject and the object from a sentence, I can’t do that based on their POS tags. For that, I need to look at how these words are related to each other. These are called **Dependencies**.\n",
        "\n",
        "We can make use of [spaCy’s displacy](https://explosion.ai/demos/displacy) visualizer that displays the word dependencies in a graphical manner:"
      ]
    },
    {
      "cell_type": "markdown",
      "source": [],
      "metadata": {
        "id": "f8XbxG-18-xF"
      }
    },
    {
      "cell_type": "code",
      "execution_count": null,
      "metadata": {
        "hidden": true,
        "colab": {
          "base_uri": "https://localhost:8080/",
          "height": 353
        },
        "id": "PBvI2jmJg60P",
        "outputId": "fa562a16-c902-4c99-97db-42d9c7e966e7"
      },
      "outputs": [
        {
          "output_type": "display_data",
          "data": {
            "text/plain": [
              "<IPython.core.display.HTML object>"
            ],
            "text/html": [
              "<span class=\"tex2jax_ignore\"><svg xmlns=\"http://www.w3.org/2000/svg\" xmlns:xlink=\"http://www.w3.org/1999/xlink\" xml:lang=\"en\" id=\"03cde5e27a9f41069b12ef5b31b793db-0\" class=\"displacy\" width=\"925\" height=\"312.0\" direction=\"ltr\" style=\"max-width: none; height: 312.0px; color: #000000; background: #ffffff; font-family: Arial; direction: ltr\">\n",
              "<text class=\"displacy-token\" fill=\"currentColor\" text-anchor=\"middle\" y=\"222.0\">\n",
              "    <tspan class=\"displacy-word\" fill=\"currentColor\" x=\"50\">The</tspan>\n",
              "    <tspan class=\"displacy-tag\" dy=\"2em\" fill=\"currentColor\" x=\"50\">DET</tspan>\n",
              "</text>\n",
              "\n",
              "<text class=\"displacy-token\" fill=\"currentColor\" text-anchor=\"middle\" y=\"222.0\">\n",
              "    <tspan class=\"displacy-word\" fill=\"currentColor\" x=\"225\">children</tspan>\n",
              "    <tspan class=\"displacy-tag\" dy=\"2em\" fill=\"currentColor\" x=\"225\">NOUN</tspan>\n",
              "</text>\n",
              "\n",
              "<text class=\"displacy-token\" fill=\"currentColor\" text-anchor=\"middle\" y=\"222.0\">\n",
              "    <tspan class=\"displacy-word\" fill=\"currentColor\" x=\"400\">love</tspan>\n",
              "    <tspan class=\"displacy-tag\" dy=\"2em\" fill=\"currentColor\" x=\"400\">VERB</tspan>\n",
              "</text>\n",
              "\n",
              "<text class=\"displacy-token\" fill=\"currentColor\" text-anchor=\"middle\" y=\"222.0\">\n",
              "    <tspan class=\"displacy-word\" fill=\"currentColor\" x=\"575\">cream</tspan>\n",
              "    <tspan class=\"displacy-tag\" dy=\"2em\" fill=\"currentColor\" x=\"575\">NOUN</tspan>\n",
              "</text>\n",
              "\n",
              "<text class=\"displacy-token\" fill=\"currentColor\" text-anchor=\"middle\" y=\"222.0\">\n",
              "    <tspan class=\"displacy-word\" fill=\"currentColor\" x=\"750\">biscuits</tspan>\n",
              "    <tspan class=\"displacy-tag\" dy=\"2em\" fill=\"currentColor\" x=\"750\">NOUN</tspan>\n",
              "</text>\n",
              "\n",
              "<g class=\"displacy-arrow\">\n",
              "    <path class=\"displacy-arc\" id=\"arrow-03cde5e27a9f41069b12ef5b31b793db-0-0\" stroke-width=\"2px\" d=\"M70,177.0 C70,89.5 220.0,89.5 220.0,177.0\" fill=\"none\" stroke=\"currentColor\"/>\n",
              "    <text dy=\"1.25em\" style=\"font-size: 0.8em; letter-spacing: 1px\">\n",
              "        <textPath xlink:href=\"#arrow-03cde5e27a9f41069b12ef5b31b793db-0-0\" class=\"displacy-label\" startOffset=\"50%\" side=\"left\" fill=\"currentColor\" text-anchor=\"middle\">det</textPath>\n",
              "    </text>\n",
              "    <path class=\"displacy-arrowhead\" d=\"M70,179.0 L62,167.0 78,167.0\" fill=\"currentColor\"/>\n",
              "</g>\n",
              "\n",
              "<g class=\"displacy-arrow\">\n",
              "    <path class=\"displacy-arc\" id=\"arrow-03cde5e27a9f41069b12ef5b31b793db-0-1\" stroke-width=\"2px\" d=\"M245,177.0 C245,89.5 395.0,89.5 395.0,177.0\" fill=\"none\" stroke=\"currentColor\"/>\n",
              "    <text dy=\"1.25em\" style=\"font-size: 0.8em; letter-spacing: 1px\">\n",
              "        <textPath xlink:href=\"#arrow-03cde5e27a9f41069b12ef5b31b793db-0-1\" class=\"displacy-label\" startOffset=\"50%\" side=\"left\" fill=\"currentColor\" text-anchor=\"middle\">nsubj</textPath>\n",
              "    </text>\n",
              "    <path class=\"displacy-arrowhead\" d=\"M245,179.0 L237,167.0 253,167.0\" fill=\"currentColor\"/>\n",
              "</g>\n",
              "\n",
              "<g class=\"displacy-arrow\">\n",
              "    <path class=\"displacy-arc\" id=\"arrow-03cde5e27a9f41069b12ef5b31b793db-0-2\" stroke-width=\"2px\" d=\"M595,177.0 C595,89.5 745.0,89.5 745.0,177.0\" fill=\"none\" stroke=\"currentColor\"/>\n",
              "    <text dy=\"1.25em\" style=\"font-size: 0.8em; letter-spacing: 1px\">\n",
              "        <textPath xlink:href=\"#arrow-03cde5e27a9f41069b12ef5b31b793db-0-2\" class=\"displacy-label\" startOffset=\"50%\" side=\"left\" fill=\"currentColor\" text-anchor=\"middle\">compound</textPath>\n",
              "    </text>\n",
              "    <path class=\"displacy-arrowhead\" d=\"M595,179.0 L587,167.0 603,167.0\" fill=\"currentColor\"/>\n",
              "</g>\n",
              "\n",
              "<g class=\"displacy-arrow\">\n",
              "    <path class=\"displacy-arc\" id=\"arrow-03cde5e27a9f41069b12ef5b31b793db-0-3\" stroke-width=\"2px\" d=\"M420,177.0 C420,2.0 750.0,2.0 750.0,177.0\" fill=\"none\" stroke=\"currentColor\"/>\n",
              "    <text dy=\"1.25em\" style=\"font-size: 0.8em; letter-spacing: 1px\">\n",
              "        <textPath xlink:href=\"#arrow-03cde5e27a9f41069b12ef5b31b793db-0-3\" class=\"displacy-label\" startOffset=\"50%\" side=\"left\" fill=\"currentColor\" text-anchor=\"middle\">dobj</textPath>\n",
              "    </text>\n",
              "    <path class=\"displacy-arrowhead\" d=\"M750.0,179.0 L758.0,167.0 742.0,167.0\" fill=\"currentColor\"/>\n",
              "</g>\n",
              "</svg></span>"
            ]
          },
          "metadata": {}
        }
      ],
      "source": [
        "from spacy import displacy\n",
        "displacy.render(doc, style='dep',jupyter=True)"
      ]
    },
    {
      "cell_type": "markdown",
      "metadata": {
        "hidden": true,
        "id": "KIULPtGZg60Q"
      },
      "source": [
        "Pretty cool! This directed graph is known as a [dependency graph](https://www.analyticsvidhya.com/blog/2017/12/introduction-computational-linguistics-dependency-trees/). It represents the relations between different words of a sentence.\n",
        "\n",
        "Each word is a **node** in the Dependency graph. The relationship between words is denoted by the edges. For example, “The” is a determiner here, “children” is the subject of the sentence, “biscuits” is the object of the sentence, and “cream” is a compound word that gives us more information about the object.\n",
        "\n",
        "The arrows carry a lot of significance here:\n",
        "\n",
        "- The **arrowhead** points to the words that are **dependent** on the word pointed by the **origin of the arrow**\n",
        "- The former is referred to as the **child node** of the latter. For example, “children” is the child node of “love”\n",
        "- The word which has no incoming arrow is called the **root node** of the sentence\n",
        "\n",
        "Let’s see how we can extract the subject and the object from the sentence. Like we have an attribute for POS in SpaCy tokens, we similarly have an attribute for extracting the dependency of a token denoted by dep_:"
      ]
    },
    {
      "cell_type": "code",
      "execution_count": null,
      "metadata": {
        "hidden": true,
        "colab": {
          "base_uri": "https://localhost:8080/"
        },
        "id": "kS07zdXeg60Q",
        "outputId": "e283f2ea-5451-483e-8cad-af9741738cec"
      },
      "outputs": [
        {
          "output_type": "stream",
          "name": "stdout",
          "text": [
            "children\n",
            "biscuits\n"
          ]
        }
      ],
      "source": [
        "for token in doc:\n",
        "    # extract subject\n",
        "    if (token.dep_=='nsubj'):\n",
        "        print(token.text)\n",
        "    # extract object\n",
        "    elif (token.dep_=='dobj'):\n",
        "        print(token.text)"
      ]
    },
    {
      "cell_type": "markdown",
      "metadata": {
        "hidden": true,
        "id": "95UxWXoNg60R"
      },
      "source": [
        "Voila! We have the subject and object of our sentence.\n",
        "\n",
        "Using POS tags and Dependency tags, we can look for relationship between different entities in a sentence. For example, in the sentence \"The **cat** perches **on** the **window sill**\", we have two noun entities,\"cat\" and \"window sill\", related by the preposition \"on\". We can look for such relationships and much more to extract meaningful information from our text data.\n",
        "\n",
        "*I suggest going through [this amazing blog](https://www.analyticsvidhya.com/blog/2019/09/introduction-information-extraction-python-spacy/) which explains Information Extraction with tons of examples.*"
      ]
    },
    {
      "cell_type": "markdown",
      "metadata": {
        "id": "HyqVOp_vg60R"
      },
      "source": [
        "# Where Do We Go from Here?"
      ]
    },
    {
      "cell_type": "markdown",
      "metadata": {
        "id": "2rWpEn8Tg60R"
      },
      "source": [
        "We have briefly spoken about the theory regarding Information Extraction which I believe is important to understand before jumping into the crux of this article.\n",
        "\n",
        "`“An ounce of practice is generally worth more than a ton of theory.” –E.F. Schumacher`\n",
        "\n",
        "In the following sections, I am going to explore a text dataset and apply the information extraction technique to retrieve some important information, understand the structure of the sentences, and the relationship between entities.\n",
        "\n",
        "So, without further ado, let’s get cracking on the code!"
      ]
    },
    {
      "cell_type": "markdown",
      "metadata": {
        "id": "bsKkxHASg60S"
      },
      "source": [
        "# Getting Familiar with the Text Dataset"
      ]
    },
    {
      "cell_type": "markdown",
      "metadata": {
        "id": "ibLG4W6dg60S"
      },
      "source": [
        "The dataset we are going to be working with is the [United Nations General Debate Corpus](https://dataverse.harvard.edu/dataset.xhtml?persistentId=doi:10.7910/DVN/0TJX8Y). It contains speeches made by representatives of all the member countries from the year 1970 to 2018 at the General Debate of the annual session of United Nations General Assembly.\n",
        "\n",
        "But we will take a subset of this dataset and work with speeches made by India at these debates. This will allow us to stay on track and better understand the task at hand of understanding Information Extraction. This leaves us with 49 speeches made by India over the years, each speech ranging from anywhere between 2000 to 6000+ words.\n",
        "\n",
        "Having said that, let’s have a look at our dataset:"
      ]
    },
    {
      "cell_type": "code",
      "execution_count": null,
      "metadata": {
        "id": "7G79WrnHg60S"
      },
      "outputs": [],
      "source": [
        "import pandas as pd\n",
        "import numpy as np\n",
        "import matplotlib.pyplot as plt\n",
        "import glob\n",
        "import re"
      ]
    },
    {
      "cell_type": "code",
      "execution_count": null,
      "metadata": {
        "colab": {
          "base_uri": "https://localhost:8080/",
          "height": 81
        },
        "id": "hqfp3zurg60S",
        "outputId": "01aa65b0-1f83-4f2f-ca8c-5787d518d234"
      },
      "outputs": [
        {
          "output_type": "execute_result",
          "data": {
            "text/html": [
              "<div>\n",
              "<style scoped>\n",
              "    .dataframe tbody tr th:only-of-type {\n",
              "        vertical-align: middle;\n",
              "    }\n",
              "\n",
              "    .dataframe tbody tr th {\n",
              "        vertical-align: top;\n",
              "    }\n",
              "\n",
              "    .dataframe thead th {\n",
              "        text-align: right;\n",
              "    }\n",
              "</style>\n",
              "<table border=\"1\" class=\"dataframe\">\n",
              "  <thead>\n",
              "    <tr style=\"text-align: right;\">\n",
              "      <th></th>\n",
              "      <th>summary</th>\n",
              "      <th>type</th>\n",
              "    </tr>\n",
              "  </thead>\n",
              "  <tbody>\n",
              "    <tr>\n",
              "      <th>0</th>\n",
              "      <td>summary,type\\nspringstoryreporterbuilder does ...</td>\n",
              "      <td>NaN</td>\n",
              "    </tr>\n",
              "  </tbody>\n",
              "</table>\n",
              "</div>"
            ],
            "text/plain": [
              "                                             summary type\n",
              "0  summary,type\\nspringstoryreporterbuilder does ...  NaN"
            ]
          },
          "metadata": {},
          "execution_count": 7
        }
      ],
      "source": [
        "# Folder path\n",
        "folders = glob.glob('jbehave_256_cleaned.csv') #('./UNGD/UNGDC 1970-2018/Converted sessions/Session*')\n",
        "\n",
        "# Dataframe\n",
        "#df = pd.DataFrame(columns={'Country','Speech','Session','Year'})\n",
        "df = pd.DataFrame(columns={'summary','type'})\n",
        "\n",
        "# Read speeches by India\n",
        "i = 0\n",
        "for file in folders:\n",
        "\n",
        "    speech = glob.glob(file)\n",
        "\n",
        "    with open(speech[0],encoding='utf8') as f:\n",
        "        # Speech\n",
        "        #df.loc[i,'Speech'] = f.read()\n",
        "        df.loc[i,'summary'] = f.read()\n",
        "        # Year\n",
        "        #df.loc[i,'Year'] = speech[0].split('_')[-1].split('.')[0]\n",
        "        # Session\n",
        "        #df.loc[i,'Session'] = speech[0].split('_')[-2]\n",
        "        # Country\n",
        "        #df.loc[i,'Country'] = speech[0].split('_')[0].split(\"\\\\\")[-1]\n",
        "        # Increment counter\n",
        "        i += 1\n",
        "\n",
        "df.head()"
      ]
    },
    {
      "cell_type": "markdown",
      "metadata": {
        "id": "6l4juDqUg60T"
      },
      "source": [
        "I will print a snapshot of one of the speeches to give you a feel of what the data looks like."
      ]
    },
    {
      "cell_type": "code",
      "source": [
        "#df = pd.read_csv('jbehave_all.csv')\n",
        "df = pd.read_csv('jbehave_256_cleaned.csv')\n",
        "df['type'].value_counts()\n"
      ],
      "metadata": {
        "colab": {
          "base_uri": "https://localhost:8080/"
        },
        "id": "IH4kapE5H5l7",
        "outputId": "be5d9bee-0132-4104-d17c-f240135c194d"
      },
      "execution_count": null,
      "outputs": [
        {
          "output_type": "execute_result",
          "data": {
            "text/plain": [
              "Improvement    116\n",
              "Bug             55\n",
              "New Feature     55\n",
              "Name: type, dtype: int64"
            ]
          },
          "metadata": {},
          "execution_count": 8
        }
      ]
    },
    {
      "cell_type": "code",
      "execution_count": null,
      "metadata": {
        "collapsed": true,
        "colab": {
          "base_uri": "https://localhost:8080/",
          "height": 53
        },
        "id": "3wb83I28g60T",
        "outputId": "a3ba2cd0-31ad-411f-bbc2-8fbaf68c4f4e"
      },
      "outputs": [
        {
          "output_type": "execute_result",
          "data": {
            "application/vnd.google.colaboratory.intrinsic+json": {
              "type": "string"
            },
            "text/plain": [
              "'springstoryreporterbuilder does not expose all properties in storyreporterbuilder here is a patch to start to fix it i was unsure on other properties https github com jbehave jbehave core pull '"
            ]
          },
          "metadata": {},
          "execution_count": 9
        }
      ],
      "source": [
        "df.loc[0,'summary']"
      ]
    },
    {
      "cell_type": "markdown",
      "metadata": {
        "id": "XNcromBFg60T"
      },
      "source": [
        "Now let's start working with out dataset!"
      ]
    },
    {
      "cell_type": "markdown",
      "metadata": {
        "id": "Cmt4OTWNg60U"
      },
      "source": [
        "# Speech Text Pre-Processing"
      ]
    },
    {
      "cell_type": "markdown",
      "metadata": {
        "id": "yVmD6ptFg60U"
      },
      "source": [
        "First, we need to clean our text data. When I went over a few speeches, I found each paragraph in the speech was numbered to distinctly identify it. There were obviously unwanted characters like newline character, a hyphen, salutations, and apostrophes, like in any other text dataset.\n",
        "\n",
        "But another unique and unwanted information present were the references made in each speech to other documents. We obviously don’t want that either.\n",
        "\n",
        "I have written a simple function to clean the speeches. **An important point here is that I haven’t used lemmatization or changed the words to lowercase as it has the potential to change the POS tag of the word.** We certainly don’t want to do that as you will see in the upcoming subsections."
      ]
    },
    {
      "cell_type": "code",
      "execution_count": null,
      "metadata": {
        "id": "AklrCFvyg60U"
      },
      "outputs": [],
      "source": [
        "# function to preprocess speech\n",
        "def clean(text):\n",
        "\n",
        "    # removing paragraph numbers\n",
        "    text = re.sub('[0-9]+.\\t','',str(text))\n",
        "    # removing new line characters\n",
        "    text = re.sub('\\n ','',str(text))\n",
        "    text = re.sub('\\n',' ',str(text))\n",
        "    # removing apostrophes\n",
        "    text = re.sub(\"'s\",'',str(text))\n",
        "    # removing hyphens\n",
        "    text = re.sub(\"-\",' ',str(text))\n",
        "    text = re.sub(\"— \",'',str(text))\n",
        "    # removing quotation marks\n",
        "    text = re.sub('\\\"','',str(text))\n",
        "    # removing salutations\n",
        "    text = re.sub(\"Mr\\.\",'Mr',str(text))\n",
        "    text = re.sub(\"Mrs\\.\",'Mrs',str(text))\n",
        "    # removing any reference to outside text\n",
        "    text = re.sub(\"[\\(\\[].*?[\\)\\]]\", \"\", str(text))\n",
        "\n",
        "    return text\n",
        "\n",
        "# preprocessing speeches\n",
        "df['Speech_clean'] = df['summary'].apply(clean)"
      ]
    },
    {
      "cell_type": "markdown",
      "metadata": {
        "id": "Eloj1wsug60U"
      },
      "source": [
        "Right, now that we have our minimally cleaned speeches, we can split it up into separate sentences."
      ]
    },
    {
      "cell_type": "markdown",
      "metadata": {
        "id": "xIh4_1oQg60U"
      },
      "source": [
        "# Split the Speech into Different Sentences"
      ]
    },
    {
      "cell_type": "markdown",
      "metadata": {
        "id": "VbyJjhVWg60U"
      },
      "source": [
        "Spliting our speeches into separate sentences will allow us to extract information from each sentence and later we can combine it to get cummulative information from any specific year."
      ]
    },
    {
      "cell_type": "code",
      "execution_count": null,
      "metadata": {
        "id": "3-f-4tzfg60V"
      },
      "outputs": [],
      "source": [
        "# split sentences\n",
        "def sentences(text):\n",
        "    # split sentences and questions\n",
        "    text = re.split('[.?]', text)\n",
        "    clean_sent = []\n",
        "    for sent in text:\n",
        "        clean_sent.append(sent)\n",
        "    return clean_sent\n",
        "\n",
        "# sentences\n",
        "df['sent'] = df['Speech_clean'].apply(sentences)"
      ]
    },
    {
      "cell_type": "code",
      "execution_count": null,
      "metadata": {
        "colab": {
          "base_uri": "https://localhost:8080/",
          "height": 206
        },
        "id": "ppb4EOxtg60V",
        "outputId": "2ad8e45c-3bef-4df0-a314-d26fde761646"
      },
      "outputs": [
        {
          "output_type": "execute_result",
          "data": {
            "text/html": [
              "<div>\n",
              "<style scoped>\n",
              "    .dataframe tbody tr th:only-of-type {\n",
              "        vertical-align: middle;\n",
              "    }\n",
              "\n",
              "    .dataframe tbody tr th {\n",
              "        vertical-align: top;\n",
              "    }\n",
              "\n",
              "    .dataframe thead th {\n",
              "        text-align: right;\n",
              "    }\n",
              "</style>\n",
              "<table border=\"1\" class=\"dataframe\">\n",
              "  <thead>\n",
              "    <tr style=\"text-align: right;\">\n",
              "      <th></th>\n",
              "      <th>summary</th>\n",
              "      <th>type</th>\n",
              "      <th>Speech_clean</th>\n",
              "      <th>sent</th>\n",
              "    </tr>\n",
              "  </thead>\n",
              "  <tbody>\n",
              "    <tr>\n",
              "      <th>0</th>\n",
              "      <td>springstoryreporterbuilder does not expose all...</td>\n",
              "      <td>Improvement</td>\n",
              "      <td>springstoryreporterbuilder does not expose all...</td>\n",
              "      <td>[springstoryreporterbuilder does not expose al...</td>\n",
              "    </tr>\n",
              "    <tr>\n",
              "      <th>1</th>\n",
              "      <td>storymaps could link back to story source or c...</td>\n",
              "      <td>Improvement</td>\n",
              "      <td>storymaps could link back to story source or c...</td>\n",
              "      <td>[storymaps could link back to story source or ...</td>\n",
              "    </tr>\n",
              "    <tr>\n",
              "      <th>2</th>\n",
              "      <td>add crossreference report as contributed by th...</td>\n",
              "      <td>New Feature</td>\n",
              "      <td>add crossreference report as contributed by th...</td>\n",
              "      <td>[add crossreference report as contributed by t...</td>\n",
              "    </tr>\n",
              "    <tr>\n",
              "      <th>3</th>\n",
              "      <td>allow configuration of storytimeoutinsecs via ...</td>\n",
              "      <td>Improvement</td>\n",
              "      <td>allow configuration of storytimeoutinsecs via ...</td>\n",
              "      <td>[allow configuration of storytimeoutinsecs via...</td>\n",
              "    </tr>\n",
              "    <tr>\n",
              "      <th>4</th>\n",
              "      <td>provide property based embeddercontrols an ext...</td>\n",
              "      <td>Improvement</td>\n",
              "      <td>provide property based embeddercontrols an ext...</td>\n",
              "      <td>[provide property based embeddercontrols an ex...</td>\n",
              "    </tr>\n",
              "  </tbody>\n",
              "</table>\n",
              "</div>"
            ],
            "text/plain": [
              "                                             summary  ...                                               sent\n",
              "0  springstoryreporterbuilder does not expose all...  ...  [springstoryreporterbuilder does not expose al...\n",
              "1  storymaps could link back to story source or c...  ...  [storymaps could link back to story source or ...\n",
              "2  add crossreference report as contributed by th...  ...  [add crossreference report as contributed by t...\n",
              "3  allow configuration of storytimeoutinsecs via ...  ...  [allow configuration of storytimeoutinsecs via...\n",
              "4  provide property based embeddercontrols an ext...  ...  [provide property based embeddercontrols an ex...\n",
              "\n",
              "[5 rows x 4 columns]"
            ]
          },
          "metadata": {},
          "execution_count": 12
        }
      ],
      "source": [
        "df.head()"
      ]
    },
    {
      "cell_type": "markdown",
      "metadata": {
        "id": "HbwUKvCCg60V"
      },
      "source": [
        "Finally, we can create a dataframe containing the sentences from different years:"
      ]
    },
    {
      "cell_type": "code",
      "source": [
        "df.head(20)"
      ],
      "metadata": {
        "colab": {
          "base_uri": "https://localhost:8080/",
          "height": 677
        },
        "id": "Ckia7MQDVG-r",
        "outputId": "fe0147cb-d4f5-4738-f942-6886f26dab81"
      },
      "execution_count": null,
      "outputs": [
        {
          "output_type": "execute_result",
          "data": {
            "text/html": [
              "<div>\n",
              "<style scoped>\n",
              "    .dataframe tbody tr th:only-of-type {\n",
              "        vertical-align: middle;\n",
              "    }\n",
              "\n",
              "    .dataframe tbody tr th {\n",
              "        vertical-align: top;\n",
              "    }\n",
              "\n",
              "    .dataframe thead th {\n",
              "        text-align: right;\n",
              "    }\n",
              "</style>\n",
              "<table border=\"1\" class=\"dataframe\">\n",
              "  <thead>\n",
              "    <tr style=\"text-align: right;\">\n",
              "      <th></th>\n",
              "      <th>summary</th>\n",
              "      <th>type</th>\n",
              "      <th>Speech_clean</th>\n",
              "      <th>sent</th>\n",
              "    </tr>\n",
              "  </thead>\n",
              "  <tbody>\n",
              "    <tr>\n",
              "      <th>0</th>\n",
              "      <td>springstoryreporterbuilder does not expose all...</td>\n",
              "      <td>Improvement</td>\n",
              "      <td>springstoryreporterbuilder does not expose all...</td>\n",
              "      <td>[springstoryreporterbuilder does not expose al...</td>\n",
              "    </tr>\n",
              "    <tr>\n",
              "      <th>1</th>\n",
              "      <td>storymaps could link back to story source or c...</td>\n",
              "      <td>Improvement</td>\n",
              "      <td>storymaps could link back to story source or c...</td>\n",
              "      <td>[storymaps could link back to story source or ...</td>\n",
              "    </tr>\n",
              "    <tr>\n",
              "      <th>2</th>\n",
              "      <td>add crossreference report as contributed by th...</td>\n",
              "      <td>New Feature</td>\n",
              "      <td>add crossreference report as contributed by th...</td>\n",
              "      <td>[add crossreference report as contributed by t...</td>\n",
              "    </tr>\n",
              "    <tr>\n",
              "      <th>3</th>\n",
              "      <td>allow configuration of storytimeoutinsecs via ...</td>\n",
              "      <td>Improvement</td>\n",
              "      <td>allow configuration of storytimeoutinsecs via ...</td>\n",
              "      <td>[allow configuration of storytimeoutinsecs via...</td>\n",
              "    </tr>\n",
              "    <tr>\n",
              "      <th>4</th>\n",
              "      <td>provide property based embeddercontrols an ext...</td>\n",
              "      <td>Improvement</td>\n",
              "      <td>provide property based embeddercontrols an ext...</td>\n",
              "      <td>[provide property based embeddercontrols an ex...</td>\n",
              "    </tr>\n",
              "    <tr>\n",
              "      <th>5</th>\n",
              "      <td>composite step is executing successfully when...</td>\n",
              "      <td>Bug</td>\n",
              "      <td>composite step is executing successfully when...</td>\n",
              "      <td>[ composite step is executing successfully whe...</td>\n",
              "    </tr>\n",
              "    <tr>\n",
              "      <th>6</th>\n",
              "      <td>generic parameter converter for enum classes i...</td>\n",
              "      <td>Improvement</td>\n",
              "      <td>generic parameter converter for enum classes i...</td>\n",
              "      <td>[generic parameter converter for enum classes ...</td>\n",
              "    </tr>\n",
              "    <tr>\n",
              "      <th>7</th>\n",
              "      <td>support for weld context and dependency inject...</td>\n",
              "      <td>New Feature</td>\n",
              "      <td>support for weld context and dependency inject...</td>\n",
              "      <td>[support for weld context and dependency injec...</td>\n",
              "    </tr>\n",
              "    <tr>\n",
              "      <th>8</th>\n",
              "      <td>add unoverridableembedder an extension of embe...</td>\n",
              "      <td>Improvement</td>\n",
              "      <td>add unoverridableembedder an extension of embe...</td>\n",
              "      <td>[add unoverridableembedder an extension of emb...</td>\n",
              "    </tr>\n",
              "    <tr>\n",
              "      <th>9</th>\n",
              "      <td>rename run with annotated embedder goal to run...</td>\n",
              "      <td>Improvement</td>\n",
              "      <td>rename run with annotated embedder goal to run...</td>\n",
              "      <td>[rename run with annotated embedder goal to ru...</td>\n",
              "    </tr>\n",
              "    <tr>\n",
              "      <th>10</th>\n",
              "      <td>givenstories should be able to be loaded relat...</td>\n",
              "      <td>Improvement</td>\n",
              "      <td>givenstories should be able to be loaded relat...</td>\n",
              "      <td>[givenstories should be able to be loaded rela...</td>\n",
              "    </tr>\n",
              "    <tr>\n",
              "      <th>11</th>\n",
              "      <td>afterstories xml and beforestories xml being c...</td>\n",
              "      <td>Bug</td>\n",
              "      <td>afterstories xml and beforestories xml being c...</td>\n",
              "      <td>[afterstories xml and beforestories xml being ...</td>\n",
              "    </tr>\n",
              "    <tr>\n",
              "      <th>12</th>\n",
              "      <td>if story is ' excluded ' because of meta filte...</td>\n",
              "      <td>New Feature</td>\n",
              "      <td>if story is ' excluded ' because of meta filte...</td>\n",
              "      <td>[if story is ' excluded ' because of meta filt...</td>\n",
              "    </tr>\n",
              "    <tr>\n",
              "      <th>13</th>\n",
              "      <td>examplestablefactory should load resources fro...</td>\n",
              "      <td>Improvement</td>\n",
              "      <td>examplestablefactory should load resources fro...</td>\n",
              "      <td>[examplestablefactory should load resources fr...</td>\n",
              "    </tr>\n",
              "    <tr>\n",
              "      <th>14</th>\n",
              "      <td>provide pending annotation to mark methods tha...</td>\n",
              "      <td>New Feature</td>\n",
              "      <td>provide pending annotation to mark methods tha...</td>\n",
              "      <td>[provide pending annotation to mark methods th...</td>\n",
              "    </tr>\n",
              "    <tr>\n",
              "      <th>15</th>\n",
              "      <td>null meta filters should be ignored in maven p...</td>\n",
              "      <td>Improvement</td>\n",
              "      <td>null meta filters should be ignored in maven p...</td>\n",
              "      <td>[null meta filters should be ignored in maven ...</td>\n",
              "    </tr>\n",
              "    <tr>\n",
              "      <th>16</th>\n",
              "      <td>ability to enqueue ad hoc stories asynchronous...</td>\n",
              "      <td>New Feature</td>\n",
              "      <td>ability to enqueue ad hoc stories asynchronous...</td>\n",
              "      <td>[ability to enqueue ad hoc stories asynchronou...</td>\n",
              "    </tr>\n",
              "    <tr>\n",
              "      <th>17</th>\n",
              "      <td>ensure utility methods should be independent o...</td>\n",
              "      <td>Improvement</td>\n",
              "      <td>ensure utility methods should be independent o...</td>\n",
              "      <td>[ensure utility methods should be independent ...</td>\n",
              "    </tr>\n",
              "    <tr>\n",
              "      <th>18</th>\n",
              "      <td>should not require a space before a new line c...</td>\n",
              "      <td>Bug</td>\n",
              "      <td>should not require a space before a new line c...</td>\n",
              "      <td>[should not require a space before a new line ...</td>\n",
              "    </tr>\n",
              "    <tr>\n",
              "      <th>19</th>\n",
              "      <td>should be able to have multiple scenarios in a...</td>\n",
              "      <td>New Feature</td>\n",
              "      <td>should be able to have multiple scenarios in a...</td>\n",
              "      <td>[should be able to have multiple scenarios in ...</td>\n",
              "    </tr>\n",
              "  </tbody>\n",
              "</table>\n",
              "</div>"
            ],
            "text/plain": [
              "                                              summary  ...                                               sent\n",
              "0   springstoryreporterbuilder does not expose all...  ...  [springstoryreporterbuilder does not expose al...\n",
              "1   storymaps could link back to story source or c...  ...  [storymaps could link back to story source or ...\n",
              "2   add crossreference report as contributed by th...  ...  [add crossreference report as contributed by t...\n",
              "3   allow configuration of storytimeoutinsecs via ...  ...  [allow configuration of storytimeoutinsecs via...\n",
              "4   provide property based embeddercontrols an ext...  ...  [provide property based embeddercontrols an ex...\n",
              "5    composite step is executing successfully when...  ...  [ composite step is executing successfully whe...\n",
              "6   generic parameter converter for enum classes i...  ...  [generic parameter converter for enum classes ...\n",
              "7   support for weld context and dependency inject...  ...  [support for weld context and dependency injec...\n",
              "8   add unoverridableembedder an extension of embe...  ...  [add unoverridableembedder an extension of emb...\n",
              "9   rename run with annotated embedder goal to run...  ...  [rename run with annotated embedder goal to ru...\n",
              "10  givenstories should be able to be loaded relat...  ...  [givenstories should be able to be loaded rela...\n",
              "11  afterstories xml and beforestories xml being c...  ...  [afterstories xml and beforestories xml being ...\n",
              "12  if story is ' excluded ' because of meta filte...  ...  [if story is ' excluded ' because of meta filt...\n",
              "13  examplestablefactory should load resources fro...  ...  [examplestablefactory should load resources fr...\n",
              "14  provide pending annotation to mark methods tha...  ...  [provide pending annotation to mark methods th...\n",
              "15  null meta filters should be ignored in maven p...  ...  [null meta filters should be ignored in maven ...\n",
              "16  ability to enqueue ad hoc stories asynchronous...  ...  [ability to enqueue ad hoc stories asynchronou...\n",
              "17  ensure utility methods should be independent o...  ...  [ensure utility methods should be independent ...\n",
              "18  should not require a space before a new line c...  ...  [should not require a space before a new line ...\n",
              "19  should be able to have multiple scenarios in a...  ...  [should be able to have multiple scenarios in ...\n",
              "\n",
              "[20 rows x 4 columns]"
            ]
          },
          "metadata": {},
          "execution_count": 13
        }
      ]
    },
    {
      "cell_type": "code",
      "source": [
        "df.loc[1,'sent']"
      ],
      "metadata": {
        "colab": {
          "base_uri": "https://localhost:8080/"
        },
        "id": "3BuQUU9qLTrk",
        "outputId": "bc4cfe91-dbac-4a40-fbad-fc35b3209caa"
      },
      "execution_count": null,
      "outputs": [
        {
          "output_type": "execute_result",
          "data": {
            "text/plain": [
              "['storymaps could link back to story source or colored htmlified story output refer http screencast com t g a ch x ca nt click the story name to go anywhere ']"
            ]
          },
          "metadata": {},
          "execution_count": 100
        }
      ]
    },
    {
      "cell_type": "code",
      "execution_count": null,
      "metadata": {
        "id": "SVzekIFJg60V"
      },
      "outputs": [],
      "source": [
        "# Create a dataframe containing sentences\n",
        "df2 = pd.DataFrame(columns=['Sent','Year','Len'])\n",
        "\n",
        "# List of sentences for new df\n",
        "row_list = []\n",
        "\n",
        "# for-loop to go over the df speeches\n",
        "for i in range(len(df)):\n",
        "\n",
        "    # for-loop to go over the sentences in the speech\n",
        "    for sent in df.loc[i,'sent']:\n",
        "\n",
        "        wordcount = len(sent.split())  # Word count\n",
        "        year = df.loc[i,'type']  # Year\n",
        "        dict1 = {'Year':year,'Sent':sent,'Len':wordcount}  # Dictionary\n",
        "        row_list.append(dict1)  # Append dictionary to list\n",
        "\n",
        "# Create the new df\n",
        "df2 = pd.DataFrame(row_list)"
      ]
    },
    {
      "cell_type": "code",
      "execution_count": null,
      "metadata": {
        "colab": {
          "base_uri": "https://localhost:8080/",
          "height": 206
        },
        "id": "izlRnV8Ig60V",
        "outputId": "c682a1dc-be64-445d-8f9a-d19be8bc712c"
      },
      "outputs": [
        {
          "output_type": "execute_result",
          "data": {
            "text/html": [
              "<div>\n",
              "<style scoped>\n",
              "    .dataframe tbody tr th:only-of-type {\n",
              "        vertical-align: middle;\n",
              "    }\n",
              "\n",
              "    .dataframe tbody tr th {\n",
              "        vertical-align: top;\n",
              "    }\n",
              "\n",
              "    .dataframe thead th {\n",
              "        text-align: right;\n",
              "    }\n",
              "</style>\n",
              "<table border=\"1\" class=\"dataframe\">\n",
              "  <thead>\n",
              "    <tr style=\"text-align: right;\">\n",
              "      <th></th>\n",
              "      <th>Year</th>\n",
              "      <th>Sent</th>\n",
              "      <th>Len</th>\n",
              "    </tr>\n",
              "  </thead>\n",
              "  <tbody>\n",
              "    <tr>\n",
              "      <th>0</th>\n",
              "      <td>Improvement</td>\n",
              "      <td>springstoryreporterbuilder does not expose all...</td>\n",
              "      <td>30</td>\n",
              "    </tr>\n",
              "    <tr>\n",
              "      <th>1</th>\n",
              "      <td>Improvement</td>\n",
              "      <td>storymaps could link back to story source or c...</td>\n",
              "      <td>30</td>\n",
              "    </tr>\n",
              "    <tr>\n",
              "      <th>2</th>\n",
              "      <td>New Feature</td>\n",
              "      <td>add crossreference report as contributed by th...</td>\n",
              "      <td>24</td>\n",
              "    </tr>\n",
              "    <tr>\n",
              "      <th>3</th>\n",
              "      <td>Improvement</td>\n",
              "      <td>allow configuration of storytimeoutinsecs via ...</td>\n",
              "      <td>27</td>\n",
              "    </tr>\n",
              "    <tr>\n",
              "      <th>4</th>\n",
              "      <td>Improvement</td>\n",
              "      <td>provide property based embeddercontrols an ext...</td>\n",
              "      <td>17</td>\n",
              "    </tr>\n",
              "  </tbody>\n",
              "</table>\n",
              "</div>"
            ],
            "text/plain": [
              "          Year                                               Sent  Len\n",
              "0  Improvement  springstoryreporterbuilder does not expose all...   30\n",
              "1  Improvement  storymaps could link back to story source or c...   30\n",
              "2  New Feature  add crossreference report as contributed by th...   24\n",
              "3  Improvement  allow configuration of storytimeoutinsecs via ...   27\n",
              "4  Improvement  provide property based embeddercontrols an ext...   17"
            ]
          },
          "metadata": {},
          "execution_count": 15
        }
      ],
      "source": [
        "df2.head()"
      ]
    },
    {
      "cell_type": "code",
      "execution_count": null,
      "metadata": {
        "colab": {
          "base_uri": "https://localhost:8080/"
        },
        "id": "_BDJq7GJg60W",
        "outputId": "b959eb49-2528-4492-896f-ce2cb84ab3d7"
      },
      "outputs": [
        {
          "output_type": "execute_result",
          "data": {
            "text/plain": [
              "(226, 3)"
            ]
          },
          "metadata": {},
          "execution_count": 103
        }
      ],
      "source": [
        "df2.shape"
      ]
    },
    {
      "cell_type": "markdown",
      "metadata": {
        "id": "cAyyOAopg60W"
      },
      "source": [
        "After performing this operation, we end up with 7150 sentences. Going over them and extracting information manually will be a difficult task. That’s why we are looking at Information Extraction using NLP techniques!"
      ]
    },
    {
      "cell_type": "markdown",
      "metadata": {
        "id": "7cTaAbVYg60W"
      },
      "source": [
        "# Information Extraction using SpaCy"
      ]
    },
    {
      "cell_type": "markdown",
      "metadata": {
        "id": "Xts1okacg60W"
      },
      "source": [
        "Now to get to the crux of the discussion at hand, Information Extraction. We will be using the [Spacy](https://www.analyticsvidhya.com/blog/2020/03/spacy-tutorial-learn-natural-language-processing/) library for working with the text data. It has all the necessary tools that we can exploit for all the tasks we need for Information Extraction."
      ]
    },
    {
      "cell_type": "markdown",
      "metadata": {
        "id": "CM4tpTkDg60X"
      },
      "source": [
        "Let me import the relevant SpaCy modules that we will require for the task ahead:"
      ]
    },
    {
      "cell_type": "code",
      "source": [
        "!pip install visualise_spacy_tree"
      ],
      "metadata": {
        "colab": {
          "base_uri": "https://localhost:8080/"
        },
        "id": "qSmVghC1L3m7",
        "outputId": "c3adb126-ade2-4168-fb41-34dfe49733cb"
      },
      "execution_count": null,
      "outputs": [
        {
          "output_type": "stream",
          "name": "stdout",
          "text": [
            "Collecting visualise_spacy_tree\n",
            "  Downloading visualise_spacy_tree-0.0.6-py3-none-any.whl (5.0 kB)\n",
            "Collecting pydot==1.4.1\n",
            "  Downloading pydot-1.4.1-py2.py3-none-any.whl (19 kB)\n",
            "Requirement already satisfied: pyparsing>=2.1.4 in /usr/local/lib/python3.7/dist-packages (from pydot==1.4.1->visualise_spacy_tree) (3.0.7)\n",
            "Installing collected packages: pydot, visualise-spacy-tree\n",
            "  Attempting uninstall: pydot\n",
            "    Found existing installation: pydot 1.3.0\n",
            "    Uninstalling pydot-1.3.0:\n",
            "      Successfully uninstalled pydot-1.3.0\n",
            "Successfully installed pydot-1.4.1 visualise-spacy-tree-0.0.6\n"
          ]
        }
      ]
    },
    {
      "cell_type": "code",
      "execution_count": null,
      "metadata": {
        "id": "uH6rM_XGg60X"
      },
      "outputs": [],
      "source": [
        "import spacy\n",
        "from spacy.matcher import Matcher\n",
        "\n",
        "from spacy import displacy\n",
        "import visualise_spacy_tree\n",
        "from IPython.display import Image, display\n",
        "\n",
        "# load english language model\n",
        "nlp = spacy.load('en_core_web_sm',disable=['ner','textcat'])"
      ]
    },
    {
      "cell_type": "markdown",
      "metadata": {
        "id": "KWbwavP3g60X"
      },
      "source": [
        "We will need the spaCy Matcher class to create a pattern to match phrases in the text. We’ll also require the displaCy module for visualizing the dependency graph of sentences.\n",
        "\n",
        "The **visualise_spacy_tree** library will be needed for creating a tree-like structure out of the Dependency graph. This helps in visualizing the graph in a better way. Finally, IPython Image and display classes are required to output the tree.\n",
        "\n",
        "But you don’t need to worry about these too much. It will become clear as you look at the code."
      ]
    },
    {
      "cell_type": "markdown",
      "metadata": {
        "heading_collapsed": true,
        "id": "X9mvQq4eg60X"
      },
      "source": [
        "## Information Extraction #1 – Finding Mentions of Prime Minister in the Speech"
      ]
    },
    {
      "cell_type": "markdown",
      "metadata": {
        "hidden": true,
        "id": "Bxnxqqdpg60X"
      },
      "source": [
        "When working on Information extraction task, it is important to manually go over a subset of the dataset to understand what the text is like and determine if anything catches your attention at first glance.\n",
        "\n",
        "When I first went over the speeches, I found out that many of them referred to what the Prime Minister had said, thought or achieved in the past. We know that a country is nothing without its leader. The destination a country ends up in is by and large the result of the able guidance of its leader. Therefore, I believe it is important to extract those sentences from the speeches that referred to Prime Ministers of India, and try and understand what their thinking and perspective was, and also try to unravel any common or differing beliefs over the years.\n",
        "\n",
        "To achieve this task, I used [Spacy's Matcher class](https://spacy.io/api/matcher). It allows you to match a sequence of words based on certain patterns. For the current task, we know that whenever a Prime Minister is reffered to in the speech, it will be in one of the following ways:\n",
        "* Prime Minister of [Country] ...\n",
        "* Prime Minister [Name] ...\n",
        "\n",
        "Using this general understanding one can come up with a pattern as follows:\n",
        "\n",
        "pattern = [{'LOWER':'prime'},\n",
        "\n",
        "           {'LOWER':'minister'},\n",
        "              \n",
        "           {'POS':'ADP','OP':'?'},\n",
        "              \n",
        "           {'POS':'PROPN'}]\n",
        "        \n",
        "Let me walk you through this pattern:     \n",
        "* Here, each dictionary in the list is a unique word.\n",
        "* The first and second words match the keyword \"Prime Minister\" irrespective of whether it is in uppercase or not, which is why I have included the key \"LOWER\".\n",
        "* The third keyword matches a word that is a preposition. What I am looking for here is the word \"of\". Now, as discussed before, it may or may not be present in the pattern, therefore, an additional key, \"OP\", is mentioned to point out just that.\n",
        "* Finally, the last keyword in the phrase should be a proper noun. This is either be the name of the country or name of the prime minister.\n",
        "* The matched keywords have to be in continuation otherwise the pattern will not match the phrase."
      ]
    },
    {
      "cell_type": "code",
      "execution_count": null,
      "metadata": {
        "hidden": true,
        "id": "8sye0Juyg60X"
      },
      "outputs": [],
      "source": [
        "# Function to find sentences containing PMs of India\n",
        "def find_names(text):\n",
        "\n",
        "    names = []\n",
        "\n",
        "    # Create a spacy doc\n",
        "    doc = nlp(text)\n",
        "\n",
        "    # Define the pattern\n",
        "    pattern = [{'LOWER':'prime'},\n",
        "              {'LOWER':'minister'},\n",
        "              {'POS':'ADP','OP':'?'},\n",
        "              {'POS':'PROPN'}]\n",
        "\n",
        "    # Matcher class object\n",
        "    matcher = Matcher(nlp.vocab)\n",
        "    matcher.add(\"names\", None, pattern)\n",
        "\n",
        "    matches = matcher(doc)\n",
        "\n",
        "    # Finding patterns in the text\n",
        "    for i in range(0,len(matches)):\n",
        "\n",
        "        # match: id, start, end\n",
        "        token = doc[matches[i][1]:matches[i][2]]\n",
        "        # append token to list\n",
        "        names.append(str(token))\n",
        "\n",
        "    # Only keep sentences containing Indian PMs\n",
        "    for name in names:\n",
        "        if (name.split()[2] == 'of') and (name.split()[3] != \"India\"):\n",
        "                names.remove(name)\n",
        "\n",
        "    return names\n",
        "\n",
        "# Apply function\n",
        "df2['PM_Names'] = df2['Sent'].apply(find_names)"
      ]
    },
    {
      "cell_type": "markdown",
      "metadata": {
        "hidden": true,
        "id": "dX-3zom_g60Y"
      },
      "source": [
        "Here are some sample sentences from the year 1984 that matched our pattern:"
      ]
    },
    {
      "cell_type": "code",
      "execution_count": null,
      "metadata": {
        "hidden": true,
        "id": "CsFfFRmvg60Y"
      },
      "outputs": [],
      "source": [
        "# look at sentences for a specific year\n",
        "for i in range(len(df2)):\n",
        "    if df2.loc[i,'Year'] in ['1984']:\n",
        "        if len(df2.loc[i,'PM_Names'])!=0:\n",
        "            print('->',df2.loc[i,'Sent'],'\\n')"
      ]
    },
    {
      "cell_type": "code",
      "execution_count": null,
      "metadata": {
        "hidden": true,
        "colab": {
          "base_uri": "https://localhost:8080/"
        },
        "id": "-5pWLKkrg60Y",
        "outputId": "5107e9af-0499-40e3-97ea-7a7911c0ad9b"
      },
      "outputs": [
        {
          "output_type": "stream",
          "name": "stdout",
          "text": [
            "0\n"
          ]
        }
      ],
      "source": [
        "count=0\n",
        "for i in range(len(df2)):\n",
        "    if len(df2.loc[i,'PM_Names'])!=0:\n",
        "        count+=1\n",
        "print(count)"
      ]
    },
    {
      "cell_type": "markdown",
      "metadata": {
        "hidden": true,
        "id": "QAN9w1rHg60Y"
      },
      "source": [
        "Now, since only 58 sentences out of 7150 total sentences gave an output that matched our pattern, I have summarised the relevant information from these outputs here:\n",
        "\n",
        "- PM Indira Gandhi and PM Jawaharlal Nehru believed in working together in unity and with the principles of the UN\n",
        "- PM Indira Gandhi believed in striking a balance between global production and consumption. She set out policies dedicated to national reconstruction and the consolidation of a secular and pluralistic political system\n",
        "- PM Indira Gandhi emphasized that India does not intervene in the internal affairs of other countries. However, this stand on foreign policy took a U-turn under PM Rajiv Gandhi when he signed an agreement with the Sri Lankan Prime Minister which brought peace to Sri Lanka\n",
        "- Both PM Indira Gandhi and PM Rajiv Gandhi believed in the link between economic development and protection of the environment\n",
        "- PM Rajiv Gandhi advocated for the disarmament of nuclear weapons, a belief that was upheld by India over the years\n",
        "- Indian, under different PMs, has always extended a hand of peace towards Pakistan over the years\n",
        "- PM Narendra Modi believes that economic empowerment and upliftment of any nation involves the empowerment of its women\n",
        "- PM Narendra Modi has launched several schemes that will help India achieve its SGD goals\n",
        "\n",
        "Using information extraction, we were able to isolate only a few sentences that we required that gave us maximum results."
      ]
    },
    {
      "cell_type": "markdown",
      "metadata": {
        "heading_collapsed": true,
        "id": "8k9MT4DQg60Z"
      },
      "source": [
        "## Information Extraction #2 – Finding Initiatives"
      ]
    },
    {
      "cell_type": "markdown",
      "metadata": {
        "hidden": true,
        "id": "uqXNJlZAg60Z"
      },
      "source": [
        "The second interesting thing I noticed while going through the speeches is that there were a lot of initiatives, schemes, agreements, conferences, programs, etc. that were mentioned in the speeches. For example, ‘Paris agreement’, ‘Simla Agreement’, ‘Conference on Security Council’, ‘Conference of Non Aligned Countries’, ‘International Solar Alliance’, ‘Skill India initiative’, etc.\n",
        "\n",
        "Extracting these would give us an idea about what are the priorities for India and whether there is a pattern as to why they are mentioned quite often in the speeches.\n",
        "\n",
        "I am going to refer to all the schemes, initiatives, conferences, programmes, etc. keywords as initiatives.\n",
        "\n",
        "To extract initiatives from the text, the first thing I am going to do is identify those sentences that talk about the initiatives. For that, I will use simple regex to select only those sentences that contain the keyword ‘initiative’, ‘scheme’, ‘agreement’, etc. This will reduce our search for the initiative pattern that we are looking for:"
      ]
    },
    {
      "cell_type": "code",
      "execution_count": null,
      "metadata": {
        "hidden": true,
        "colab": {
          "base_uri": "https://localhost:8080/"
        },
        "id": "By6AJFjFg60Z",
        "outputId": "33b6b668-6172-4311-fca9-2e5f9ce6ee74"
      },
      "outputs": [
        {
          "output_type": "stream",
          "name": "stderr",
          "text": [
            "/usr/local/lib/python3.7/dist-packages/ipykernel_launcher.py:19: DeprecationWarning: Flags not at the start of the expression '\\\\b(?i)plan\\\\b'\n",
            "/usr/local/lib/python3.7/dist-packages/ipykernel_launcher.py:19: DeprecationWarning: Flags not at the start of the expression '\\\\b(?i)programme\\\\b'\n",
            "/usr/local/lib/python3.7/dist-packages/ipykernel_launcher.py:19: DeprecationWarning: Flags not at the start of the expression '\\\\b(?i)scheme\\\\b'\n",
            "/usr/local/lib/python3.7/dist-packages/ipykernel_launcher.py:19: DeprecationWarning: Flags not at the start of the expression '\\\\b(?i)campaign\\\\b'\n",
            "/usr/local/lib/python3.7/dist-packages/ipykernel_launcher.py:19: DeprecationWarning: Flags not at the start of the expression '\\\\b(?i)initiative\\\\b'\n",
            "/usr/local/lib/python3.7/dist-packages/ipykernel_launcher.py:19: DeprecationWarning: Flags not at the start of the expression '\\\\b(?i)conference\\\\b'\n",
            "/usr/local/lib/python3.7/dist-packages/ipykernel_launcher.py:19: DeprecationWarning: Flags not at the start of the expression '\\\\b(?i)agreement\\\\b'\n",
            "/usr/local/lib/python3.7/dist-packages/ipykernel_launcher.py:19: DeprecationWarning: Flags not at the start of the expression '\\\\b(?i)alliance\\\\b'\n"
          ]
        }
      ],
      "source": [
        "# Function to check if keyswords like 'programs','schemes', etc. present in sentences\n",
        "\n",
        "def prog_sent(text):\n",
        "\n",
        "    patterns = [r'\\b(?i)'+'plan'+r'\\b',\n",
        "               r'\\b(?i)'+'programme'+r'\\b',\n",
        "               r'\\b(?i)'+'scheme'+r'\\b',\n",
        "               r'\\b(?i)'+'campaign'+r'\\b',\n",
        "               r'\\b(?i)'+'initiative'+r'\\b',\n",
        "               r'\\b(?i)'+'conference'+r'\\b',\n",
        "               r'\\b(?i)'+'agreement'+r'\\b',\n",
        "               r'\\b(?i)'+'alliance'+r'\\b']\n",
        "\n",
        "    output = []\n",
        "    flag = 0\n",
        "\n",
        "    # Look for patterns in the text\n",
        "    for pat in patterns:\n",
        "        if re.search(pat, text) != None:\n",
        "            flag = 1\n",
        "            break\n",
        "    return flag\n",
        "\n",
        "# Apply function\n",
        "df2['Check_Schemes'] = df2['Sent'].apply(prog_sent)"
      ]
    },
    {
      "cell_type": "code",
      "execution_count": null,
      "metadata": {
        "hidden": true,
        "colab": {
          "base_uri": "https://localhost:8080/"
        },
        "id": "bAJy7QrUg60Z",
        "outputId": "0340e66f-c4f1-4abd-da90-d31a79a3b8bb"
      },
      "outputs": [
        {
          "output_type": "stream",
          "name": "stdout",
          "text": [
            "0\n"
          ]
        }
      ],
      "source": [
        "# Sentences that contain the initiative words\n",
        "count = 0\n",
        "for i in range(len(df2)):\n",
        "    if df2.loc[i,'Check_Schemes'] == 1:\n",
        "        count+=1\n",
        "print(count)"
      ]
    },
    {
      "cell_type": "markdown",
      "metadata": {
        "hidden": true,
        "id": "hGOkBDnmg60a"
      },
      "source": [
        "Now, you might be thinking that our task is done here as we have already identified the sentences. We can easily look these up and determine what is being talked about in these sentences. But, think about it, not all of these will contain the initiative name. Some of these might be generally talking about initiatives but no initiative name might be present in them.\n",
        "\n",
        "Therefore, we need to come up with a better solution that extracts only those sentences that contain the initiative names. For that, I am going to use the spaCy Matcher, once again, to come up with a pattern that matches these initiatives.\n",
        "\n",
        "As you might have noticed, the initiative name is a proper noun that starts with a determiner and ends with either ‘initiative’/’programme’/’agreement’ etc. words in the end. It also includes an occasional preposition in the middle. I also noticed that most of the initiative names were between two to five words long. Keeping this in mind, I came up with the following pattern to match the initiative names:"
      ]
    },
    {
      "cell_type": "code",
      "execution_count": null,
      "metadata": {
        "hidden": true,
        "id": "4KR43BjWg60a"
      },
      "outputs": [],
      "source": [
        "# To extract initiatives using pattern matching\n",
        "def all_schemes(text,check):\n",
        "\n",
        "    schemes = []\n",
        "\n",
        "    doc = nlp(text)\n",
        "\n",
        "    # Initiatives keywords\n",
        "    prog_list = ['programme','scheme',\n",
        "                 'initiative','campaign',\n",
        "                 'agreement','conference',\n",
        "                 'alliance','plan']\n",
        "\n",
        "    # Define pattern to match initiatives names\n",
        "    pattern = [{'POS':'DET'},\n",
        "               {'POS':'PROPN','DEP':'compound'},\n",
        "               {'POS':'PROPN','DEP':'compound'},\n",
        "               {'POS':'PROPN','OP':'?'},\n",
        "               {'POS':'PROPN','OP':'?'},\n",
        "               {'POS':'PROPN','OP':'?'},\n",
        "               {'LOWER':{'IN':prog_list},'OP':'+'}\n",
        "              ]\n",
        "\n",
        "    if check == 0:\n",
        "        # return blank list\n",
        "        return schemes\n",
        "\n",
        "    # Matcher class object\n",
        "    matcher = Matcher(nlp.vocab)\n",
        "    matcher.add(\"matching\", None, pattern)\n",
        "    matches = matcher(doc)\n",
        "\n",
        "    for i in range(0,len(matches)):\n",
        "\n",
        "        # match: id, start, end\n",
        "        start, end = matches[i][1], matches[i][2]\n",
        "\n",
        "        if doc[start].pos_=='DET':\n",
        "            start = start+1\n",
        "\n",
        "        # matched string\n",
        "        span = str(doc[start:end])\n",
        "\n",
        "        if (len(schemes)!=0) and (schemes[-1] in span):\n",
        "            schemes[-1] = span\n",
        "        else:\n",
        "            schemes.append(span)\n",
        "\n",
        "    return schemes\n",
        "\n",
        "# apply function\n",
        "df2['Schemes1'] = df2.apply(lambda x:all_schemes(x.Sent,x.Check_Schemes),axis=1)"
      ]
    },
    {
      "cell_type": "markdown",
      "metadata": {
        "hidden": true,
        "id": "eTK2LbVhg60a"
      },
      "source": [
        "Lets see how many of the sentences contain an initiative name."
      ]
    },
    {
      "cell_type": "code",
      "execution_count": null,
      "metadata": {
        "hidden": true,
        "colab": {
          "base_uri": "https://localhost:8080/"
        },
        "id": "z3jNoO9Og60b",
        "outputId": "a0ed4f3a-e3fb-4f83-a16d-713bc9e7bac2"
      },
      "outputs": [
        {
          "output_type": "stream",
          "name": "stdout",
          "text": [
            "0\n"
          ]
        }
      ],
      "source": [
        "count = 0\n",
        "for i in range(len(df2)):\n",
        "    if len(df2.loc[i,'Schemes1'])!=0:\n",
        "        count+=1\n",
        "print(count)"
      ]
    },
    {
      "cell_type": "markdown",
      "metadata": {
        "hidden": true,
        "id": "fAnwzm2ig60b"
      },
      "source": [
        "62, not bad. Now lets have a look at a few of the outputs."
      ]
    },
    {
      "cell_type": "code",
      "execution_count": null,
      "metadata": {
        "hidden": true,
        "id": "bf6UAnNrg60b"
      },
      "outputs": [],
      "source": [
        "year = '2021'\n",
        "for i in range(len(df2)):\n",
        "    if df2.loc[i,'Year']==year:\n",
        "        if len(df2.loc[i,'Schemes1'])!=0:\n",
        "            print('->',df2.loc[i,'Year'],',',df2.loc[i,'Schemes1'],':')\n",
        "            print(df2.loc[i,'Sent'])"
      ]
    },
    {
      "cell_type": "markdown",
      "metadata": {
        "hidden": true,
        "id": "Gs78sp4Zg60c"
      },
      "source": [
        "But one thing I must point out here is that there were a lot more initiatives in the speeches that did not match our pattern. For example, in the year 2018, there were other initiatives too like “MUDRA”, ”Ujjwala”, ”Paris Agreement”, etc. So is there a better way to extract them?\n",
        "\n",
        "Remember how we looked at dependencies at the beginning of the article? Well, we are going to use those to make some rules to match the initiative name. But before making a rule, you need to understand how a sentence is structured, only then can you come up with a general rule to extract relevant information.\n",
        "\n",
        "To understand the structure of the sentence I am going to print the dependency graph of a sample example but in a tree fashion which gives a better intuition of the structure. Have a look below:"
      ]
    },
    {
      "cell_type": "code",
      "execution_count": null,
      "metadata": {
        "hidden": true,
        "colab": {
          "base_uri": "https://localhost:8080/",
          "height": 471
        },
        "id": "jtv3DJcvg60c",
        "outputId": "377596a2-913e-4481-e709-a1f47b8b1831"
      },
      "outputs": [
        {
          "output_type": "display_data",
          "data": {
            "image/png": "[encoded data removed]",
            "text/plain": [
              "<IPython.core.display.Image object>"
            ]
          },
          "metadata": {}
        }
      ],
      "source": [
        "# Printing dependency tree\n",
        "doc = nlp(' Last year, I spoke about the Ujjwala programme , through which, I am happy to report, 50 million free liquid-gas connections have been provided so far')\n",
        "png = visualise_spacy_tree.create_png(doc)\n",
        "display(Image(png))"
      ]
    },
    {
      "cell_type": "markdown",
      "metadata": {
        "hidden": true,
        "id": "YfrsXt1Dg60c"
      },
      "source": [
        "See how 'Ujjwala' is a child node of 'programme'. Have a look at another example."
      ]
    },
    {
      "cell_type": "code",
      "execution_count": null,
      "metadata": {
        "hidden": true,
        "colab": {
          "base_uri": "https://localhost:8080/",
          "height": 642
        },
        "id": "K1tauqvKg60d",
        "outputId": "e10b0771-10bc-4696-a04f-625db3e84113"
      },
      "outputs": [
        {
          "output_type": "display_data",
          "data": {
            "image/png": "[encoded data removed]",
            "text/plain": [
              "<IPython.core.display.Image object>"
            ]
          },
          "metadata": {}
        }
      ],
      "source": [
        "doc = nlp('Prime Minister Modi, together with the Prime Minister of France, launched the International Solar Alliance')\n",
        "png = visualise_spacy_tree.create_png(doc)\n",
        "display(Image(png))"
      ]
    },
    {
      "cell_type": "markdown",
      "metadata": {
        "hidden": true,
        "id": "Ffrp1PKig60d"
      },
      "source": [
        "Notice how the 'International Solar Alliance' is structured.\n",
        "\n",
        "You must got the idea by now that the initiative names are usually children of nodes that containing words like 'initiative','programme',etc. Based on this knowledge we can develop our own rule.\n",
        "\n",
        "The rule I am suggesting is pretty simple. Let me walk you through it.\n",
        "* I am going to look for tokens in sentences that contain my initiative keywords.\n",
        "* Then I am going to look at its subtree (or words dependent on it) using *token.subtree* and extract only those nodes/words that are proper nouns, since they are most likely going to contain the name of the initiative."
      ]
    },
    {
      "cell_type": "code",
      "execution_count": null,
      "metadata": {
        "hidden": true,
        "id": "vK5vWD5Tg60d"
      },
      "outputs": [],
      "source": [
        "# rule to extract initiative name\n",
        "def sent_subtree(text):\n",
        "\n",
        "    # pattern match for schemes or initiatives\n",
        "    patterns = [r'\\b(?i)'+'plan'+r'\\b',\n",
        "           r'\\b(?i)'+'programme'+r'\\b',\n",
        "           r'\\b(?i)'+'scheme'+r'\\b',\n",
        "           r'\\b(?i)'+'campaign'+r'\\b',\n",
        "           r'\\b(?i)'+'initiative'+r'\\b',\n",
        "           r'\\b(?i)'+'conference'+r'\\b',\n",
        "           r'\\b(?i)'+'agreement'+r'\\b',\n",
        "           r'\\b(?i)'+'alliance'+r'\\b']\n",
        "\n",
        "    schemes = []\n",
        "    doc = nlp(text)\n",
        "    flag = 0\n",
        "    # if no initiative present in sentence\n",
        "    for pat in patterns:\n",
        "\n",
        "        if re.search(pat, text) != None:\n",
        "            flag = 1\n",
        "            break\n",
        "\n",
        "    if flag == 0:\n",
        "        return schemes\n",
        "\n",
        "    # iterating over sentence tokens\n",
        "    for token in doc:\n",
        "\n",
        "        for pat in patterns:\n",
        "\n",
        "            # if we get a pattern match\n",
        "            if re.search(pat, token.text) != None:\n",
        "\n",
        "                word = ''\n",
        "                # iterating over token subtree\n",
        "                for node in token.subtree:\n",
        "                    # only extract the proper nouns\n",
        "                    if (node.pos_ == 'PROPN'):\n",
        "                        word += node.text+' '\n",
        "\n",
        "                if len(word)!=0:\n",
        "                    schemes.append(word)\n",
        "\n",
        "    return schemes\n",
        "\n",
        "# derive initiatives\n",
        "df2['Schemes2'] = df2['Sent'].apply(sent_subtree)"
      ]
    },
    {
      "cell_type": "markdown",
      "metadata": {
        "hidden": true,
        "id": "l35gAff-g60e"
      },
      "source": [
        "Now let's see if we did any better than the last approach."
      ]
    },
    {
      "cell_type": "code",
      "execution_count": null,
      "metadata": {
        "hidden": true,
        "colab": {
          "base_uri": "https://localhost:8080/"
        },
        "id": "kaijEFn3g60e",
        "outputId": "5cb6145a-0ffc-4333-a5cb-3f98dd6757b7"
      },
      "outputs": [
        {
          "output_type": "stream",
          "name": "stdout",
          "text": [
            "0\n"
          ]
        }
      ],
      "source": [
        "count = 0\n",
        "for i in range(len(df2)):\n",
        "    if len(df2.loc[i,'Schemes2'])!=0:\n",
        "        count+=1\n",
        "print(count)"
      ]
    },
    {
      "cell_type": "markdown",
      "metadata": {
        "hidden": true,
        "id": "0jHOh6vlg60e"
      },
      "source": [
        "Wow, we matched 273 entries! That is a significant improvement over the previous result. Lets go over some of the sample outputs."
      ]
    },
    {
      "cell_type": "code",
      "execution_count": null,
      "metadata": {
        "hidden": true,
        "id": "w08ghGYKg60e"
      },
      "outputs": [],
      "source": [
        "year = '2021'\n",
        "for i in range(len(df2)):\n",
        "    if df2.loc[i,'Year']==year:\n",
        "        if len(df2.loc[i,'Schemes2'])!=0:\n",
        "            print('->',df2.loc[i,'Year'],',',df2.loc[i,'Schemes2'],':')\n",
        "            print(df2.loc[i,'Sent'])"
      ]
    },
    {
      "cell_type": "markdown",
      "metadata": {
        "hidden": true,
        "id": "lp6gkK_jg60e"
      },
      "source": [
        "Out of 7000+ sentences, we were able to zero down to just 282 sentences that talked about initiatives. I looped over these outputs and below is how I would summarise the output:\n",
        "\n",
        "* There are a lot of different international initiatives or schemes that India has mentioned in its speeches. This goes to show that India has been an active member of the international community working towards building a better future by solving problems through these intiavtives.\n",
        "\n",
        "* Another point to highlight here is that the initiatives mentioned in the initial years have been more focused on those that concern the international coomunity. However, during recent times, especially after 2014, a lot of domestic initiatives have been mentioned in the speeches like 'Ayushman Bharat', 'Pradhan Mantri Jan Dhan Yojana', etc. This shows a shift in how the country percevies its role in the community. By mentioning a lot of domestic initiatives, India has started to put more of the domestic work in front of the international community to witness and, probably, even follow in their footsteps.\n",
        "\n",
        "Having said that, the results were definitely not perfect. There were instances when unwanted words were also got extracted with the initiative names. But the output derived by making our own rules was definitely better than the ones derived by using Spacy's pattern matcher. This goes to show the felixibility that one can achieve with making your own rules."
      ]
    },
    {
      "cell_type": "markdown",
      "metadata": {
        "heading_collapsed": true,
        "id": "zIVfR_lRg60e"
      },
      "source": [
        "## Finding Patterns in the Speeches"
      ]
    },
    {
      "cell_type": "code",
      "source": [],
      "metadata": {
        "id": "gmXaARxmjtlT"
      },
      "execution_count": null,
      "outputs": []
    },
    {
      "cell_type": "markdown",
      "metadata": {
        "hidden": true,
        "id": "J7gRzIbhg60e"
      },
      "source": [
        "So far, we extracted only that information that met our analytical eye when we skimmed over the data. But is there any other information hidden in our dataset? Surely there is and we are going to explore that by making our own rules using the dependency of the words, as we did in the previous section.\n",
        "\n",
        "But before that, I want to point out two things.\n",
        "\n",
        "First, when we are trying to understand the structure of the speech, we cannot look at the entire speech, that would take an eternity, and time is of the essence here. What we are going to do instead is look at random sentences from the dataset and then, based on their structure, try to come up with general rules to extract information.\n",
        "\n",
        "But how do we test the validity of these rules? That’s where my second point comes in! Not all of the rules that we come up with will yield satisfactory results. So, to sift out the irrelevant rules, we can look at the percentage of sentences that matched our rule out of all sentences. This will give us a fair idea about how well the rule is performing, and whether, in fact, there is any such general structure in the corpus!\n",
        "\n",
        "Another very important point that needs to be highlighted here is that any corpus is bound to contain long complex sentences. Working with these sentences to try and understand their structure will be a very difficult task. Therefore, we are going to look at smaller sentences. This will give us the opportunity to better understand their structure. So what’s the magic number? Let’s first look at how the sentence length varies in our corpus."
      ]
    },
    {
      "cell_type": "code",
      "execution_count": null,
      "metadata": {
        "hidden": true,
        "colab": {
          "base_uri": "https://localhost:8080/",
          "height": 265
        },
        "id": "eY5SxVvQg60f",
        "outputId": "b7354182-5106-4f1b-9f84-f6c1833786f7"
      },
      "outputs": [
        {
          "output_type": "display_data",
          "data": {
            "image/png": "[encoded data removed]",
            "text/plain": [
              "<Figure size 432x288 with 1 Axes>"
            ]
          },
          "metadata": {
            "needs_background": "light"
          }
        }
      ],
      "source": [
        "plt.hist(df2['Len'],bins=20,range=[0,100])\n",
        "plt.xticks(np.arange(0,100,5));"
      ]
    },
    {
      "cell_type": "markdown",
      "metadata": {
        "hidden": true,
        "id": "8mCxY8CJg60f"
      },
      "source": [
        "Looking at the histogram, we can see that most of the sentences range from 15-20 words. So I am going to work with sentences that have no more than 15 words."
      ]
    },
    {
      "cell_type": "code",
      "execution_count": null,
      "metadata": {
        "hidden": true,
        "id": "QRvlWmm0g60f"
      },
      "outputs": [],
      "source": [
        "row_list = []\n",
        "# df2 contains all sentences from all speeches\n",
        "for i in range(len(df2)):\n",
        "    sent = df2.loc[i,'Sent']\n",
        "\n",
        "    if (',' not in sent) and (len(sent.split()) <= 15):\n",
        "\n",
        "        year = df2.loc[i,'Year']\n",
        "        length = len(sent.split())\n",
        "\n",
        "        dict1 = {'Year':year,'Sent':sent,'Len':length}\n",
        "        row_list.append(dict1)\n",
        "\n",
        "# df with shorter sentences\n",
        "df3 = pd.DataFrame(columns=['Year','Sent',\"Len\"])\n",
        "df3 = pd.DataFrame(row_list)"
      ]
    },
    {
      "cell_type": "code",
      "execution_count": null,
      "metadata": {
        "hidden": true,
        "colab": {
          "base_uri": "https://localhost:8080/",
          "height": 143
        },
        "id": "I123BaZUg60f",
        "outputId": "2a02d7ff-7ed4-4d60-8671-2b6ee777a11b"
      },
      "outputs": [
        {
          "output_type": "execute_result",
          "data": {
            "text/html": [
              "<div>\n",
              "<style scoped>\n",
              "    .dataframe tbody tr th:only-of-type {\n",
              "        vertical-align: middle;\n",
              "    }\n",
              "\n",
              "    .dataframe tbody tr th {\n",
              "        vertical-align: top;\n",
              "    }\n",
              "\n",
              "    .dataframe thead th {\n",
              "        text-align: right;\n",
              "    }\n",
              "</style>\n",
              "<table border=\"1\" class=\"dataframe\">\n",
              "  <thead>\n",
              "    <tr style=\"text-align: right;\">\n",
              "      <th></th>\n",
              "      <th>Year</th>\n",
              "      <th>Sent</th>\n",
              "      <th>Len</th>\n",
              "    </tr>\n",
              "  </thead>\n",
              "  <tbody>\n",
              "    <tr>\n",
              "      <th>0</th>\n",
              "      <td>Improvement</td>\n",
              "      <td>extract candidatesteps interface extract candi...</td>\n",
              "      <td>15</td>\n",
              "    </tr>\n",
              "    <tr>\n",
              "      <th>1</th>\n",
              "      <td>New Feature</td>\n",
              "      <td>add saucelabs contextview should use the webdr...</td>\n",
              "      <td>14</td>\n",
              "    </tr>\n",
              "    <tr>\n",
              "      <th>2</th>\n",
              "      <td>New Feature</td>\n",
              "      <td>flash support a webdriverprovider implementati...</td>\n",
              "      <td>14</td>\n",
              "    </tr>\n",
              "  </tbody>\n",
              "</table>\n",
              "</div>"
            ],
            "text/plain": [
              "          Year                                               Sent  Len\n",
              "0  Improvement  extract candidatesteps interface extract candi...   15\n",
              "1  New Feature  add saucelabs contextview should use the webdr...   14\n",
              "2  New Feature  flash support a webdriverprovider implementati...   14"
            ]
          },
          "metadata": {},
          "execution_count": 34
        }
      ],
      "source": [
        "df3.head()"
      ]
    },
    {
      "cell_type": "markdown",
      "metadata": {
        "hidden": true,
        "id": "kycfJw7Gg60f"
      },
      "source": [
        "Now, lets come up with a function that will generate random sentences from this dataframe."
      ]
    },
    {
      "cell_type": "code",
      "execution_count": null,
      "metadata": {
        "hidden": true,
        "id": "aSt0NmKhg60f"
      },
      "outputs": [],
      "source": [
        "from random import randint\n",
        "def rand_sent(df):\n",
        "\n",
        "    index = randint(0, len(df))\n",
        "    print('Index = ',index)\n",
        "    doc = nlp(df.loc[index,'Sent'][1:])\n",
        "    displacy.render(doc, style='dep',jupyter=True)\n",
        "\n",
        "    return index"
      ]
    },
    {
      "cell_type": "code",
      "execution_count": null,
      "metadata": {
        "hidden": true,
        "colab": {
          "base_uri": "https://localhost:8080/",
          "height": 651
        },
        "id": "RVduhwDNg60g",
        "outputId": "50896a81-0617-4ebe-a4f9-7c15bf3f0991"
      },
      "outputs": [
        {
          "output_type": "stream",
          "name": "stdout",
          "text": [
            "Index =  1\n"
          ]
        },
        {
          "output_type": "display_data",
          "data": {
            "text/html": [
              "<span class=\"tex2jax_ignore\"><svg xmlns=\"http://www.w3.org/2000/svg\" xmlns:xlink=\"http://www.w3.org/1999/xlink\" xml:lang=\"en\" id=\"f50e6c44c6b2482880f5a6dbd4e3aeca-0\" class=\"displacy\" width=\"2500\" height=\"574.5\" direction=\"ltr\" style=\"max-width: none; height: 574.5px; color: #000000; background: #ffffff; font-family: Arial; direction: ltr\">\n",
              "<text class=\"displacy-token\" fill=\"currentColor\" text-anchor=\"middle\" y=\"484.5\">\n",
              "    <tspan class=\"displacy-word\" fill=\"currentColor\" x=\"50\">dd</tspan>\n",
              "    <tspan class=\"displacy-tag\" dy=\"2em\" fill=\"currentColor\" x=\"50\">PROPN</tspan>\n",
              "</text>\n",
              "\n",
              "<text class=\"displacy-token\" fill=\"currentColor\" text-anchor=\"middle\" y=\"484.5\">\n",
              "    <tspan class=\"displacy-word\" fill=\"currentColor\" x=\"225\">saucelabs</tspan>\n",
              "    <tspan class=\"displacy-tag\" dy=\"2em\" fill=\"currentColor\" x=\"225\">PROPN</tspan>\n",
              "</text>\n",
              "\n",
              "<text class=\"displacy-token\" fill=\"currentColor\" text-anchor=\"middle\" y=\"484.5\">\n",
              "    <tspan class=\"displacy-word\" fill=\"currentColor\" x=\"400\">contextview</tspan>\n",
              "    <tspan class=\"displacy-tag\" dy=\"2em\" fill=\"currentColor\" x=\"400\">PROPN</tspan>\n",
              "</text>\n",
              "\n",
              "<text class=\"displacy-token\" fill=\"currentColor\" text-anchor=\"middle\" y=\"484.5\">\n",
              "    <tspan class=\"displacy-word\" fill=\"currentColor\" x=\"575\">should</tspan>\n",
              "    <tspan class=\"displacy-tag\" dy=\"2em\" fill=\"currentColor\" x=\"575\">VERB</tspan>\n",
              "</text>\n",
              "\n",
              "<text class=\"displacy-token\" fill=\"currentColor\" text-anchor=\"middle\" y=\"484.5\">\n",
              "    <tspan class=\"displacy-word\" fill=\"currentColor\" x=\"750\">use</tspan>\n",
              "    <tspan class=\"displacy-tag\" dy=\"2em\" fill=\"currentColor\" x=\"750\">VERB</tspan>\n",
              "</text>\n",
              "\n",
              "<text class=\"displacy-token\" fill=\"currentColor\" text-anchor=\"middle\" y=\"484.5\">\n",
              "    <tspan class=\"displacy-word\" fill=\"currentColor\" x=\"925\">the</tspan>\n",
              "    <tspan class=\"displacy-tag\" dy=\"2em\" fill=\"currentColor\" x=\"925\">DET</tspan>\n",
              "</text>\n",
              "\n",
              "<text class=\"displacy-token\" fill=\"currentColor\" text-anchor=\"middle\" y=\"484.5\">\n",
              "    <tspan class=\"displacy-word\" fill=\"currentColor\" x=\"1100\">webdriver</tspan>\n",
              "    <tspan class=\"displacy-tag\" dy=\"2em\" fill=\"currentColor\" x=\"1100\">ADJ</tspan>\n",
              "</text>\n",
              "\n",
              "<text class=\"displacy-token\" fill=\"currentColor\" text-anchor=\"middle\" y=\"484.5\">\n",
              "    <tspan class=\"displacy-word\" fill=\"currentColor\" x=\"1275\">javascriptexecutor</tspan>\n",
              "    <tspan class=\"displacy-tag\" dy=\"2em\" fill=\"currentColor\" x=\"1275\">NOUN</tspan>\n",
              "</text>\n",
              "\n",
              "<text class=\"displacy-token\" fill=\"currentColor\" text-anchor=\"middle\" y=\"484.5\">\n",
              "    <tspan class=\"displacy-word\" fill=\"currentColor\" x=\"1450\">nature</tspan>\n",
              "    <tspan class=\"displacy-tag\" dy=\"2em\" fill=\"currentColor\" x=\"1450\">NOUN</tspan>\n",
              "</text>\n",
              "\n",
              "<text class=\"displacy-token\" fill=\"currentColor\" text-anchor=\"middle\" y=\"484.5\">\n",
              "    <tspan class=\"displacy-word\" fill=\"currentColor\" x=\"1625\">to</tspan>\n",
              "    <tspan class=\"displacy-tag\" dy=\"2em\" fill=\"currentColor\" x=\"1625\">PART</tspan>\n",
              "</text>\n",
              "\n",
              "<text class=\"displacy-token\" fill=\"currentColor\" text-anchor=\"middle\" y=\"484.5\">\n",
              "    <tspan class=\"displacy-word\" fill=\"currentColor\" x=\"1800\">send</tspan>\n",
              "    <tspan class=\"displacy-tag\" dy=\"2em\" fill=\"currentColor\" x=\"1800\">VERB</tspan>\n",
              "</text>\n",
              "\n",
              "<text class=\"displacy-token\" fill=\"currentColor\" text-anchor=\"middle\" y=\"484.5\">\n",
              "    <tspan class=\"displacy-word\" fill=\"currentColor\" x=\"1975\">current</tspan>\n",
              "    <tspan class=\"displacy-tag\" dy=\"2em\" fill=\"currentColor\" x=\"1975\">ADJ</tspan>\n",
              "</text>\n",
              "\n",
              "<text class=\"displacy-token\" fill=\"currentColor\" text-anchor=\"middle\" y=\"484.5\">\n",
              "    <tspan class=\"displacy-word\" fill=\"currentColor\" x=\"2150\">scenario</tspan>\n",
              "    <tspan class=\"displacy-tag\" dy=\"2em\" fill=\"currentColor\" x=\"2150\">NOUN</tspan>\n",
              "</text>\n",
              "\n",
              "<text class=\"displacy-token\" fill=\"currentColor\" text-anchor=\"middle\" y=\"484.5\">\n",
              "    <tspan class=\"displacy-word\" fill=\"currentColor\" x=\"2325\">context</tspan>\n",
              "    <tspan class=\"displacy-tag\" dy=\"2em\" fill=\"currentColor\" x=\"2325\">NOUN</tspan>\n",
              "</text>\n",
              "\n",
              "<g class=\"displacy-arrow\">\n",
              "    <path class=\"displacy-arc\" id=\"arrow-f50e6c44c6b2482880f5a6dbd4e3aeca-0-0\" stroke-width=\"2px\" d=\"M245,439.5 C245,352.0 380.0,352.0 380.0,439.5\" fill=\"none\" stroke=\"currentColor\"/>\n",
              "    <text dy=\"1.25em\" style=\"font-size: 0.8em; letter-spacing: 1px\">\n",
              "        <textPath xlink:href=\"#arrow-f50e6c44c6b2482880f5a6dbd4e3aeca-0-0\" class=\"displacy-label\" startOffset=\"50%\" side=\"left\" fill=\"currentColor\" text-anchor=\"middle\">compound</textPath>\n",
              "    </text>\n",
              "    <path class=\"displacy-arrowhead\" d=\"M245,441.5 L237,429.5 253,429.5\" fill=\"currentColor\"/>\n",
              "</g>\n",
              "\n",
              "<g class=\"displacy-arrow\">\n",
              "    <path class=\"displacy-arc\" id=\"arrow-f50e6c44c6b2482880f5a6dbd4e3aeca-0-1\" stroke-width=\"2px\" d=\"M420,439.5 C420,264.5 735.0,264.5 735.0,439.5\" fill=\"none\" stroke=\"currentColor\"/>\n",
              "    <text dy=\"1.25em\" style=\"font-size: 0.8em; letter-spacing: 1px\">\n",
              "        <textPath xlink:href=\"#arrow-f50e6c44c6b2482880f5a6dbd4e3aeca-0-1\" class=\"displacy-label\" startOffset=\"50%\" side=\"left\" fill=\"currentColor\" text-anchor=\"middle\">nsubj</textPath>\n",
              "    </text>\n",
              "    <path class=\"displacy-arrowhead\" d=\"M420,441.5 L412,429.5 428,429.5\" fill=\"currentColor\"/>\n",
              "</g>\n",
              "\n",
              "<g class=\"displacy-arrow\">\n",
              "    <path class=\"displacy-arc\" id=\"arrow-f50e6c44c6b2482880f5a6dbd4e3aeca-0-2\" stroke-width=\"2px\" d=\"M595,439.5 C595,352.0 730.0,352.0 730.0,439.5\" fill=\"none\" stroke=\"currentColor\"/>\n",
              "    <text dy=\"1.25em\" style=\"font-size: 0.8em; letter-spacing: 1px\">\n",
              "        <textPath xlink:href=\"#arrow-f50e6c44c6b2482880f5a6dbd4e3aeca-0-2\" class=\"displacy-label\" startOffset=\"50%\" side=\"left\" fill=\"currentColor\" text-anchor=\"middle\">aux</textPath>\n",
              "    </text>\n",
              "    <path class=\"displacy-arrowhead\" d=\"M595,441.5 L587,429.5 603,429.5\" fill=\"currentColor\"/>\n",
              "</g>\n",
              "\n",
              "<g class=\"displacy-arrow\">\n",
              "    <path class=\"displacy-arc\" id=\"arrow-f50e6c44c6b2482880f5a6dbd4e3aeca-0-3\" stroke-width=\"2px\" d=\"M945,439.5 C945,177.0 1440.0,177.0 1440.0,439.5\" fill=\"none\" stroke=\"currentColor\"/>\n",
              "    <text dy=\"1.25em\" style=\"font-size: 0.8em; letter-spacing: 1px\">\n",
              "        <textPath xlink:href=\"#arrow-f50e6c44c6b2482880f5a6dbd4e3aeca-0-3\" class=\"displacy-label\" startOffset=\"50%\" side=\"left\" fill=\"currentColor\" text-anchor=\"middle\">det</textPath>\n",
              "    </text>\n",
              "    <path class=\"displacy-arrowhead\" d=\"M945,441.5 L937,429.5 953,429.5\" fill=\"currentColor\"/>\n",
              "</g>\n",
              "\n",
              "<g class=\"displacy-arrow\">\n",
              "    <path class=\"displacy-arc\" id=\"arrow-f50e6c44c6b2482880f5a6dbd4e3aeca-0-4\" stroke-width=\"2px\" d=\"M1120,439.5 C1120,264.5 1435.0,264.5 1435.0,439.5\" fill=\"none\" stroke=\"currentColor\"/>\n",
              "    <text dy=\"1.25em\" style=\"font-size: 0.8em; letter-spacing: 1px\">\n",
              "        <textPath xlink:href=\"#arrow-f50e6c44c6b2482880f5a6dbd4e3aeca-0-4\" class=\"displacy-label\" startOffset=\"50%\" side=\"left\" fill=\"currentColor\" text-anchor=\"middle\">amod</textPath>\n",
              "    </text>\n",
              "    <path class=\"displacy-arrowhead\" d=\"M1120,441.5 L1112,429.5 1128,429.5\" fill=\"currentColor\"/>\n",
              "</g>\n",
              "\n",
              "<g class=\"displacy-arrow\">\n",
              "    <path class=\"displacy-arc\" id=\"arrow-f50e6c44c6b2482880f5a6dbd4e3aeca-0-5\" stroke-width=\"2px\" d=\"M1295,439.5 C1295,352.0 1430.0,352.0 1430.0,439.5\" fill=\"none\" stroke=\"currentColor\"/>\n",
              "    <text dy=\"1.25em\" style=\"font-size: 0.8em; letter-spacing: 1px\">\n",
              "        <textPath xlink:href=\"#arrow-f50e6c44c6b2482880f5a6dbd4e3aeca-0-5\" class=\"displacy-label\" startOffset=\"50%\" side=\"left\" fill=\"currentColor\" text-anchor=\"middle\">compound</textPath>\n",
              "    </text>\n",
              "    <path class=\"displacy-arrowhead\" d=\"M1295,441.5 L1287,429.5 1303,429.5\" fill=\"currentColor\"/>\n",
              "</g>\n",
              "\n",
              "<g class=\"displacy-arrow\">\n",
              "    <path class=\"displacy-arc\" id=\"arrow-f50e6c44c6b2482880f5a6dbd4e3aeca-0-6\" stroke-width=\"2px\" d=\"M770,439.5 C770,89.5 1445.0,89.5 1445.0,439.5\" fill=\"none\" stroke=\"currentColor\"/>\n",
              "    <text dy=\"1.25em\" style=\"font-size: 0.8em; letter-spacing: 1px\">\n",
              "        <textPath xlink:href=\"#arrow-f50e6c44c6b2482880f5a6dbd4e3aeca-0-6\" class=\"displacy-label\" startOffset=\"50%\" side=\"left\" fill=\"currentColor\" text-anchor=\"middle\">dobj</textPath>\n",
              "    </text>\n",
              "    <path class=\"displacy-arrowhead\" d=\"M1445.0,441.5 L1453.0,429.5 1437.0,429.5\" fill=\"currentColor\"/>\n",
              "</g>\n",
              "\n",
              "<g class=\"displacy-arrow\">\n",
              "    <path class=\"displacy-arc\" id=\"arrow-f50e6c44c6b2482880f5a6dbd4e3aeca-0-7\" stroke-width=\"2px\" d=\"M1645,439.5 C1645,352.0 1780.0,352.0 1780.0,439.5\" fill=\"none\" stroke=\"currentColor\"/>\n",
              "    <text dy=\"1.25em\" style=\"font-size: 0.8em; letter-spacing: 1px\">\n",
              "        <textPath xlink:href=\"#arrow-f50e6c44c6b2482880f5a6dbd4e3aeca-0-7\" class=\"displacy-label\" startOffset=\"50%\" side=\"left\" fill=\"currentColor\" text-anchor=\"middle\">aux</textPath>\n",
              "    </text>\n",
              "    <path class=\"displacy-arrowhead\" d=\"M1645,441.5 L1637,429.5 1653,429.5\" fill=\"currentColor\"/>\n",
              "</g>\n",
              "\n",
              "<g class=\"displacy-arrow\">\n",
              "    <path class=\"displacy-arc\" id=\"arrow-f50e6c44c6b2482880f5a6dbd4e3aeca-0-8\" stroke-width=\"2px\" d=\"M770,439.5 C770,2.0 1800.0,2.0 1800.0,439.5\" fill=\"none\" stroke=\"currentColor\"/>\n",
              "    <text dy=\"1.25em\" style=\"font-size: 0.8em; letter-spacing: 1px\">\n",
              "        <textPath xlink:href=\"#arrow-f50e6c44c6b2482880f5a6dbd4e3aeca-0-8\" class=\"displacy-label\" startOffset=\"50%\" side=\"left\" fill=\"currentColor\" text-anchor=\"middle\">xcomp</textPath>\n",
              "    </text>\n",
              "    <path class=\"displacy-arrowhead\" d=\"M1800.0,441.5 L1808.0,429.5 1792.0,429.5\" fill=\"currentColor\"/>\n",
              "</g>\n",
              "\n",
              "<g class=\"displacy-arrow\">\n",
              "    <path class=\"displacy-arc\" id=\"arrow-f50e6c44c6b2482880f5a6dbd4e3aeca-0-9\" stroke-width=\"2px\" d=\"M1995,439.5 C1995,352.0 2130.0,352.0 2130.0,439.5\" fill=\"none\" stroke=\"currentColor\"/>\n",
              "    <text dy=\"1.25em\" style=\"font-size: 0.8em; letter-spacing: 1px\">\n",
              "        <textPath xlink:href=\"#arrow-f50e6c44c6b2482880f5a6dbd4e3aeca-0-9\" class=\"displacy-label\" startOffset=\"50%\" side=\"left\" fill=\"currentColor\" text-anchor=\"middle\">amod</textPath>\n",
              "    </text>\n",
              "    <path class=\"displacy-arrowhead\" d=\"M1995,441.5 L1987,429.5 2003,429.5\" fill=\"currentColor\"/>\n",
              "</g>\n",
              "\n",
              "<g class=\"displacy-arrow\">\n",
              "    <path class=\"displacy-arc\" id=\"arrow-f50e6c44c6b2482880f5a6dbd4e3aeca-0-10\" stroke-width=\"2px\" d=\"M1820,439.5 C1820,264.5 2135.0,264.5 2135.0,439.5\" fill=\"none\" stroke=\"currentColor\"/>\n",
              "    <text dy=\"1.25em\" style=\"font-size: 0.8em; letter-spacing: 1px\">\n",
              "        <textPath xlink:href=\"#arrow-f50e6c44c6b2482880f5a6dbd4e3aeca-0-10\" class=\"displacy-label\" startOffset=\"50%\" side=\"left\" fill=\"currentColor\" text-anchor=\"middle\">dobj</textPath>\n",
              "    </text>\n",
              "    <path class=\"displacy-arrowhead\" d=\"M2135.0,441.5 L2143.0,429.5 2127.0,429.5\" fill=\"currentColor\"/>\n",
              "</g>\n",
              "\n",
              "<g class=\"displacy-arrow\">\n",
              "    <path class=\"displacy-arc\" id=\"arrow-f50e6c44c6b2482880f5a6dbd4e3aeca-0-11\" stroke-width=\"2px\" d=\"M1820,439.5 C1820,177.0 2315.0,177.0 2315.0,439.5\" fill=\"none\" stroke=\"currentColor\"/>\n",
              "    <text dy=\"1.25em\" style=\"font-size: 0.8em; letter-spacing: 1px\">\n",
              "        <textPath xlink:href=\"#arrow-f50e6c44c6b2482880f5a6dbd4e3aeca-0-11\" class=\"displacy-label\" startOffset=\"50%\" side=\"left\" fill=\"currentColor\" text-anchor=\"middle\">dobj</textPath>\n",
              "    </text>\n",
              "    <path class=\"displacy-arrowhead\" d=\"M2315.0,441.5 L2323.0,429.5 2307.0,429.5\" fill=\"currentColor\"/>\n",
              "</g>\n",
              "</svg></span>"
            ],
            "text/plain": [
              "<IPython.core.display.HTML object>"
            ]
          },
          "metadata": {}
        },
        {
          "output_type": "execute_result",
          "data": {
            "text/plain": [
              "1"
            ]
          },
          "metadata": {},
          "execution_count": 36
        }
      ],
      "source": [
        "rand_sent(df3)"
      ]
    },
    {
      "cell_type": "markdown",
      "metadata": {
        "hidden": true,
        "id": "N334IU0Rg60g"
      },
      "source": [
        "Finally, let's make a fucntion to evaluate the result of our rule."
      ]
    },
    {
      "cell_type": "code",
      "execution_count": null,
      "metadata": {
        "hidden": true,
        "id": "ROlX8Uh8g60g"
      },
      "outputs": [],
      "source": [
        "# function to check output percentage for a rule\n",
        "def output_per(df,out_col):\n",
        "\n",
        "    result = 0\n",
        "\n",
        "    for out in df[out_col]:\n",
        "        if len(out)!=0:\n",
        "            result+=1\n",
        "\n",
        "    per = result/len(df)\n",
        "    per *= 100\n",
        "\n",
        "    return per"
      ]
    },
    {
      "cell_type": "markdown",
      "metadata": {
        "hidden": true,
        "id": "i_WqU5pFg60g"
      },
      "source": [
        "Right, let's get down to the business of making some rules!"
      ]
    },
    {
      "cell_type": "markdown",
      "metadata": {
        "heading_collapsed": true,
        "id": "aRBDcjeug60g"
      },
      "source": [
        "## Information Extraction #3 – Rule on Noun-Verb-Noun Phrases"
      ]
    },
    {
      "cell_type": "markdown",
      "metadata": {
        "hidden": true,
        "id": "CTjVcvzyg60g"
      },
      "source": [
        "When you look at a sentence, it generally contains a **subject(noun), action(verb) and an object(noun)**. Rest of the words are just there to give us additional information about the entities. Therefore, we can leverage this basic structure to extract the main bits of information from the sentence. Take for example the following sentence:"
      ]
    },
    {
      "cell_type": "code",
      "execution_count": null,
      "metadata": {
        "hidden": true,
        "colab": {
          "base_uri": "https://localhost:8080/",
          "height": 432
        },
        "id": "HPglbAcXg60g",
        "outputId": "e4b59b52-bf85-4453-d2dd-73f85f1f975e"
      },
      "outputs": [
        {
          "output_type": "error",
          "ename": "KeyError",
          "evalue": "ignored",
          "traceback": [
            "\u001b[0;31m---------------------------------------------------------------------------\u001b[0m",
            "\u001b[0;31mValueError\u001b[0m                                Traceback (most recent call last)",
            "\u001b[0;32m/usr/local/lib/python3.7/dist-packages/pandas/core/indexes/range.py\u001b[0m in \u001b[0;36mget_loc\u001b[0;34m(self, key, method, tolerance)\u001b[0m\n\u001b[1;32m    354\u001b[0m                 \u001b[0;32mtry\u001b[0m\u001b[0;34m:\u001b[0m\u001b[0;34m\u001b[0m\u001b[0;34m\u001b[0m\u001b[0m\n\u001b[0;32m--> 355\u001b[0;31m                     \u001b[0;32mreturn\u001b[0m \u001b[0mself\u001b[0m\u001b[0;34m.\u001b[0m\u001b[0m_range\u001b[0m\u001b[0;34m.\u001b[0m\u001b[0mindex\u001b[0m\u001b[0;34m(\u001b[0m\u001b[0mnew_key\u001b[0m\u001b[0;34m)\u001b[0m\u001b[0;34m\u001b[0m\u001b[0;34m\u001b[0m\u001b[0m\n\u001b[0m\u001b[1;32m    356\u001b[0m                 \u001b[0;32mexcept\u001b[0m \u001b[0mValueError\u001b[0m \u001b[0;32mas\u001b[0m \u001b[0merr\u001b[0m\u001b[0;34m:\u001b[0m\u001b[0;34m\u001b[0m\u001b[0;34m\u001b[0m\u001b[0m\n",
            "\u001b[0;31mValueError\u001b[0m: 9 is not in range",
            "\nThe above exception was the direct cause of the following exception:\n",
            "\u001b[0;31mKeyError\u001b[0m                                  Traceback (most recent call last)",
            "\u001b[0;32m<ipython-input-38-08c0674ca38b>\u001b[0m in \u001b[0;36m<module>\u001b[0;34m()\u001b[0m\n\u001b[1;32m      2\u001b[0m \u001b[0;32mfrom\u001b[0m \u001b[0mpathlib\u001b[0m \u001b[0;32mimport\u001b[0m \u001b[0mPath\u001b[0m\u001b[0;34m\u001b[0m\u001b[0;34m\u001b[0m\u001b[0m\n\u001b[1;32m      3\u001b[0m \u001b[0;34m\u001b[0m\u001b[0m\n\u001b[0;32m----> 4\u001b[0;31m \u001b[0mtext\u001b[0m \u001b[0;34m=\u001b[0m \u001b[0mdf3\u001b[0m\u001b[0;34m.\u001b[0m\u001b[0mloc\u001b[0m\u001b[0;34m[\u001b[0m\u001b[0;36m9\u001b[0m\u001b[0;34m,\u001b[0m\u001b[0;34m'Sent'\u001b[0m\u001b[0;34m]\u001b[0m\u001b[0;34m[\u001b[0m\u001b[0;36m1\u001b[0m\u001b[0;34m:\u001b[0m\u001b[0;34m]\u001b[0m\u001b[0;34m\u001b[0m\u001b[0;34m\u001b[0m\u001b[0m\n\u001b[0m\u001b[1;32m      5\u001b[0m \u001b[0;34m\u001b[0m\u001b[0m\n\u001b[1;32m      6\u001b[0m \u001b[0mdoc\u001b[0m \u001b[0;34m=\u001b[0m \u001b[0mnlp\u001b[0m\u001b[0;34m(\u001b[0m\u001b[0mtext\u001b[0m\u001b[0;34m)\u001b[0m\u001b[0;34m\u001b[0m\u001b[0;34m\u001b[0m\u001b[0m\n",
            "\u001b[0;32m/usr/local/lib/python3.7/dist-packages/pandas/core/indexing.py\u001b[0m in \u001b[0;36m__getitem__\u001b[0;34m(self, key)\u001b[0m\n\u001b[1;32m    871\u001b[0m                     \u001b[0;31m# AttributeError for IntervalTree get_value\u001b[0m\u001b[0;34m\u001b[0m\u001b[0;34m\u001b[0m\u001b[0;34m\u001b[0m\u001b[0m\n\u001b[1;32m    872\u001b[0m                     \u001b[0;32mpass\u001b[0m\u001b[0;34m\u001b[0m\u001b[0;34m\u001b[0m\u001b[0m\n\u001b[0;32m--> 873\u001b[0;31m             \u001b[0;32mreturn\u001b[0m \u001b[0mself\u001b[0m\u001b[0;34m.\u001b[0m\u001b[0m_getitem_tuple\u001b[0m\u001b[0;34m(\u001b[0m\u001b[0mkey\u001b[0m\u001b[0;34m)\u001b[0m\u001b[0;34m\u001b[0m\u001b[0;34m\u001b[0m\u001b[0m\n\u001b[0m\u001b[1;32m    874\u001b[0m         \u001b[0;32melse\u001b[0m\u001b[0;34m:\u001b[0m\u001b[0;34m\u001b[0m\u001b[0;34m\u001b[0m\u001b[0m\n\u001b[1;32m    875\u001b[0m             \u001b[0;31m# we by definition only have the 0th axis\u001b[0m\u001b[0;34m\u001b[0m\u001b[0;34m\u001b[0m\u001b[0;34m\u001b[0m\u001b[0m\n",
            "\u001b[0;32m/usr/local/lib/python3.7/dist-packages/pandas/core/indexing.py\u001b[0m in \u001b[0;36m_getitem_tuple\u001b[0;34m(self, tup)\u001b[0m\n\u001b[1;32m   1042\u001b[0m     \u001b[0;32mdef\u001b[0m \u001b[0m_getitem_tuple\u001b[0m\u001b[0;34m(\u001b[0m\u001b[0mself\u001b[0m\u001b[0;34m,\u001b[0m \u001b[0mtup\u001b[0m\u001b[0;34m:\u001b[0m \u001b[0mTuple\u001b[0m\u001b[0;34m)\u001b[0m\u001b[0;34m:\u001b[0m\u001b[0;34m\u001b[0m\u001b[0;34m\u001b[0m\u001b[0m\n\u001b[1;32m   1043\u001b[0m         \u001b[0;32mtry\u001b[0m\u001b[0;34m:\u001b[0m\u001b[0;34m\u001b[0m\u001b[0;34m\u001b[0m\u001b[0m\n\u001b[0;32m-> 1044\u001b[0;31m             \u001b[0;32mreturn\u001b[0m \u001b[0mself\u001b[0m\u001b[0;34m.\u001b[0m\u001b[0m_getitem_lowerdim\u001b[0m\u001b[0;34m(\u001b[0m\u001b[0mtup\u001b[0m\u001b[0;34m)\u001b[0m\u001b[0;34m\u001b[0m\u001b[0;34m\u001b[0m\u001b[0m\n\u001b[0m\u001b[1;32m   1045\u001b[0m         \u001b[0;32mexcept\u001b[0m \u001b[0mIndexingError\u001b[0m\u001b[0;34m:\u001b[0m\u001b[0;34m\u001b[0m\u001b[0;34m\u001b[0m\u001b[0m\n\u001b[1;32m   1046\u001b[0m             \u001b[0;32mpass\u001b[0m\u001b[0;34m\u001b[0m\u001b[0;34m\u001b[0m\u001b[0m\n",
            "\u001b[0;32m/usr/local/lib/python3.7/dist-packages/pandas/core/indexing.py\u001b[0m in \u001b[0;36m_getitem_lowerdim\u001b[0;34m(self, tup)\u001b[0m\n\u001b[1;32m    784\u001b[0m                 \u001b[0;31m# We don't need to check for tuples here because those are\u001b[0m\u001b[0;34m\u001b[0m\u001b[0;34m\u001b[0m\u001b[0;34m\u001b[0m\u001b[0m\n\u001b[1;32m    785\u001b[0m                 \u001b[0;31m#  caught by the _is_nested_tuple_indexer check above.\u001b[0m\u001b[0;34m\u001b[0m\u001b[0;34m\u001b[0m\u001b[0;34m\u001b[0m\u001b[0m\n\u001b[0;32m--> 786\u001b[0;31m                 \u001b[0msection\u001b[0m \u001b[0;34m=\u001b[0m \u001b[0mself\u001b[0m\u001b[0;34m.\u001b[0m\u001b[0m_getitem_axis\u001b[0m\u001b[0;34m(\u001b[0m\u001b[0mkey\u001b[0m\u001b[0;34m,\u001b[0m \u001b[0maxis\u001b[0m\u001b[0;34m=\u001b[0m\u001b[0mi\u001b[0m\u001b[0;34m)\u001b[0m\u001b[0;34m\u001b[0m\u001b[0;34m\u001b[0m\u001b[0m\n\u001b[0m\u001b[1;32m    787\u001b[0m \u001b[0;34m\u001b[0m\u001b[0m\n\u001b[1;32m    788\u001b[0m                 \u001b[0;31m# We should never have a scalar section here, because\u001b[0m\u001b[0;34m\u001b[0m\u001b[0;34m\u001b[0m\u001b[0;34m\u001b[0m\u001b[0m\n",
            "\u001b[0;32m/usr/local/lib/python3.7/dist-packages/pandas/core/indexing.py\u001b[0m in \u001b[0;36m_getitem_axis\u001b[0;34m(self, key, axis)\u001b[0m\n\u001b[1;32m   1108\u001b[0m         \u001b[0;31m# fall thru to straight lookup\u001b[0m\u001b[0;34m\u001b[0m\u001b[0;34m\u001b[0m\u001b[0;34m\u001b[0m\u001b[0m\n\u001b[1;32m   1109\u001b[0m         \u001b[0mself\u001b[0m\u001b[0;34m.\u001b[0m\u001b[0m_validate_key\u001b[0m\u001b[0;34m(\u001b[0m\u001b[0mkey\u001b[0m\u001b[0;34m,\u001b[0m \u001b[0maxis\u001b[0m\u001b[0;34m)\u001b[0m\u001b[0;34m\u001b[0m\u001b[0;34m\u001b[0m\u001b[0m\n\u001b[0;32m-> 1110\u001b[0;31m         \u001b[0;32mreturn\u001b[0m \u001b[0mself\u001b[0m\u001b[0;34m.\u001b[0m\u001b[0m_get_label\u001b[0m\u001b[0;34m(\u001b[0m\u001b[0mkey\u001b[0m\u001b[0;34m,\u001b[0m \u001b[0maxis\u001b[0m\u001b[0;34m=\u001b[0m\u001b[0maxis\u001b[0m\u001b[0;34m)\u001b[0m\u001b[0;34m\u001b[0m\u001b[0;34m\u001b[0m\u001b[0m\n\u001b[0m\u001b[1;32m   1111\u001b[0m \u001b[0;34m\u001b[0m\u001b[0m\n\u001b[1;32m   1112\u001b[0m     \u001b[0;32mdef\u001b[0m \u001b[0m_get_slice_axis\u001b[0m\u001b[0;34m(\u001b[0m\u001b[0mself\u001b[0m\u001b[0;34m,\u001b[0m \u001b[0mslice_obj\u001b[0m\u001b[0;34m:\u001b[0m \u001b[0mslice\u001b[0m\u001b[0;34m,\u001b[0m \u001b[0maxis\u001b[0m\u001b[0;34m:\u001b[0m \u001b[0mint\u001b[0m\u001b[0;34m)\u001b[0m\u001b[0;34m:\u001b[0m\u001b[0;34m\u001b[0m\u001b[0;34m\u001b[0m\u001b[0m\n",
            "\u001b[0;32m/usr/local/lib/python3.7/dist-packages/pandas/core/indexing.py\u001b[0m in \u001b[0;36m_get_label\u001b[0;34m(self, label, axis)\u001b[0m\n\u001b[1;32m   1057\u001b[0m     \u001b[0;32mdef\u001b[0m \u001b[0m_get_label\u001b[0m\u001b[0;34m(\u001b[0m\u001b[0mself\u001b[0m\u001b[0;34m,\u001b[0m \u001b[0mlabel\u001b[0m\u001b[0;34m,\u001b[0m \u001b[0maxis\u001b[0m\u001b[0;34m:\u001b[0m \u001b[0mint\u001b[0m\u001b[0;34m)\u001b[0m\u001b[0;34m:\u001b[0m\u001b[0;34m\u001b[0m\u001b[0;34m\u001b[0m\u001b[0m\n\u001b[1;32m   1058\u001b[0m         \u001b[0;31m# GH#5667 this will fail if the label is not present in the axis.\u001b[0m\u001b[0;34m\u001b[0m\u001b[0;34m\u001b[0m\u001b[0;34m\u001b[0m\u001b[0m\n\u001b[0;32m-> 1059\u001b[0;31m         \u001b[0;32mreturn\u001b[0m \u001b[0mself\u001b[0m\u001b[0;34m.\u001b[0m\u001b[0mobj\u001b[0m\u001b[0;34m.\u001b[0m\u001b[0mxs\u001b[0m\u001b[0;34m(\u001b[0m\u001b[0mlabel\u001b[0m\u001b[0;34m,\u001b[0m \u001b[0maxis\u001b[0m\u001b[0;34m=\u001b[0m\u001b[0maxis\u001b[0m\u001b[0;34m)\u001b[0m\u001b[0;34m\u001b[0m\u001b[0;34m\u001b[0m\u001b[0m\n\u001b[0m\u001b[1;32m   1060\u001b[0m \u001b[0;34m\u001b[0m\u001b[0m\n\u001b[1;32m   1061\u001b[0m     \u001b[0;32mdef\u001b[0m \u001b[0m_handle_lowerdim_multi_index_axis0\u001b[0m\u001b[0;34m(\u001b[0m\u001b[0mself\u001b[0m\u001b[0;34m,\u001b[0m \u001b[0mtup\u001b[0m\u001b[0;34m:\u001b[0m \u001b[0mTuple\u001b[0m\u001b[0;34m)\u001b[0m\u001b[0;34m:\u001b[0m\u001b[0;34m\u001b[0m\u001b[0;34m\u001b[0m\u001b[0m\n",
            "\u001b[0;32m/usr/local/lib/python3.7/dist-packages/pandas/core/generic.py\u001b[0m in \u001b[0;36mxs\u001b[0;34m(self, key, axis, level, drop_level)\u001b[0m\n\u001b[1;32m   3491\u001b[0m             \u001b[0mloc\u001b[0m\u001b[0;34m,\u001b[0m \u001b[0mnew_index\u001b[0m \u001b[0;34m=\u001b[0m \u001b[0mself\u001b[0m\u001b[0;34m.\u001b[0m\u001b[0mindex\u001b[0m\u001b[0;34m.\u001b[0m\u001b[0mget_loc_level\u001b[0m\u001b[0;34m(\u001b[0m\u001b[0mkey\u001b[0m\u001b[0;34m,\u001b[0m \u001b[0mdrop_level\u001b[0m\u001b[0;34m=\u001b[0m\u001b[0mdrop_level\u001b[0m\u001b[0;34m)\u001b[0m\u001b[0;34m\u001b[0m\u001b[0;34m\u001b[0m\u001b[0m\n\u001b[1;32m   3492\u001b[0m         \u001b[0;32melse\u001b[0m\u001b[0;34m:\u001b[0m\u001b[0;34m\u001b[0m\u001b[0;34m\u001b[0m\u001b[0m\n\u001b[0;32m-> 3493\u001b[0;31m             \u001b[0mloc\u001b[0m \u001b[0;34m=\u001b[0m \u001b[0mself\u001b[0m\u001b[0;34m.\u001b[0m\u001b[0mindex\u001b[0m\u001b[0;34m.\u001b[0m\u001b[0mget_loc\u001b[0m\u001b[0;34m(\u001b[0m\u001b[0mkey\u001b[0m\u001b[0;34m)\u001b[0m\u001b[0;34m\u001b[0m\u001b[0;34m\u001b[0m\u001b[0m\n\u001b[0m\u001b[1;32m   3494\u001b[0m \u001b[0;34m\u001b[0m\u001b[0m\n\u001b[1;32m   3495\u001b[0m             \u001b[0;32mif\u001b[0m \u001b[0misinstance\u001b[0m\u001b[0;34m(\u001b[0m\u001b[0mloc\u001b[0m\u001b[0;34m,\u001b[0m \u001b[0mnp\u001b[0m\u001b[0;34m.\u001b[0m\u001b[0mndarray\u001b[0m\u001b[0;34m)\u001b[0m\u001b[0;34m:\u001b[0m\u001b[0;34m\u001b[0m\u001b[0;34m\u001b[0m\u001b[0m\n",
            "\u001b[0;32m/usr/local/lib/python3.7/dist-packages/pandas/core/indexes/range.py\u001b[0m in \u001b[0;36mget_loc\u001b[0;34m(self, key, method, tolerance)\u001b[0m\n\u001b[1;32m    355\u001b[0m                     \u001b[0;32mreturn\u001b[0m \u001b[0mself\u001b[0m\u001b[0;34m.\u001b[0m\u001b[0m_range\u001b[0m\u001b[0;34m.\u001b[0m\u001b[0mindex\u001b[0m\u001b[0;34m(\u001b[0m\u001b[0mnew_key\u001b[0m\u001b[0;34m)\u001b[0m\u001b[0;34m\u001b[0m\u001b[0;34m\u001b[0m\u001b[0m\n\u001b[1;32m    356\u001b[0m                 \u001b[0;32mexcept\u001b[0m \u001b[0mValueError\u001b[0m \u001b[0;32mas\u001b[0m \u001b[0merr\u001b[0m\u001b[0;34m:\u001b[0m\u001b[0;34m\u001b[0m\u001b[0;34m\u001b[0m\u001b[0m\n\u001b[0;32m--> 357\u001b[0;31m                     \u001b[0;32mraise\u001b[0m \u001b[0mKeyError\u001b[0m\u001b[0;34m(\u001b[0m\u001b[0mkey\u001b[0m\u001b[0;34m)\u001b[0m \u001b[0;32mfrom\u001b[0m \u001b[0merr\u001b[0m\u001b[0;34m\u001b[0m\u001b[0;34m\u001b[0m\u001b[0m\n\u001b[0m\u001b[1;32m    358\u001b[0m             \u001b[0;32mraise\u001b[0m \u001b[0mKeyError\u001b[0m\u001b[0;34m(\u001b[0m\u001b[0mkey\u001b[0m\u001b[0;34m)\u001b[0m\u001b[0;34m\u001b[0m\u001b[0;34m\u001b[0m\u001b[0m\n\u001b[1;32m    359\u001b[0m         \u001b[0;32mreturn\u001b[0m \u001b[0msuper\u001b[0m\u001b[0;34m(\u001b[0m\u001b[0;34m)\u001b[0m\u001b[0;34m.\u001b[0m\u001b[0mget_loc\u001b[0m\u001b[0;34m(\u001b[0m\u001b[0mkey\u001b[0m\u001b[0;34m,\u001b[0m \u001b[0mmethod\u001b[0m\u001b[0;34m=\u001b[0m\u001b[0mmethod\u001b[0m\u001b[0;34m,\u001b[0m \u001b[0mtolerance\u001b[0m\u001b[0;34m=\u001b[0m\u001b[0mtolerance\u001b[0m\u001b[0;34m)\u001b[0m\u001b[0;34m\u001b[0m\u001b[0;34m\u001b[0m\u001b[0m\n",
            "\u001b[0;31mKeyError\u001b[0m: 9"
          ]
        }
      ],
      "source": [
        "# To download dependency graphs to local folder\n",
        "from pathlib import Path\n",
        "\n",
        "text = df3.loc[9,'Sent'][1:]\n",
        "\n",
        "doc = nlp(text)\n",
        "img = displacy.render(doc, style='dep',jupyter=True)\n",
        "img\n",
        "\n",
        "# To save to folder\n",
        "# output_path = Path(\"./img1.svg\")\n",
        "# output_path.open(\"w\", encoding=\"utf-8\").write(img)"
      ]
    },
    {
      "cell_type": "markdown",
      "metadata": {
        "hidden": true,
        "id": "Gmsjo1ENg60h"
      },
      "source": [
        "What will be extracted is \"countries face threats\", which should give us a fair idea about what the sentence is trying to say.\n",
        "\n",
        "So lets look at how this rule fairs what we run it against the short sentences that are working with."
      ]
    },
    {
      "cell_type": "code",
      "execution_count": null,
      "metadata": {
        "hidden": true,
        "id": "Am9gig-Eg60h"
      },
      "outputs": [],
      "source": [
        "# Function for rule 1: noun(subject), verb, noun(object)\n",
        "def rule1(text):\n",
        "\n",
        "    doc = nlp(text)\n",
        "\n",
        "    sent = []\n",
        "\n",
        "    for token in doc:\n",
        "\n",
        "        # If the token is a verb\n",
        "        if (token.pos_=='VERB'):\n",
        "\n",
        "            phrase =''\n",
        "\n",
        "            # Only extract noun or pronoun subjects\n",
        "            for sub_tok in token.lefts:\n",
        "\n",
        "                if (sub_tok.dep_ in ['nsubj','nsubjpass']) and (sub_tok.pos_ in ['NOUN','PROPN','PRON']):\n",
        "\n",
        "                    # Add subject to the phrase\n",
        "                    phrase += sub_tok.text\n",
        "\n",
        "                    # Save the root of the word in phrase\n",
        "                    phrase += ' '+token.lemma_\n",
        "\n",
        "                    # Check for noun or pronoun direct objects\n",
        "                    for sub_tok in token.rights:\n",
        "\n",
        "                        # Save the object in the phrase\n",
        "                        if (sub_tok.dep_ in ['dobj']) and (sub_tok.pos_ in ['NOUN','PROPN']):\n",
        "\n",
        "                            phrase += ' '+sub_tok.text\n",
        "                            sent.append(phrase)\n",
        "\n",
        "    return sent"
      ]
    },
    {
      "cell_type": "markdown",
      "source": [
        "A continuacion creamos una regla nueva con los verbos modales:"
      ],
      "metadata": {
        "id": "jRTTmK-3vuJ_"
      }
    },
    {
      "cell_type": "code",
      "source": [
        "# Function for rule 1: noun(subject), verb, noun(object)\n",
        "def rule11(text):\n",
        "\n",
        "    doc = nlp(text)\n",
        "\n",
        "    sent = []\n",
        "\n",
        "    for token in doc:\n",
        "\n",
        "        # If the token is a verb\n",
        "        if (token.pos_=='VERB') and token.text in ('can', 'could', 'may', 'might', 'shall', 'should', 'will', 'would', 'must'):\n",
        "\n",
        "            phrase =''\n",
        "\n",
        "            #for sub_tok in token.rights:\n",
        "            print (token[1])\n",
        "\n",
        "            # Only extract noun or pronoun subjects\n",
        "            for sub_tok in token.lefts:\n",
        "\n",
        "                #if (sub_tok.dep_ in ['nsubj','nsubjpass']) and (sub_tok.pos_ in ['NOUN','PROPN','PRON']):\n",
        "                #if (1 = 1): # (sub_tok.pos_ in ['VERB']):\n",
        "\n",
        "                    print (sub_tok.text)\n",
        "                    # Add subject to the phrase\n",
        "                    phrase += sub_tok.text\n",
        "\n",
        "                    # Save the root of the word in phrase\n",
        "                    phrase += ' '+token.lemma_\n",
        "\n",
        "                    sent.append(phrase)\n",
        "\n",
        "                    # Check for noun or pronoun direct objects\n",
        "                    for sub_tok in token.rights:\n",
        "\n",
        "                        # Save the object in the phrase\n",
        "                        #if (sub_tok.dep_ in ['dobj']) and (sub_tok.pos_ in ['NOUN','PROPN']):\n",
        "\n",
        "                        phrase += ' '+sub_tok.text\n",
        "                        sent.append(phrase)\n",
        "\n",
        "    return sent"
      ],
      "metadata": {
        "id": "uuwXj69Sl584"
      },
      "execution_count": null,
      "outputs": []
    },
    {
      "cell_type": "code",
      "source": [
        "#rule1('allow annotation based configuration annotations based configuration can be preferable to some users investigate and implement annotation based alternatives to programmatic configuration which should always be possible')\n",
        "#rule1('I hope you enjoy Prague.')\n",
        "rule11('storymaps could link the sun back to story source or colored htmlified story output refer http screencast com t g a ch x ca nt click the story name to go anywhere')"
      ],
      "metadata": {
        "colab": {
          "base_uri": "https://localhost:8080/",
          "height": 356
        },
        "id": "ZspvmHBF4DtI",
        "outputId": "7d7621c9-c1ef-44db-804c-39d5a21a488c"
      },
      "execution_count": null,
      "outputs": [
        {
          "output_type": "error",
          "ename": "TypeError",
          "evalue": "ignored",
          "traceback": [
            "\u001b[0;31m---------------------------------------------------------------------------\u001b[0m",
            "\u001b[0;31mTypeError\u001b[0m                                 Traceback (most recent call last)",
            "\u001b[0;32m<ipython-input-24-86ea29be720f>\u001b[0m in \u001b[0;36m<module>\u001b[0;34m()\u001b[0m\n\u001b[1;32m      1\u001b[0m \u001b[0;31m#rule1('allow annotation based configuration annotations based configuration can be preferable to some users investigate and implement annotation based alternatives to programmatic configuration which should always be possible')\u001b[0m\u001b[0;34m\u001b[0m\u001b[0;34m\u001b[0m\u001b[0;34m\u001b[0m\u001b[0m\n\u001b[1;32m      2\u001b[0m \u001b[0;31m#rule1('I hope you enjoy Prague.')\u001b[0m\u001b[0;34m\u001b[0m\u001b[0;34m\u001b[0m\u001b[0;34m\u001b[0m\u001b[0m\n\u001b[0;32m----> 3\u001b[0;31m \u001b[0mrule11\u001b[0m\u001b[0;34m(\u001b[0m\u001b[0;34m'storymaps could link the sun back to story source or colored htmlified story output refer http screencast com t g a ch x ca nt click the story name to go anywhere'\u001b[0m\u001b[0;34m)\u001b[0m\u001b[0;34m\u001b[0m\u001b[0;34m\u001b[0m\u001b[0m\n\u001b[0m",
            "\u001b[0;32m<ipython-input-23-9170a93e4940>\u001b[0m in \u001b[0;36mrule11\u001b[0;34m(text)\u001b[0m\n\u001b[1;32m     14\u001b[0m \u001b[0;34m\u001b[0m\u001b[0m\n\u001b[1;32m     15\u001b[0m             \u001b[0;31m#for sub_tok in token.rights:\u001b[0m\u001b[0;34m\u001b[0m\u001b[0;34m\u001b[0m\u001b[0;34m\u001b[0m\u001b[0m\n\u001b[0;32m---> 16\u001b[0;31m             \u001b[0mprint\u001b[0m \u001b[0;34m(\u001b[0m\u001b[0mtoken\u001b[0m\u001b[0;34m[\u001b[0m\u001b[0;36m1\u001b[0m\u001b[0;34m]\u001b[0m\u001b[0;34m)\u001b[0m\u001b[0;34m\u001b[0m\u001b[0;34m\u001b[0m\u001b[0m\n\u001b[0m\u001b[1;32m     17\u001b[0m \u001b[0;34m\u001b[0m\u001b[0m\n\u001b[1;32m     18\u001b[0m             \u001b[0;31m# Only extract noun or pronoun subjects\u001b[0m\u001b[0;34m\u001b[0m\u001b[0;34m\u001b[0m\u001b[0;34m\u001b[0m\u001b[0m\n",
            "\u001b[0;31mTypeError\u001b[0m: 'spacy.tokens.token.Token' object is not subscriptable"
          ]
        }
      ]
    },
    {
      "cell_type": "code",
      "source": [
        "# Matcher is initialized with the shared vocab\n",
        "from spacy.matcher import Matcher\n",
        "# Each dict represents one token and its attributes\n",
        "matcher = Matcher(nlp.vocab)\n",
        "# Add with ID, optional callback and pattern(s)\n",
        "#pattern = [{\"LOWER\": \"new\"}, {\"LOWER\": \"york\"}]\n",
        "#pattern3 = [{\"POS\": \"VERB\", \"OP\": \"?\"}, {\"POS\": \"VERB\"}]\n",
        "#pattern4 = [{\"POS\": \"VERB\"},{\"LOWER\": \"'can', 'could', 'may', 'might', 'shall', 'should', 'will', 'would', 'must'\"}, {\"POS\": \"VERB\"}]\n",
        "pattern1 = [{\"POS\": \"VERB\",\"TEXT\": \"can\"}, {\"POS\": \"VERB\"}]\n",
        "pattern2 = [{\"POS\": \"VERB\",\"TEXT\": \"could\"}, {\"POS\": \"VERB\"}]\n",
        "pattern3 = [{\"POS\": \"VERB\",\"TEXT\": \"may\"}, {\"POS\": \"VERB\"}]\n",
        "pattern4 = [{\"POS\": \"VERB\",\"TEXT\": \"might\"}, {\"POS\": \"VERB\"}]\n",
        "pattern5 = [{\"POS\": \"VERB\",\"TEXT\": \"shall\"}, {\"POS\": \"VERB\"}]\n",
        "pattern6 = [{\"POS\": \"VERB\",\"TEXT\": \"should\"}, {\"POS\": \"VERB\"}]\n",
        "pattern7 = [{\"POS\": \"VERB\",\"TEXT\": \"will\"}, {\"POS\": \"VERB\"}]\n",
        "pattern8 = [{\"POS\": \"VERB\",\"TEXT\": \"would\"}, {\"POS\": \"VERB\"}]\n",
        "pattern9 = [{\"POS\": \"VERB\",\"TEXT\": \"must\"}, {\"POS\": \"VERB\"}]\n",
        "patternn = [{\"POS\": \"VERB\",\"TEXT\": \"can\", \"TEXT\": \"could\"}, {\"POS\": \"VERB\"}]\n",
        "\n",
        "matcher.add('P1', None, pattern1)\n",
        "matcher.add('P2', None, pattern2)\n",
        "matcher.add('P3', None, pattern3)\n",
        "matcher.add('P4', None, pattern4)\n",
        "matcher.add('P5', None, pattern5)\n",
        "matcher.add('P6', None, pattern6)\n",
        "matcher.add('P7', None, pattern7)\n",
        "matcher.add('P8', None, pattern8)\n",
        "matcher.add('P9', None, pattern9)\n",
        "\n",
        "# Match by calling the matcher on a Doc object\n",
        "#doc = nlp(\"I can live in New York\")\n",
        "doc = nlp(\"storymaps could link the sun back to story source or colored htmlified story output refer http screencast com t g a ch x ca nt click the story name to go anywhere\")\n",
        "matches = matcher(doc)\n",
        "# Matches are (match_id, start, end) tuples\n",
        "for match_id, start, end in matches:\n",
        "     # Get the matched span by slicing the Doc\n",
        "     span = doc[start:end]\n",
        "     print(span.text)\n",
        "# 'New York'"
      ],
      "metadata": {
        "colab": {
          "base_uri": "https://localhost:8080/"
        },
        "id": "BatPDAvAKm23",
        "outputId": "69912edf-e13c-407a-9b06-9cf24860135c"
      },
      "execution_count": null,
      "outputs": [
        {
          "output_type": "stream",
          "name": "stdout",
          "text": [
            "could link\n"
          ]
        }
      ]
    },
    {
      "cell_type": "code",
      "execution_count": null,
      "metadata": {
        "hidden": true,
        "colab": {
          "base_uri": "https://localhost:8080/"
        },
        "id": "XVZzlu8fg60h",
        "outputId": "579cde40-10a7-48f7-a3ce-8907a27dbc0b"
      },
      "outputs": [
        {
          "output_type": "execute_result",
          "data": {
            "text/plain": [
              "33.33333333333333"
            ]
          },
          "metadata": {},
          "execution_count": 50
        }
      ],
      "source": [
        "# Create a df containing sentence and its output for rule 1\n",
        "row_list = []\n",
        "\n",
        "for i in range(len(df3)):\n",
        "\n",
        "    sent = df3.loc[i,'Sent']\n",
        "    year = df3.loc[i,'Year']\n",
        "    output = rule1(sent)\n",
        "    dict1 = {'Year':year,'Sent':sent,'Output':output}\n",
        "    row_list.append(dict1)\n",
        "\n",
        "df_rule1 = pd.DataFrame(row_list)\n",
        "\n",
        "# Rule 1 achieves 20% result on simple sentences\n",
        "output_per(df_rule1,'Output')"
      ]
    },
    {
      "cell_type": "code",
      "source": [
        "# Create a df containing sentence and its output for rule 1\n",
        "#print(df3)\n",
        "row_list = []\n",
        "\n",
        "for i in range(len(df2)):\n",
        "\n",
        "    sent = df2.loc[i,'Sent']\n",
        "    year = df2.loc[i,'Year']\n",
        "    output = rule11(sent)\n",
        "    dict1 = {'Year':year,'Sent':sent,'Output':output}\n",
        "    row_list.append(dict1)\n",
        "\n",
        "df_rule1 = pd.DataFrame(row_list)\n",
        "df_rule1.to_csv('prueba.csv')\n",
        "#print(df_rule1)\n",
        "# Rule 1 achieves 20% result on simple sentences\n",
        "#output_per(df_rule1,'Output')"
      ],
      "metadata": {
        "colab": {
          "base_uri": "https://localhost:8080/"
        },
        "id": "KOZvnkaHmrL7",
        "outputId": "5739c36c-56ff-44fa-9923-7f9b91d7949c"
      },
      "execution_count": null,
      "outputs": [
        {
          "output_type": "stream",
          "name": "stdout",
          "text": [
            "z\n",
            "delegatingwebdriverprovider\n"
          ]
        }
      ]
    },
    {
      "cell_type": "markdown",
      "metadata": {
        "hidden": true,
        "id": "5Ao1spsKg60h"
      },
      "source": [
        "We are getting more than 20% pattern match for our rule, we can check it for all the sentences in the corpus."
      ]
    },
    {
      "cell_type": "code",
      "execution_count": null,
      "metadata": {
        "hidden": true,
        "colab": {
          "base_uri": "https://localhost:8080/"
        },
        "id": "ZwcHyrptg60h",
        "outputId": "87ee36d3-01ac-4029-b80f-73b495975e27"
      },
      "outputs": [
        {
          "output_type": "execute_result",
          "data": {
            "text/plain": [
              "43.80530973451327"
            ]
          },
          "metadata": {},
          "execution_count": 137
        }
      ],
      "source": [
        "# Create a df containing sentence and its output for rule 1\n",
        "row_list = []\n",
        "\n",
        "# df2 contains all the sentences from all the speeches\n",
        "for i in range(len(df2)):\n",
        "\n",
        "    sent = df2.loc[i,'Sent']\n",
        "    year = df2.loc[i,'Year']\n",
        "    output = rule1(sent)\n",
        "    dict1 = {'Year':year,'Sent':sent,'Output':output}\n",
        "    row_list.append(dict1)\n",
        "\n",
        "df_rule1_all = pd.DataFrame(row_list)\n",
        "\n",
        "# Check rule1 output on complete speeches\n",
        "output_per(df_rule1_all,'Output')"
      ]
    },
    {
      "cell_type": "markdown",
      "metadata": {
        "hidden": true,
        "id": "a0RjEd5ug60h"
      },
      "source": [
        "We are getting more than a 30% match for our rules, which means 2226 out of 7150 sentences matched this pattern. Let’s form a new dataframe containing only those sentences that have an output and then segregate the verb from the nouns:"
      ]
    },
    {
      "cell_type": "code",
      "execution_count": null,
      "metadata": {
        "hidden": true,
        "id": "9iFsnPXag60i"
      },
      "outputs": [],
      "source": [
        "# selecting non-empty output rows\n",
        "df_show = pd.DataFrame(columns=df_rule1_all.columns)\n",
        "\n",
        "for row in range(len(df_rule1_all)):\n",
        "\n",
        "    if len(df_rule1_all.loc[row,'Output'])!=0:\n",
        "        df_show = df_show.append(df_rule1_all.loc[row,:])\n",
        "\n",
        "# reset the index\n",
        "df_show.reset_index(inplace=True)\n",
        "df_show.drop('index',axis=1,inplace=True)"
      ]
    },
    {
      "cell_type": "code",
      "execution_count": null,
      "metadata": {
        "hidden": true,
        "colab": {
          "base_uri": "https://localhost:8080/"
        },
        "id": "QtPGslbdg60i",
        "outputId": "846a249a-0dac-4c2c-d24c-137ab83cd4fd"
      },
      "outputs": [
        {
          "output_type": "execute_result",
          "data": {
            "text/plain": [
              "((226, 3), (99, 3))"
            ]
          },
          "metadata": {},
          "execution_count": 139
        }
      ],
      "source": [
        "df_rule1_all.shape, df_show.shape"
      ]
    },
    {
      "cell_type": "code",
      "execution_count": null,
      "metadata": {
        "hidden": true,
        "id": "RouY-0Yfg60i"
      },
      "outputs": [],
      "source": [
        "# separate subject, verb and object\n",
        "\n",
        "verb_dict = dict()\n",
        "dis_dict = dict()\n",
        "dis_list = []\n",
        "\n",
        "# iterating over all the sentences\n",
        "for i in range(len(df_show)):\n",
        "\n",
        "    # sentence containing the output\n",
        "    sentence = df_show.loc[i,'Sent']\n",
        "    # year of the sentence\n",
        "    year = df_show.loc[i,'Year']\n",
        "    # output of the sentence\n",
        "    output = df_show.loc[i,'Output']\n",
        "\n",
        "    # iterating over all the outputs from the sentence\n",
        "    for sent in output:\n",
        "\n",
        "        # separate subject, verb and object\n",
        "        n1 = sent.split()[:1]\n",
        "        v = sent.split()[1]\n",
        "        n2 = sent.split()[2:]\n",
        "\n",
        "        # append to list, along with the sentence\n",
        "        dis_dict = {'Sent':sentence,'Year':year,'Noun1':n1,'Verb':v,'Noun2':n2}\n",
        "        dis_list.append(dis_dict)\n",
        "\n",
        "        # counting the number of sentences containing the verb\n",
        "        verb = sent.split()[1]\n",
        "        if verb in verb_dict:\n",
        "            verb_dict[verb]+=1\n",
        "        else:\n",
        "            verb_dict[verb]=1\n",
        "\n",
        "df_sep = pd.DataFrame(dis_list)"
      ]
    },
    {
      "cell_type": "markdown",
      "metadata": {
        "hidden": true,
        "id": "4QSRPkAyg60i"
      },
      "source": [
        "We can seperate the verb from the subject noun and object noun. This will allows us to better analyse the result."
      ]
    },
    {
      "cell_type": "code",
      "execution_count": null,
      "metadata": {
        "hidden": true,
        "scrolled": false,
        "colab": {
          "base_uri": "https://localhost:8080/",
          "height": 206
        },
        "id": "E9z1K-bTg60i",
        "outputId": "e6dfd3be-5631-4200-f2d8-58bc675b492c"
      },
      "outputs": [
        {
          "output_type": "execute_result",
          "data": {
            "text/html": [
              "<div>\n",
              "<style scoped>\n",
              "    .dataframe tbody tr th:only-of-type {\n",
              "        vertical-align: middle;\n",
              "    }\n",
              "\n",
              "    .dataframe tbody tr th {\n",
              "        vertical-align: top;\n",
              "    }\n",
              "\n",
              "    .dataframe thead th {\n",
              "        text-align: right;\n",
              "    }\n",
              "</style>\n",
              "<table border=\"1\" class=\"dataframe\">\n",
              "  <thead>\n",
              "    <tr style=\"text-align: right;\">\n",
              "      <th></th>\n",
              "      <th>Sent</th>\n",
              "      <th>Year</th>\n",
              "      <th>Noun1</th>\n",
              "      <th>Verb</th>\n",
              "      <th>Noun2</th>\n",
              "    </tr>\n",
              "  </thead>\n",
              "  <tbody>\n",
              "    <tr>\n",
              "      <th>0</th>\n",
              "      <td>springstoryreporterbuilder does not expose all...</td>\n",
              "      <td>Improvement</td>\n",
              "      <td>[springstoryreporterbuilder]</td>\n",
              "      <td>expose</td>\n",
              "      <td>[properties]</td>\n",
              "    </tr>\n",
              "    <tr>\n",
              "      <th>1</th>\n",
              "      <td>generic parameter converter for enum classes i...</td>\n",
              "      <td>Improvement</td>\n",
              "      <td>[you]</td>\n",
              "      <td>convert</td>\n",
              "      <td>[fields]</td>\n",
              "    </tr>\n",
              "    <tr>\n",
              "      <th>2</th>\n",
              "      <td>support for weld context and dependency inject...</td>\n",
              "      <td>New Feature</td>\n",
              "      <td>[support]</td>\n",
              "      <td>provide</td>\n",
              "      <td>[support]</td>\n",
              "    </tr>\n",
              "    <tr>\n",
              "      <th>3</th>\n",
              "      <td>rename run with annotated embedder goal to run...</td>\n",
              "      <td>Improvement</td>\n",
              "      <td>[we]</td>\n",
              "      <td>keep</td>\n",
              "      <td>[name]</td>\n",
              "    </tr>\n",
              "    <tr>\n",
              "      <th>4</th>\n",
              "      <td>if story is ' excluded ' because of meta filte...</td>\n",
              "      <td>New Feature</td>\n",
              "      <td>[we]</td>\n",
              "      <td>need</td>\n",
              "      <td>[way]</td>\n",
              "    </tr>\n",
              "  </tbody>\n",
              "</table>\n",
              "</div>"
            ],
            "text/plain": [
              "                                                Sent  ...         Noun2\n",
              "0  springstoryreporterbuilder does not expose all...  ...  [properties]\n",
              "1  generic parameter converter for enum classes i...  ...      [fields]\n",
              "2  support for weld context and dependency inject...  ...     [support]\n",
              "3  rename run with annotated embedder goal to run...  ...        [name]\n",
              "4  if story is ' excluded ' because of meta filte...  ...         [way]\n",
              "\n",
              "[5 rows x 5 columns]"
            ]
          },
          "metadata": {},
          "execution_count": 141
        }
      ],
      "source": [
        "df_sep.head()"
      ]
    },
    {
      "cell_type": "markdown",
      "metadata": {
        "hidden": true,
        "id": "Y32Yzq9xg60i"
      },
      "source": [
        "Lets take a look at the top occuring verbs used in the sentences."
      ]
    },
    {
      "cell_type": "code",
      "execution_count": null,
      "metadata": {
        "hidden": true,
        "colab": {
          "base_uri": "https://localhost:8080/"
        },
        "id": "u5RkJGj3g60j",
        "outputId": "2f31032d-0ed5-4092-f8df-9dfd84b4d824"
      },
      "outputs": [
        {
          "output_type": "execute_result",
          "data": {
            "text/plain": [
              "[('use', 7),\n",
              " ('add', 7),\n",
              " ('run', 6),\n",
              " ('provide', 5),\n",
              " ('need', 5),\n",
              " ('contain', 5),\n",
              " ('support', 4),\n",
              " ('create', 4),\n",
              " ('see', 3),\n",
              " ('implement', 3)]"
            ]
          },
          "metadata": {},
          "execution_count": 142
        }
      ],
      "source": [
        "sort = sorted(verb_dict.items(), key = lambda d:(d[1],d[0]), reverse=True)\n",
        "# top 10 most used verbs in sentence\n",
        "sort[:10]"
      ]
    },
    {
      "cell_type": "markdown",
      "metadata": {
        "hidden": true,
        "id": "8xemM_BUg60j"
      },
      "source": [
        "Now we can look at specific verbs to see what kind of information is prsent. For example 'welcome' and 'support' could tell us what India encourages. And verbs like 'face' could maybe tell use what kind of problems we face in the real world."
      ]
    },
    {
      "cell_type": "code",
      "execution_count": null,
      "metadata": {
        "collapsed": true,
        "hidden": true,
        "colab": {
          "base_uri": "https://localhost:8080/",
          "height": 175
        },
        "id": "qry-Nyzlg60j",
        "outputId": "2578f80c-53e3-4545-b8a8-ebb7630f854f"
      },
      "outputs": [
        {
          "output_type": "execute_result",
          "data": {
            "text/html": [
              "<div>\n",
              "<style scoped>\n",
              "    .dataframe tbody tr th:only-of-type {\n",
              "        vertical-align: middle;\n",
              "    }\n",
              "\n",
              "    .dataframe tbody tr th {\n",
              "        vertical-align: top;\n",
              "    }\n",
              "\n",
              "    .dataframe thead th {\n",
              "        text-align: right;\n",
              "    }\n",
              "</style>\n",
              "<table border=\"1\" class=\"dataframe\">\n",
              "  <thead>\n",
              "    <tr style=\"text-align: right;\">\n",
              "      <th></th>\n",
              "      <th>Sent</th>\n",
              "      <th>Year</th>\n",
              "      <th>Noun1</th>\n",
              "      <th>Verb</th>\n",
              "      <th>Noun2</th>\n",
              "    </tr>\n",
              "  </thead>\n",
              "  <tbody>\n",
              "    <tr>\n",
              "      <th>34</th>\n",
              "      <td>rename embeddedstory flag to givenstory in sto...</td>\n",
              "      <td>Improvement</td>\n",
              "      <td>[flag]</td>\n",
              "      <td>support</td>\n",
              "      <td>[givenstories]</td>\n",
              "    </tr>\n",
              "    <tr>\n",
              "      <th>68</th>\n",
              "      <td>reports should support configurable multiple v...</td>\n",
              "      <td>Improvement</td>\n",
              "      <td>[reports]</td>\n",
              "      <td>support</td>\n",
              "      <td>[types]</td>\n",
              "    </tr>\n",
              "    <tr>\n",
              "      <th>69</th>\n",
              "      <td>reports should support configurable multiple v...</td>\n",
              "      <td>Improvement</td>\n",
              "      <td>[types]</td>\n",
              "      <td>support</td>\n",
              "      <td>[tree]</td>\n",
              "    </tr>\n",
              "    <tr>\n",
              "      <th>71</th>\n",
              "      <td>finnish language support finnish language tran...</td>\n",
              "      <td>Improvement</td>\n",
              "      <td>[language]</td>\n",
              "      <td>support</td>\n",
              "      <td>[translations]</td>\n",
              "    </tr>\n",
              "  </tbody>\n",
              "</table>\n",
              "</div>"
            ],
            "text/plain": [
              "                                                 Sent  ...           Noun2\n",
              "34  rename embeddedstory flag to givenstory in sto...  ...  [givenstories]\n",
              "68  reports should support configurable multiple v...  ...         [types]\n",
              "69  reports should support configurable multiple v...  ...          [tree]\n",
              "71  finnish language support finnish language tran...  ...  [translations]\n",
              "\n",
              "[4 rows x 5 columns]"
            ]
          },
          "metadata": {},
          "execution_count": 143
        }
      ],
      "source": [
        "# support verb\n",
        "df_sep[df_sep['Verb']=='support']"
      ]
    },
    {
      "cell_type": "code",
      "execution_count": null,
      "metadata": {
        "collapsed": true,
        "hidden": true,
        "colab": {
          "base_uri": "https://localhost:8080/",
          "height": 81
        },
        "id": "Thl8HSR9g60j",
        "outputId": "13381875-fd09-41f2-acbb-ecb99cf98fa4"
      },
      "outputs": [
        {
          "output_type": "execute_result",
          "data": {
            "text/html": [
              "<div>\n",
              "<style scoped>\n",
              "    .dataframe tbody tr th:only-of-type {\n",
              "        vertical-align: middle;\n",
              "    }\n",
              "\n",
              "    .dataframe tbody tr th {\n",
              "        vertical-align: top;\n",
              "    }\n",
              "\n",
              "    .dataframe thead th {\n",
              "        text-align: right;\n",
              "    }\n",
              "</style>\n",
              "<table border=\"1\" class=\"dataframe\">\n",
              "  <thead>\n",
              "    <tr style=\"text-align: right;\">\n",
              "      <th></th>\n",
              "      <th>Sent</th>\n",
              "      <th>Year</th>\n",
              "      <th>Noun1</th>\n",
              "      <th>Verb</th>\n",
              "      <th>Noun2</th>\n",
              "    </tr>\n",
              "  </thead>\n",
              "  <tbody>\n",
              "    <tr>\n",
              "      <th>38</th>\n",
              "      <td>changing the value separator of jbehave i face...</td>\n",
              "      <td>Bug</td>\n",
              "      <td>[i]</td>\n",
              "      <td>face</td>\n",
              "      <td>[problem]</td>\n",
              "    </tr>\n",
              "  </tbody>\n",
              "</table>\n",
              "</div>"
            ],
            "text/plain": [
              "                                                 Sent Year  ...  Verb      Noun2\n",
              "38  changing the value separator of jbehave i face...  Bug  ...  face  [problem]\n",
              "\n",
              "[1 rows x 5 columns]"
            ]
          },
          "metadata": {},
          "execution_count": 144
        }
      ],
      "source": [
        "# face\n",
        "df_sep[df_sep['Verb']=='face']"
      ]
    },
    {
      "cell_type": "markdown",
      "metadata": {
        "hidden": true,
        "id": "57WrQ0wug60j"
      },
      "source": [
        "By looking at the output, we can try to make out what is the context of the sentence. For example, we can see that India supports ‘efforts’, ‘viewpoints’, ‘initiatives’, ‘struggles’, ‘desires, ‘aspirations’, etc. While India believes that the world faces ‘threat’, ‘conflicts’, ‘colonialism’, ‘pandemics’, etc.\n",
        "\n",
        "We can select sentences to explore in-depth by looking at the output. This will definitely save us a lot of time than just going over the entire text."
      ]
    },
    {
      "cell_type": "markdown",
      "metadata": {
        "heading_collapsed": true,
        "id": "251R3g8og60j"
      },
      "source": [
        "## Information Extraction #4 – Rule on Adjective Noun Structure"
      ]
    },
    {
      "cell_type": "markdown",
      "metadata": {
        "hidden": true,
        "id": "0bGUnPsAg60k"
      },
      "source": [
        "In the previous rule that we made, we extracted the noun subjects and objects, but the information did not feel complete. This is because many nouns have an adjective or a word with a compound dependency that augments the meaning of a noun. Extracting these along with the noun will give us better information about the subject and the object.\n",
        "\n",
        "Have a look at the sample sentence below."
      ]
    },
    {
      "cell_type": "code",
      "execution_count": null,
      "metadata": {
        "hidden": true,
        "colab": {
          "base_uri": "https://localhost:8080/",
          "height": 458
        },
        "id": "1z3t-Va9g60k",
        "outputId": "3c191dfd-8060-4dc4-9e63-62b3c9ed4a01"
      },
      "outputs": [
        {
          "output_type": "stream",
          "name": "stdout",
          "text": [
            "Our people are expecting a better life.\n"
          ]
        },
        {
          "output_type": "display_data",
          "data": {
            "text/html": [
              "<span class=\"tex2jax_ignore\"><svg xmlns=\"http://www.w3.org/2000/svg\" xmlns:xlink=\"http://www.w3.org/1999/xlink\" xml:lang=\"en\" id=\"482f289eb1c54dad9bc108f0c74bd00e-0\" class=\"displacy\" width=\"1275\" height=\"399.5\" direction=\"ltr\" style=\"max-width: none; height: 399.5px; color: #000000; background: #ffffff; font-family: Arial; direction: ltr\">\n",
              "<text class=\"displacy-token\" fill=\"currentColor\" text-anchor=\"middle\" y=\"309.5\">\n",
              "    <tspan class=\"displacy-word\" fill=\"currentColor\" x=\"50\">Our</tspan>\n",
              "    <tspan class=\"displacy-tag\" dy=\"2em\" fill=\"currentColor\" x=\"50\">DET</tspan>\n",
              "</text>\n",
              "\n",
              "<text class=\"displacy-token\" fill=\"currentColor\" text-anchor=\"middle\" y=\"309.5\">\n",
              "    <tspan class=\"displacy-word\" fill=\"currentColor\" x=\"225\">people</tspan>\n",
              "    <tspan class=\"displacy-tag\" dy=\"2em\" fill=\"currentColor\" x=\"225\">NOUN</tspan>\n",
              "</text>\n",
              "\n",
              "<text class=\"displacy-token\" fill=\"currentColor\" text-anchor=\"middle\" y=\"309.5\">\n",
              "    <tspan class=\"displacy-word\" fill=\"currentColor\" x=\"400\">are</tspan>\n",
              "    <tspan class=\"displacy-tag\" dy=\"2em\" fill=\"currentColor\" x=\"400\">AUX</tspan>\n",
              "</text>\n",
              "\n",
              "<text class=\"displacy-token\" fill=\"currentColor\" text-anchor=\"middle\" y=\"309.5\">\n",
              "    <tspan class=\"displacy-word\" fill=\"currentColor\" x=\"575\">expecting</tspan>\n",
              "    <tspan class=\"displacy-tag\" dy=\"2em\" fill=\"currentColor\" x=\"575\">VERB</tspan>\n",
              "</text>\n",
              "\n",
              "<text class=\"displacy-token\" fill=\"currentColor\" text-anchor=\"middle\" y=\"309.5\">\n",
              "    <tspan class=\"displacy-word\" fill=\"currentColor\" x=\"750\">a</tspan>\n",
              "    <tspan class=\"displacy-tag\" dy=\"2em\" fill=\"currentColor\" x=\"750\">DET</tspan>\n",
              "</text>\n",
              "\n",
              "<text class=\"displacy-token\" fill=\"currentColor\" text-anchor=\"middle\" y=\"309.5\">\n",
              "    <tspan class=\"displacy-word\" fill=\"currentColor\" x=\"925\">better</tspan>\n",
              "    <tspan class=\"displacy-tag\" dy=\"2em\" fill=\"currentColor\" x=\"925\">ADJ</tspan>\n",
              "</text>\n",
              "\n",
              "<text class=\"displacy-token\" fill=\"currentColor\" text-anchor=\"middle\" y=\"309.5\">\n",
              "    <tspan class=\"displacy-word\" fill=\"currentColor\" x=\"1100\">life.</tspan>\n",
              "    <tspan class=\"displacy-tag\" dy=\"2em\" fill=\"currentColor\" x=\"1100\">NOUN</tspan>\n",
              "</text>\n",
              "\n",
              "<g class=\"displacy-arrow\">\n",
              "    <path class=\"displacy-arc\" id=\"arrow-482f289eb1c54dad9bc108f0c74bd00e-0-0\" stroke-width=\"2px\" d=\"M70,264.5 C70,177.0 215.0,177.0 215.0,264.5\" fill=\"none\" stroke=\"currentColor\"/>\n",
              "    <text dy=\"1.25em\" style=\"font-size: 0.8em; letter-spacing: 1px\">\n",
              "        <textPath xlink:href=\"#arrow-482f289eb1c54dad9bc108f0c74bd00e-0-0\" class=\"displacy-label\" startOffset=\"50%\" side=\"left\" fill=\"currentColor\" text-anchor=\"middle\">poss</textPath>\n",
              "    </text>\n",
              "    <path class=\"displacy-arrowhead\" d=\"M70,266.5 L62,254.5 78,254.5\" fill=\"currentColor\"/>\n",
              "</g>\n",
              "\n",
              "<g class=\"displacy-arrow\">\n",
              "    <path class=\"displacy-arc\" id=\"arrow-482f289eb1c54dad9bc108f0c74bd00e-0-1\" stroke-width=\"2px\" d=\"M245,264.5 C245,89.5 570.0,89.5 570.0,264.5\" fill=\"none\" stroke=\"currentColor\"/>\n",
              "    <text dy=\"1.25em\" style=\"font-size: 0.8em; letter-spacing: 1px\">\n",
              "        <textPath xlink:href=\"#arrow-482f289eb1c54dad9bc108f0c74bd00e-0-1\" class=\"displacy-label\" startOffset=\"50%\" side=\"left\" fill=\"currentColor\" text-anchor=\"middle\">nsubj</textPath>\n",
              "    </text>\n",
              "    <path class=\"displacy-arrowhead\" d=\"M245,266.5 L237,254.5 253,254.5\" fill=\"currentColor\"/>\n",
              "</g>\n",
              "\n",
              "<g class=\"displacy-arrow\">\n",
              "    <path class=\"displacy-arc\" id=\"arrow-482f289eb1c54dad9bc108f0c74bd00e-0-2\" stroke-width=\"2px\" d=\"M420,264.5 C420,177.0 565.0,177.0 565.0,264.5\" fill=\"none\" stroke=\"currentColor\"/>\n",
              "    <text dy=\"1.25em\" style=\"font-size: 0.8em; letter-spacing: 1px\">\n",
              "        <textPath xlink:href=\"#arrow-482f289eb1c54dad9bc108f0c74bd00e-0-2\" class=\"displacy-label\" startOffset=\"50%\" side=\"left\" fill=\"currentColor\" text-anchor=\"middle\">aux</textPath>\n",
              "    </text>\n",
              "    <path class=\"displacy-arrowhead\" d=\"M420,266.5 L412,254.5 428,254.5\" fill=\"currentColor\"/>\n",
              "</g>\n",
              "\n",
              "<g class=\"displacy-arrow\">\n",
              "    <path class=\"displacy-arc\" id=\"arrow-482f289eb1c54dad9bc108f0c74bd00e-0-3\" stroke-width=\"2px\" d=\"M770,264.5 C770,89.5 1095.0,89.5 1095.0,264.5\" fill=\"none\" stroke=\"currentColor\"/>\n",
              "    <text dy=\"1.25em\" style=\"font-size: 0.8em; letter-spacing: 1px\">\n",
              "        <textPath xlink:href=\"#arrow-482f289eb1c54dad9bc108f0c74bd00e-0-3\" class=\"displacy-label\" startOffset=\"50%\" side=\"left\" fill=\"currentColor\" text-anchor=\"middle\">det</textPath>\n",
              "    </text>\n",
              "    <path class=\"displacy-arrowhead\" d=\"M770,266.5 L762,254.5 778,254.5\" fill=\"currentColor\"/>\n",
              "</g>\n",
              "\n",
              "<g class=\"displacy-arrow\">\n",
              "    <path class=\"displacy-arc\" id=\"arrow-482f289eb1c54dad9bc108f0c74bd00e-0-4\" stroke-width=\"2px\" d=\"M945,264.5 C945,177.0 1090.0,177.0 1090.0,264.5\" fill=\"none\" stroke=\"currentColor\"/>\n",
              "    <text dy=\"1.25em\" style=\"font-size: 0.8em; letter-spacing: 1px\">\n",
              "        <textPath xlink:href=\"#arrow-482f289eb1c54dad9bc108f0c74bd00e-0-4\" class=\"displacy-label\" startOffset=\"50%\" side=\"left\" fill=\"currentColor\" text-anchor=\"middle\">amod</textPath>\n",
              "    </text>\n",
              "    <path class=\"displacy-arrowhead\" d=\"M945,266.5 L937,254.5 953,254.5\" fill=\"currentColor\"/>\n",
              "</g>\n",
              "\n",
              "<g class=\"displacy-arrow\">\n",
              "    <path class=\"displacy-arc\" id=\"arrow-482f289eb1c54dad9bc108f0c74bd00e-0-5\" stroke-width=\"2px\" d=\"M595,264.5 C595,2.0 1100.0,2.0 1100.0,264.5\" fill=\"none\" stroke=\"currentColor\"/>\n",
              "    <text dy=\"1.25em\" style=\"font-size: 0.8em; letter-spacing: 1px\">\n",
              "        <textPath xlink:href=\"#arrow-482f289eb1c54dad9bc108f0c74bd00e-0-5\" class=\"displacy-label\" startOffset=\"50%\" side=\"left\" fill=\"currentColor\" text-anchor=\"middle\">dobj</textPath>\n",
              "    </text>\n",
              "    <path class=\"displacy-arrowhead\" d=\"M1100.0,266.5 L1108.0,254.5 1092.0,254.5\" fill=\"currentColor\"/>\n",
              "</g>\n",
              "</svg></span>"
            ],
            "text/plain": [
              "<IPython.core.display.HTML object>"
            ]
          },
          "metadata": {}
        }
      ],
      "source": [
        "text = 'Our people are expecting a better life.'\n",
        "print(text)\n",
        "doc = nlp(text)\n",
        "img = displacy.render(doc, style='dep',jupyter=True)\n",
        "img\n",
        "\n",
        "#output_path = Path(\"./img2.svg\")\n",
        "#output_path.open(\"w\", encoding=\"utf-8\").write(img)"
      ]
    },
    {
      "cell_type": "markdown",
      "metadata": {
        "hidden": true,
        "id": "UZ1Gr_a0g60k"
      },
      "source": [
        "What we are looking to achieve here is: \"people\",\"expecting\" and \"better life\".\n",
        "\n",
        "The code for this rule is simple, but let me walk you through how it works:\n",
        "* We look for tokens that have a Noun POS tag and have subject or object dependency\n",
        "* Then we look at the child nodes of these tokens and append it to the phrase only if it modifies the noun"
      ]
    },
    {
      "cell_type": "code",
      "execution_count": null,
      "metadata": {
        "hidden": true,
        "id": "P1kjcOzMg60k"
      },
      "outputs": [],
      "source": [
        "# function for rule 2\n",
        "def rule2(text):\n",
        "\n",
        "    doc = nlp(text)\n",
        "\n",
        "    pat = []\n",
        "\n",
        "    # iterate over tokens\n",
        "    for token in doc:\n",
        "        phrase = ''\n",
        "        # if the word is a subject noun or an object noun\n",
        "        if (token.pos_ == 'NOUN')\\\n",
        "            and (token.dep_ in ['dobj','pobj','nsubj','nsubjpass']):\n",
        "\n",
        "            # iterate over the children nodes\n",
        "            for subtoken in token.children:\n",
        "                # if word is an adjective or has a compound dependency\n",
        "                if (subtoken.pos_ == 'ADJ') or (subtoken.dep_ == 'compound'):\n",
        "                    phrase += subtoken.text + ' '\n",
        "\n",
        "            if len(phrase)!=0:\n",
        "                phrase += token.text\n",
        "\n",
        "        if  len(phrase)!=0:\n",
        "            pat.append(phrase)\n",
        "\n",
        "\n",
        "    return pat"
      ]
    },
    {
      "cell_type": "code",
      "execution_count": null,
      "metadata": {
        "hidden": true,
        "id": "it28mfsKg60k"
      },
      "outputs": [],
      "source": [
        "# Create a df containing sentence and its output for rule 2\n",
        "row_list = []\n",
        "\n",
        "for i in range(len(df3)):\n",
        "\n",
        "    sent = df3.loc[i,'Sent']\n",
        "    year = df3.loc[i,'Year']\n",
        "    # Rule 2\n",
        "    output = rule2(sent)\n",
        "\n",
        "    dict1 = {'Year':year,'Sent':sent,'Output':output}\n",
        "    row_list.append(dict1)\n",
        "\n",
        "df_rule2 = pd.DataFrame(row_list)"
      ]
    },
    {
      "cell_type": "code",
      "execution_count": null,
      "metadata": {
        "hidden": true,
        "colab": {
          "base_uri": "https://localhost:8080/",
          "height": 206
        },
        "id": "gLUeHBNBg60k",
        "outputId": "1a30ad7c-67b3-4e48-edbc-1dda17283f33"
      },
      "outputs": [
        {
          "output_type": "execute_result",
          "data": {
            "text/html": [
              "<div>\n",
              "<style scoped>\n",
              "    .dataframe tbody tr th:only-of-type {\n",
              "        vertical-align: middle;\n",
              "    }\n",
              "\n",
              "    .dataframe tbody tr th {\n",
              "        vertical-align: top;\n",
              "    }\n",
              "\n",
              "    .dataframe thead th {\n",
              "        text-align: right;\n",
              "    }\n",
              "</style>\n",
              "<table border=\"1\" class=\"dataframe\">\n",
              "  <thead>\n",
              "    <tr style=\"text-align: right;\">\n",
              "      <th></th>\n",
              "      <th>Year</th>\n",
              "      <th>Sent</th>\n",
              "      <th>Output</th>\n",
              "    </tr>\n",
              "  </thead>\n",
              "  <tbody>\n",
              "    <tr>\n",
              "      <th>0</th>\n",
              "      <td>2021</td>\n",
              "      <td>In my test project i added a story with Give...</td>\n",
              "      <td>[test project]</td>\n",
              "    </tr>\n",
              "    <tr>\n",
              "      <th>1</th>\n",
              "      <td>2021</td>\n",
              "      <td>The report xml for that story is currupted be...</td>\n",
              "      <td>[report xml, end tags]</td>\n",
              "    </tr>\n",
              "    <tr>\n",
              "      <th>2</th>\n",
              "      <td>2021</td>\n",
              "      <td>&lt;/scenario&gt;&lt;/story&gt;   That failure takes plac...</td>\n",
              "      <td>[]</td>\n",
              "    </tr>\n",
              "    <tr>\n",
              "      <th>3</th>\n",
              "      <td>2021</td>\n",
              "      <td>1</td>\n",
              "      <td>[]</td>\n",
              "    </tr>\n",
              "    <tr>\n",
              "      <th>4</th>\n",
              "      <td>2021</td>\n",
              "      <td>2 beta 1</td>\n",
              "      <td>[]</td>\n",
              "    </tr>\n",
              "  </tbody>\n",
              "</table>\n",
              "</div>"
            ],
            "text/plain": [
              "   Year  ...                  Output\n",
              "0  2021  ...          [test project]\n",
              "1  2021  ...  [report xml, end tags]\n",
              "2  2021  ...                      []\n",
              "3  2021  ...                      []\n",
              "4  2021  ...                      []\n",
              "\n",
              "[5 rows x 3 columns]"
            ]
          },
          "metadata": {},
          "execution_count": 148
        }
      ],
      "source": [
        "df_rule2.head()"
      ]
    },
    {
      "cell_type": "code",
      "execution_count": null,
      "metadata": {
        "hidden": true,
        "colab": {
          "base_uri": "https://localhost:8080/"
        },
        "id": "fA4PqvXmg60l",
        "outputId": "44bbb663-0345-4731-88ac-a1124bf0bec7"
      },
      "outputs": [
        {
          "output_type": "execute_result",
          "data": {
            "text/plain": [
              "8.376905106240962"
            ]
          },
          "metadata": {},
          "execution_count": 149
        }
      ],
      "source": [
        "# Rule 2 output\n",
        "output_per(df_rule2,'Output')"
      ]
    },
    {
      "cell_type": "markdown",
      "metadata": {
        "hidden": true,
        "id": "18bwf0Hpg60l"
      },
      "source": [
        "51% of the short sentences match this rule. We can try now check it on the entire corpus."
      ]
    },
    {
      "cell_type": "code",
      "execution_count": null,
      "metadata": {
        "hidden": true,
        "colab": {
          "base_uri": "https://localhost:8080/"
        },
        "id": "dNwuQR4Vg60l",
        "outputId": "86c598e7-fe3a-4ad6-91fa-94da3099d54d"
      },
      "outputs": [
        {
          "output_type": "execute_result",
          "data": {
            "text/plain": [
              "94.24778761061947"
            ]
          },
          "metadata": {},
          "execution_count": 150
        }
      ],
      "source": [
        "# create a df containing sentence and its output for rule 2\n",
        "row_list = []\n",
        "\n",
        "# df2 contains all the sentences from all the speeches\n",
        "for i in range(len(df2)):\n",
        "\n",
        "    sent = df2.loc[i,'Sent']\n",
        "    year = df2.loc[i,'Year']\n",
        "    output = rule2(sent)\n",
        "    dict1 = {'Year':year,'Sent':sent,'Output':output}\n",
        "    row_list.append(dict1)\n",
        "\n",
        "df_rule2_all = pd.DataFrame(row_list)\n",
        "\n",
        "# check rule output on complete speeches\n",
        "output_per(df_rule2_all,'Output')"
      ]
    },
    {
      "cell_type": "code",
      "execution_count": null,
      "metadata": {
        "hidden": true,
        "scrolled": true,
        "colab": {
          "base_uri": "https://localhost:8080/",
          "height": 363
        },
        "id": "e8CTGQFOg60l",
        "outputId": "fa0a0843-9dc4-40e1-b59a-4d6d49a08504"
      },
      "outputs": [
        {
          "output_type": "execute_result",
          "data": {
            "text/html": [
              "<div>\n",
              "<style scoped>\n",
              "    .dataframe tbody tr th:only-of-type {\n",
              "        vertical-align: middle;\n",
              "    }\n",
              "\n",
              "    .dataframe tbody tr th {\n",
              "        vertical-align: top;\n",
              "    }\n",
              "\n",
              "    .dataframe thead th {\n",
              "        text-align: right;\n",
              "    }\n",
              "</style>\n",
              "<table border=\"1\" class=\"dataframe\">\n",
              "  <thead>\n",
              "    <tr style=\"text-align: right;\">\n",
              "      <th></th>\n",
              "      <th>Year</th>\n",
              "      <th>Sent</th>\n",
              "      <th>Output</th>\n",
              "    </tr>\n",
              "  </thead>\n",
              "  <tbody>\n",
              "    <tr>\n",
              "      <th>0</th>\n",
              "      <td>Improvement</td>\n",
              "      <td>springstoryreporterbuilder does not expose all...</td>\n",
              "      <td>[]</td>\n",
              "    </tr>\n",
              "    <tr>\n",
              "      <th>1</th>\n",
              "      <td>Improvement</td>\n",
              "      <td>storymaps could link back to story source or c...</td>\n",
              "      <td>[story source, story name]</td>\n",
              "    </tr>\n",
              "    <tr>\n",
              "      <th>2</th>\n",
              "      <td>New Feature</td>\n",
              "      <td>add crossreference report as contributed by th...</td>\n",
              "      <td>[crossreference report, geeknight folks, diffe...</td>\n",
              "    </tr>\n",
              "    <tr>\n",
              "      <th>3</th>\n",
              "      <td>Improvement</td>\n",
              "      <td>allow configuration of storytimeoutinsecs via ...</td>\n",
              "      <td>[usingembedder annotation, story timeout, othe...</td>\n",
              "    </tr>\n",
              "    <tr>\n",
              "      <th>4</th>\n",
              "      <td>Improvement</td>\n",
              "      <td>provide property based embeddercontrols an ext...</td>\n",
              "      <td>[system properties]</td>\n",
              "    </tr>\n",
              "    <tr>\n",
              "      <th>5</th>\n",
              "      <td>Bug</td>\n",
              "      <td>composite step is executing successfully when...</td>\n",
              "      <td>[composite step, sub steps, same manner, other...</td>\n",
              "    </tr>\n",
              "    <tr>\n",
              "      <th>6</th>\n",
              "      <td>Improvement</td>\n",
              "      <td>generic parameter converter for enum classes i...</td>\n",
              "      <td>[enum classes, enum fields]</td>\n",
              "    </tr>\n",
              "    <tr>\n",
              "      <th>7</th>\n",
              "      <td>New Feature</td>\n",
              "      <td>support for weld context and dependency inject...</td>\n",
              "      <td>[reference implementation]</td>\n",
              "    </tr>\n",
              "    <tr>\n",
              "      <th>8</th>\n",
              "      <td>Improvement</td>\n",
              "      <td>add unoverridableembedder an extension of embe...</td>\n",
              "      <td>[embedder methods, methods useconfiguration]</td>\n",
              "    </tr>\n",
              "    <tr>\n",
              "      <th>9</th>\n",
              "      <td>Improvement</td>\n",
              "      <td>rename run with annotated embedder goal to run...</td>\n",
              "      <td>[embedder goal, goal name, other goal names, p...</td>\n",
              "    </tr>\n",
              "  </tbody>\n",
              "</table>\n",
              "</div>"
            ],
            "text/plain": [
              "          Year  ...                                             Output\n",
              "0  Improvement  ...                                                 []\n",
              "1  Improvement  ...                         [story source, story name]\n",
              "2  New Feature  ...  [crossreference report, geeknight folks, diffe...\n",
              "3  Improvement  ...  [usingembedder annotation, story timeout, othe...\n",
              "4  Improvement  ...                                [system properties]\n",
              "5          Bug  ...  [composite step, sub steps, same manner, other...\n",
              "6  Improvement  ...                        [enum classes, enum fields]\n",
              "7  New Feature  ...                         [reference implementation]\n",
              "8  Improvement  ...       [embedder methods, methods useconfiguration]\n",
              "9  Improvement  ...  [embedder goal, goal name, other goal names, p...\n",
              "\n",
              "[10 rows x 3 columns]"
            ]
          },
          "metadata": {},
          "execution_count": 151
        }
      ],
      "source": [
        "df_rule2_all.head(10)"
      ]
    },
    {
      "cell_type": "code",
      "execution_count": null,
      "metadata": {
        "hidden": true,
        "colab": {
          "base_uri": "https://localhost:8080/"
        },
        "id": "7ge8t_OFg60l",
        "outputId": "bbb760a1-70b8-4203-98a5-78c7a1ef175c"
      },
      "outputs": [
        {
          "output_type": "execute_result",
          "data": {
            "text/plain": [
              "((226, 3), (213, 3))"
            ]
          },
          "metadata": {},
          "execution_count": 152
        }
      ],
      "source": [
        "df_rule2_all.shape,df_show2.shape"
      ]
    },
    {
      "cell_type": "markdown",
      "metadata": {
        "hidden": true,
        "id": "tavxFALwg60m"
      },
      "source": [
        "Out of 7150, 5470 sentences matched our pattern rule."
      ]
    },
    {
      "cell_type": "code",
      "execution_count": null,
      "metadata": {
        "hidden": true,
        "id": "lAzdLADwg60m"
      },
      "outputs": [],
      "source": [
        "# Selecting non-empty outputs\n",
        "df_show2 = pd.DataFrame(columns=df_rule2_all.columns)\n",
        "\n",
        "for row in range(len(df_rule2_all)):\n",
        "\n",
        "    if len(df_rule2_all.loc[row,'Output'])!=0:\n",
        "        df_show2 = df_show2.append(df_rule2_all.loc[row,:])\n",
        "\n",
        "# Reset the index\n",
        "df_show2.reset_index(inplace=True)\n",
        "df_show2.drop('index',axis=1,inplace=True)"
      ]
    },
    {
      "cell_type": "code",
      "execution_count": null,
      "metadata": {
        "hidden": true,
        "colab": {
          "base_uri": "https://localhost:8080/",
          "height": 363
        },
        "id": "RHssE6XQg60m",
        "outputId": "ecb1ff55-9c08-49f5-a48a-d4326c710235"
      },
      "outputs": [
        {
          "output_type": "execute_result",
          "data": {
            "text/html": [
              "<div>\n",
              "<style scoped>\n",
              "    .dataframe tbody tr th:only-of-type {\n",
              "        vertical-align: middle;\n",
              "    }\n",
              "\n",
              "    .dataframe tbody tr th {\n",
              "        vertical-align: top;\n",
              "    }\n",
              "\n",
              "    .dataframe thead th {\n",
              "        text-align: right;\n",
              "    }\n",
              "</style>\n",
              "<table border=\"1\" class=\"dataframe\">\n",
              "  <thead>\n",
              "    <tr style=\"text-align: right;\">\n",
              "      <th></th>\n",
              "      <th>Year</th>\n",
              "      <th>Sent</th>\n",
              "      <th>Output</th>\n",
              "    </tr>\n",
              "  </thead>\n",
              "  <tbody>\n",
              "    <tr>\n",
              "      <th>0</th>\n",
              "      <td>Improvement</td>\n",
              "      <td>storymaps could link back to story source or c...</td>\n",
              "      <td>[story source, story name]</td>\n",
              "    </tr>\n",
              "    <tr>\n",
              "      <th>1</th>\n",
              "      <td>New Feature</td>\n",
              "      <td>add crossreference report as contributed by th...</td>\n",
              "      <td>[crossreference report, geeknight folks, diffe...</td>\n",
              "    </tr>\n",
              "    <tr>\n",
              "      <th>2</th>\n",
              "      <td>Improvement</td>\n",
              "      <td>allow configuration of storytimeoutinsecs via ...</td>\n",
              "      <td>[usingembedder annotation, story timeout, othe...</td>\n",
              "    </tr>\n",
              "    <tr>\n",
              "      <th>3</th>\n",
              "      <td>Improvement</td>\n",
              "      <td>provide property based embeddercontrols an ext...</td>\n",
              "      <td>[system properties]</td>\n",
              "    </tr>\n",
              "    <tr>\n",
              "      <th>4</th>\n",
              "      <td>Bug</td>\n",
              "      <td>composite step is executing successfully when...</td>\n",
              "      <td>[composite step, sub steps, same manner, other...</td>\n",
              "    </tr>\n",
              "    <tr>\n",
              "      <th>5</th>\n",
              "      <td>Improvement</td>\n",
              "      <td>generic parameter converter for enum classes i...</td>\n",
              "      <td>[enum classes, enum fields]</td>\n",
              "    </tr>\n",
              "    <tr>\n",
              "      <th>6</th>\n",
              "      <td>New Feature</td>\n",
              "      <td>support for weld context and dependency inject...</td>\n",
              "      <td>[reference implementation]</td>\n",
              "    </tr>\n",
              "    <tr>\n",
              "      <th>7</th>\n",
              "      <td>Improvement</td>\n",
              "      <td>add unoverridableembedder an extension of embe...</td>\n",
              "      <td>[embedder methods, methods useconfiguration]</td>\n",
              "    </tr>\n",
              "    <tr>\n",
              "      <th>8</th>\n",
              "      <td>Improvement</td>\n",
              "      <td>rename run with annotated embedder goal to run...</td>\n",
              "      <td>[embedder goal, goal name, other goal names, p...</td>\n",
              "    </tr>\n",
              "    <tr>\n",
              "      <th>9</th>\n",
              "      <td>Bug</td>\n",
              "      <td>afterstories xml and beforestories xml being c...</td>\n",
              "      <td>[plugin afterstories xml, beforestories xml, i...</td>\n",
              "    </tr>\n",
              "  </tbody>\n",
              "</table>\n",
              "</div>"
            ],
            "text/plain": [
              "          Year  ...                                             Output\n",
              "0  Improvement  ...                         [story source, story name]\n",
              "1  New Feature  ...  [crossreference report, geeknight folks, diffe...\n",
              "2  Improvement  ...  [usingembedder annotation, story timeout, othe...\n",
              "3  Improvement  ...                                [system properties]\n",
              "4          Bug  ...  [composite step, sub steps, same manner, other...\n",
              "5  Improvement  ...                        [enum classes, enum fields]\n",
              "6  New Feature  ...                         [reference implementation]\n",
              "7  Improvement  ...       [embedder methods, methods useconfiguration]\n",
              "8  Improvement  ...  [embedder goal, goal name, other goal names, p...\n",
              "9          Bug  ...  [plugin afterstories xml, beforestories xml, i...\n",
              "\n",
              "[10 rows x 3 columns]"
            ]
          },
          "metadata": {},
          "execution_count": 154
        }
      ],
      "source": [
        "df_show2.head(10)"
      ]
    },
    {
      "cell_type": "markdown",
      "metadata": {
        "hidden": true,
        "id": "ZKfceviQg60m"
      },
      "source": [
        "Now we can combine this rule along with the rule that we created previously. This will give us a better perspective of what information in present in a sentence."
      ]
    },
    {
      "cell_type": "code",
      "execution_count": null,
      "metadata": {
        "hidden": true,
        "id": "ekOfrAzPg60m"
      },
      "outputs": [],
      "source": [
        "def rule2_mod(text,index):\n",
        "\n",
        "    doc = nlp(text)\n",
        "\n",
        "    phrase = ''\n",
        "\n",
        "    for token in doc:\n",
        "\n",
        "        if token.i == index:\n",
        "\n",
        "            for subtoken in token.children:\n",
        "                if (subtoken.pos_ == 'ADJ'):\n",
        "                    phrase += ' '+subtoken.text\n",
        "            break\n",
        "\n",
        "    return phrase"
      ]
    },
    {
      "cell_type": "code",
      "execution_count": null,
      "metadata": {
        "hidden": true,
        "id": "o4qQ7ykhg60m"
      },
      "outputs": [],
      "source": [
        "# rule 1 modified function\n",
        "def rule1_mod(text):\n",
        "\n",
        "    doc = nlp(text)\n",
        "\n",
        "    sent = []\n",
        "\n",
        "    for token in doc:\n",
        "        # root word\n",
        "        if (token.pos_=='VERB'):\n",
        "\n",
        "            phrase =''\n",
        "\n",
        "            # only extract noun or pronoun subjects\n",
        "            for sub_tok in token.lefts:\n",
        "\n",
        "                if (sub_tok.dep_ in ['nsubj','nsubjpass']) and (sub_tok.pos_ in ['NOUN','PROPN','PRON']):\n",
        "\n",
        "                    adj = rule2_mod(text,sub_tok.i)\n",
        "\n",
        "                    phrase += adj + ' ' + sub_tok.text\n",
        "\n",
        "                    # save the root word of the word\n",
        "                    phrase += ' '+token.lemma_\n",
        "\n",
        "                    # check for noun or pronoun direct objects\n",
        "                    for sub_tok in token.rights:\n",
        "\n",
        "                        if (sub_tok.dep_ in ['dobj']) and (sub_tok.pos_ in ['NOUN','PROPN']):\n",
        "\n",
        "                            adj = rule2_mod(text,sub_tok.i)\n",
        "\n",
        "                            phrase += adj+' '+sub_tok.text\n",
        "                            sent.append(phrase)\n",
        "\n",
        "    return sent"
      ]
    },
    {
      "cell_type": "code",
      "execution_count": null,
      "metadata": {
        "hidden": true,
        "scrolled": false,
        "colab": {
          "base_uri": "https://localhost:8080/"
        },
        "id": "xPrxe0RRg60n",
        "outputId": "2ff1fb7c-7a0c-4bc8-a4e1-cb984cee8208"
      },
      "outputs": [
        {
          "output_type": "execute_result",
          "data": {
            "text/plain": [
              "43.80530973451327"
            ]
          },
          "metadata": {},
          "execution_count": 157
        }
      ],
      "source": [
        "# create a df containing sentence and its output for modified rule 1\n",
        "row_list = []\n",
        "\n",
        "# df2 contains all the sentences from all the speeches\n",
        "for i in range(len(df2)):\n",
        "\n",
        "    sent = df2.loc[i,'Sent']\n",
        "    year = df2.loc[i,'Year']\n",
        "    output = rule1_mod(sent)\n",
        "    dict1 = {'Year':year,'Sent':sent,'Output':output}\n",
        "    row_list.append(dict1)\n",
        "\n",
        "df_rule1_mod_all = pd.DataFrame(row_list)\n",
        "# check rule1 output on complete speeches\n",
        "output_per(df_rule1_mod_all,'Output')"
      ]
    },
    {
      "cell_type": "code",
      "execution_count": null,
      "metadata": {
        "hidden": true,
        "colab": {
          "base_uri": "https://localhost:8080/",
          "height": 677
        },
        "id": "Nb-q5_ssg60n",
        "outputId": "43644b65-0364-4c0d-acdb-60210007d552"
      },
      "outputs": [
        {
          "output_type": "execute_result",
          "data": {
            "text/html": [
              "<div>\n",
              "<style scoped>\n",
              "    .dataframe tbody tr th:only-of-type {\n",
              "        vertical-align: middle;\n",
              "    }\n",
              "\n",
              "    .dataframe tbody tr th {\n",
              "        vertical-align: top;\n",
              "    }\n",
              "\n",
              "    .dataframe thead th {\n",
              "        text-align: right;\n",
              "    }\n",
              "</style>\n",
              "<table border=\"1\" class=\"dataframe\">\n",
              "  <thead>\n",
              "    <tr style=\"text-align: right;\">\n",
              "      <th></th>\n",
              "      <th>Year</th>\n",
              "      <th>Sent</th>\n",
              "      <th>Output</th>\n",
              "    </tr>\n",
              "  </thead>\n",
              "  <tbody>\n",
              "    <tr>\n",
              "      <th>0</th>\n",
              "      <td>Improvement</td>\n",
              "      <td>springstoryreporterbuilder does not expose all...</td>\n",
              "      <td>[ springstoryreporterbuilder expose properties]</td>\n",
              "    </tr>\n",
              "    <tr>\n",
              "      <th>1</th>\n",
              "      <td>Improvement</td>\n",
              "      <td>storymaps could link back to story source or c...</td>\n",
              "      <td>[]</td>\n",
              "    </tr>\n",
              "    <tr>\n",
              "      <th>2</th>\n",
              "      <td>New Feature</td>\n",
              "      <td>add crossreference report as contributed by th...</td>\n",
              "      <td>[]</td>\n",
              "    </tr>\n",
              "    <tr>\n",
              "      <th>3</th>\n",
              "      <td>Improvement</td>\n",
              "      <td>allow configuration of storytimeoutinsecs via ...</td>\n",
              "      <td>[]</td>\n",
              "    </tr>\n",
              "    <tr>\n",
              "      <th>4</th>\n",
              "      <td>Improvement</td>\n",
              "      <td>provide property based embeddercontrols an ext...</td>\n",
              "      <td>[]</td>\n",
              "    </tr>\n",
              "    <tr>\n",
              "      <th>5</th>\n",
              "      <td>Bug</td>\n",
              "      <td>composite step is executing successfully when...</td>\n",
              "      <td>[]</td>\n",
              "    </tr>\n",
              "    <tr>\n",
              "      <th>6</th>\n",
              "      <td>Improvement</td>\n",
              "      <td>generic parameter converter for enum classes i...</td>\n",
              "      <td>[ you convert fields]</td>\n",
              "    </tr>\n",
              "    <tr>\n",
              "      <th>7</th>\n",
              "      <td>New Feature</td>\n",
              "      <td>support for weld context and dependency inject...</td>\n",
              "      <td>[ support provide support]</td>\n",
              "    </tr>\n",
              "    <tr>\n",
              "      <th>8</th>\n",
              "      <td>Improvement</td>\n",
              "      <td>add unoverridableembedder an extension of embe...</td>\n",
              "      <td>[]</td>\n",
              "    </tr>\n",
              "    <tr>\n",
              "      <th>9</th>\n",
              "      <td>Improvement</td>\n",
              "      <td>rename run with annotated embedder goal to run...</td>\n",
              "      <td>[ we keep previous name]</td>\n",
              "    </tr>\n",
              "    <tr>\n",
              "      <th>10</th>\n",
              "      <td>Improvement</td>\n",
              "      <td>givenstories should be able to be loaded relat...</td>\n",
              "      <td>[]</td>\n",
              "    </tr>\n",
              "    <tr>\n",
              "      <th>11</th>\n",
              "      <td>Bug</td>\n",
              "      <td>afterstories xml and beforestories xml being c...</td>\n",
              "      <td>[]</td>\n",
              "    </tr>\n",
              "    <tr>\n",
              "      <th>12</th>\n",
              "      <td>New Feature</td>\n",
              "      <td>if story is ' excluded ' because of meta filte...</td>\n",
              "      <td>[ we need way]</td>\n",
              "    </tr>\n",
              "    <tr>\n",
              "      <th>13</th>\n",
              "      <td>Improvement</td>\n",
              "      <td>examplestablefactory should load resources fro...</td>\n",
              "      <td>[ examplestablefactory load resources]</td>\n",
              "    </tr>\n",
              "    <tr>\n",
              "      <th>14</th>\n",
              "      <td>New Feature</td>\n",
              "      <td>provide pending annotation to mark methods tha...</td>\n",
              "      <td>[]</td>\n",
              "    </tr>\n",
              "    <tr>\n",
              "      <th>15</th>\n",
              "      <td>Improvement</td>\n",
              "      <td>null meta filters should be ignored in maven p...</td>\n",
              "      <td>[]</td>\n",
              "    </tr>\n",
              "    <tr>\n",
              "      <th>16</th>\n",
              "      <td>New Feature</td>\n",
              "      <td>ability to enqueue ad hoc stories asynchronous...</td>\n",
              "      <td>[ ability add method]</td>\n",
              "    </tr>\n",
              "    <tr>\n",
              "      <th>17</th>\n",
              "      <td>Improvement</td>\n",
              "      <td>ensure utility methods should be independent o...</td>\n",
              "      <td>[]</td>\n",
              "    </tr>\n",
              "    <tr>\n",
              "      <th>18</th>\n",
              "      <td>Bug</td>\n",
              "      <td>should not require a space before a new line c...</td>\n",
              "      <td>[ line give grid]</td>\n",
              "    </tr>\n",
              "    <tr>\n",
              "      <th>19</th>\n",
              "      <td>New Feature</td>\n",
              "      <td>should be able to have multiple scenarios in a...</td>\n",
              "      <td>[]</td>\n",
              "    </tr>\n",
              "  </tbody>\n",
              "</table>\n",
              "</div>"
            ],
            "text/plain": [
              "           Year  ...                                           Output\n",
              "0   Improvement  ...  [ springstoryreporterbuilder expose properties]\n",
              "1   Improvement  ...                                               []\n",
              "2   New Feature  ...                                               []\n",
              "3   Improvement  ...                                               []\n",
              "4   Improvement  ...                                               []\n",
              "5           Bug  ...                                               []\n",
              "6   Improvement  ...                            [ you convert fields]\n",
              "7   New Feature  ...                       [ support provide support]\n",
              "8   Improvement  ...                                               []\n",
              "9   Improvement  ...                         [ we keep previous name]\n",
              "10  Improvement  ...                                               []\n",
              "11          Bug  ...                                               []\n",
              "12  New Feature  ...                                   [ we need way]\n",
              "13  Improvement  ...           [ examplestablefactory load resources]\n",
              "14  New Feature  ...                                               []\n",
              "15  Improvement  ...                                               []\n",
              "16  New Feature  ...                            [ ability add method]\n",
              "17  Improvement  ...                                               []\n",
              "18          Bug  ...                                [ line give grid]\n",
              "19  New Feature  ...                                               []\n",
              "\n",
              "[20 rows x 3 columns]"
            ]
          },
          "metadata": {},
          "execution_count": 158
        }
      ],
      "source": [
        "df_rule1_mod_all.head(20)"
      ]
    },
    {
      "cell_type": "markdown",
      "metadata": {
        "hidden": true,
        "id": "PdQOFLRxg60n"
      },
      "source": [
        "In the previous rule that we made, we extracted the noun subjects and objects, but the information did not feel complete. This is because many nouns have an adjective or a word with a compound dependency that augments the meaning of a noun. Extracting these along with the noun will give us better information about the subject and the object."
      ]
    },
    {
      "cell_type": "markdown",
      "metadata": {
        "id": "xx3kv09Jg60n"
      },
      "source": [
        "## Information Extraction #5 – Rule on Prepositions"
      ]
    },
    {
      "cell_type": "markdown",
      "metadata": {
        "id": "8dHhz6f9g60n"
      },
      "source": [
        "Thank god for preposistions. They tell us where or when something is in relationship with something else. For example, *The people **of** India believe **in** the priciples **of** United Nations.*. Clearly extarcting phrases inclusing prepositions will give us a lot of information from the sentence. This is exactly what we are going to achieve with this rule.\n",
        "\n",
        "Let's try to understand how this rule works by going over it on a sample sentece - \"India has once again shown faith in democracy.\"\n",
        "\n",
        "* We iterate over all the tokens looking for prepositions. For example *in* in this sentence.\n",
        "* On encountering a preposition, we check if it has a head word that is a noun. For example the word *faith* in this sentence.\n",
        "* Then we look at the child tokens of the preposition token falling on its right side. For example, the word *democracy*.\n",
        "\n",
        "This should finally extract the phrase *faith in democracy* from the sentence. Have a look at the dependency graph of the sentence below."
      ]
    },
    {
      "cell_type": "code",
      "execution_count": null,
      "metadata": {
        "scrolled": false,
        "colab": {
          "base_uri": "https://localhost:8080/",
          "height": 252
        },
        "id": "nky6MULmg60n",
        "outputId": "3e73276a-4d7a-400c-888a-7cddf5e84301"
      },
      "outputs": [
        {
          "output_type": "stream",
          "name": "stdout",
          "text": [
            "India has once again shown faith in democracy.\n"
          ]
        },
        {
          "output_type": "error",
          "ename": "NameError",
          "evalue": "ignored",
          "traceback": [
            "\u001b[0;31m---------------------------------------------------------------------------\u001b[0m",
            "\u001b[0;31mNameError\u001b[0m                                 Traceback (most recent call last)",
            "\u001b[0;32m<ipython-input-1-c366974eb475>\u001b[0m in \u001b[0;36m<module>\u001b[0;34m()\u001b[0m\n\u001b[1;32m      1\u001b[0m \u001b[0mtext\u001b[0m \u001b[0;34m=\u001b[0m \u001b[0;34m\"India has once again shown faith in democracy.\"\u001b[0m\u001b[0;34m\u001b[0m\u001b[0;34m\u001b[0m\u001b[0m\n\u001b[1;32m      2\u001b[0m \u001b[0mprint\u001b[0m\u001b[0;34m(\u001b[0m\u001b[0mtext\u001b[0m\u001b[0;34m)\u001b[0m\u001b[0;34m\u001b[0m\u001b[0;34m\u001b[0m\u001b[0m\n\u001b[0;32m----> 3\u001b[0;31m \u001b[0mdoc\u001b[0m \u001b[0;34m=\u001b[0m \u001b[0mnlp\u001b[0m\u001b[0;34m(\u001b[0m\u001b[0mtext\u001b[0m\u001b[0;34m)\u001b[0m\u001b[0;34m\u001b[0m\u001b[0;34m\u001b[0m\u001b[0m\n\u001b[0m\u001b[1;32m      4\u001b[0m \u001b[0mimg\u001b[0m \u001b[0;34m=\u001b[0m \u001b[0mdisplacy\u001b[0m\u001b[0;34m.\u001b[0m\u001b[0mrender\u001b[0m\u001b[0;34m(\u001b[0m\u001b[0mdoc\u001b[0m\u001b[0;34m,\u001b[0m \u001b[0mstyle\u001b[0m\u001b[0;34m=\u001b[0m\u001b[0;34m'dep'\u001b[0m\u001b[0;34m,\u001b[0m\u001b[0mjupyter\u001b[0m\u001b[0;34m=\u001b[0m\u001b[0;32mTrue\u001b[0m\u001b[0;34m)\u001b[0m\u001b[0;34m\u001b[0m\u001b[0;34m\u001b[0m\u001b[0m\n\u001b[1;32m      5\u001b[0m \u001b[0mimg\u001b[0m\u001b[0;34m\u001b[0m\u001b[0;34m\u001b[0m\u001b[0m\n",
            "\u001b[0;31mNameError\u001b[0m: name 'nlp' is not defined"
          ]
        }
      ],
      "source": [
        "text = \"India has once again shown faith in democracy.\"\n",
        "print(text)\n",
        "doc = nlp(text)\n",
        "img = displacy.render(doc, style='dep',jupyter=True)\n",
        "img\n",
        "\n",
        "#output_path = Path(\"./img3.svg\")\n",
        "# output_path.open(\"w\", encoding=\"utf-8\").write(img)\n",
        "# displacy.render(doc, style='dep',jupyter=True)"
      ]
    },
    {
      "cell_type": "markdown",
      "metadata": {
        "id": "KOXpRPgog60o"
      },
      "source": [
        "Now lets apply this rule to our short sentences."
      ]
    },
    {
      "cell_type": "code",
      "execution_count": null,
      "metadata": {
        "id": "zN7ww9QQg60o"
      },
      "outputs": [],
      "source": [
        "# rule 3 function\n",
        "def rule3(text):\n",
        "\n",
        "    doc = nlp(text)\n",
        "\n",
        "    sent = []\n",
        "\n",
        "    for token in doc:\n",
        "\n",
        "        # look for prepositions\n",
        "        if token.pos_=='ADP':\n",
        "\n",
        "            phrase = ''\n",
        "\n",
        "            # if its head word is a noun\n",
        "            if token.head.pos_=='NOUN':\n",
        "\n",
        "                # append noun and preposition to phrase\n",
        "                phrase += token.head.text\n",
        "                phrase += ' '+token.text\n",
        "\n",
        "                # check the nodes to the right of the preposition\n",
        "                for right_tok in token.rights:\n",
        "                    # append if it is a noun or proper noun\n",
        "                    if (right_tok.pos_ in ['NOUN','PROPN']):\n",
        "                        phrase += ' '+right_tok.text\n",
        "\n",
        "                if len(phrase)>2:\n",
        "                    sent.append(phrase)\n",
        "\n",
        "    return sent"
      ]
    },
    {
      "cell_type": "code",
      "execution_count": null,
      "metadata": {
        "colab": {
          "base_uri": "https://localhost:8080/",
          "height": 235
        },
        "id": "M0zdQQMSg60o",
        "outputId": "31779fb3-a038-4327-f8b5-5ccdb5475313"
      },
      "outputs": [
        {
          "output_type": "error",
          "ename": "NameError",
          "evalue": "ignored",
          "traceback": [
            "\u001b[0;31m---------------------------------------------------------------------------\u001b[0m",
            "\u001b[0;31mNameError\u001b[0m                                 Traceback (most recent call last)",
            "\u001b[0;32m<ipython-input-3-f8b4ab42bb59>\u001b[0m in \u001b[0;36m<module>\u001b[0;34m()\u001b[0m\n\u001b[1;32m      2\u001b[0m \u001b[0mrow_list\u001b[0m \u001b[0;34m=\u001b[0m \u001b[0;34m[\u001b[0m\u001b[0;34m]\u001b[0m\u001b[0;34m\u001b[0m\u001b[0;34m\u001b[0m\u001b[0m\n\u001b[1;32m      3\u001b[0m \u001b[0;34m\u001b[0m\u001b[0m\n\u001b[0;32m----> 4\u001b[0;31m \u001b[0;32mfor\u001b[0m \u001b[0mi\u001b[0m \u001b[0;32min\u001b[0m \u001b[0mrange\u001b[0m\u001b[0;34m(\u001b[0m\u001b[0mlen\u001b[0m\u001b[0;34m(\u001b[0m\u001b[0mdf2\u001b[0m\u001b[0;34m)\u001b[0m\u001b[0;34m)\u001b[0m\u001b[0;34m:\u001b[0m \u001b[0;31m##df3\u001b[0m\u001b[0;34m\u001b[0m\u001b[0;34m\u001b[0m\u001b[0m\n\u001b[0m\u001b[1;32m      5\u001b[0m \u001b[0;34m\u001b[0m\u001b[0m\n\u001b[1;32m      6\u001b[0m     \u001b[0msent\u001b[0m \u001b[0;34m=\u001b[0m \u001b[0mdf2\u001b[0m\u001b[0;34m.\u001b[0m\u001b[0mloc\u001b[0m\u001b[0;34m[\u001b[0m\u001b[0mi\u001b[0m\u001b[0;34m,\u001b[0m\u001b[0;34m'Sent'\u001b[0m\u001b[0;34m]\u001b[0m\u001b[0;34m\u001b[0m\u001b[0;34m\u001b[0m\u001b[0m\n",
            "\u001b[0;31mNameError\u001b[0m: name 'df2' is not defined"
          ]
        }
      ],
      "source": [
        "# create a df containing sentence and its output for rule 4\n",
        "row_list = []\n",
        "\n",
        "for i in range(len(df2)): ##df3\n",
        "\n",
        "    sent = df2.loc[i,'Sent']\n",
        "    year = df2.loc[i,'Year']\n",
        "\n",
        "    # Rule 3\n",
        "    output = rule3(sent)\n",
        "\n",
        "    dict1 = {'Year':year,'Sent':sent,'Output':output}\n",
        "    row_list.append(dict1)\n",
        "\n",
        "df_rule3 = pd.DataFrame(row_list)\n",
        "# Rule 3 achieves 40% result\n",
        "output_per(df_rule3,'Output')"
      ]
    },
    {
      "cell_type": "markdown",
      "metadata": {
        "id": "4BWduSybg60o"
      },
      "source": [
        "About 48% of the sentences follow this rule."
      ]
    },
    {
      "cell_type": "code",
      "execution_count": null,
      "metadata": {
        "id": "ZPrdMYT7g60o"
      },
      "outputs": [],
      "source": [
        "df_rule3.head(10)"
      ]
    },
    {
      "cell_type": "markdown",
      "metadata": {
        "id": "zswxkxlkg60p"
      },
      "source": [
        "We can test this pattern on the entire corpus since we have good amount of sentences matching the rule."
      ]
    },
    {
      "cell_type": "code",
      "execution_count": null,
      "metadata": {
        "id": "_LsA5sEag60p"
      },
      "outputs": [],
      "source": [
        "# create a df containing sentence and its output for rule 1\n",
        "row_list = []\n",
        "\n",
        "# df2 contains all the sentences from all the speeches\n",
        "for i in range(len(df2)):\n",
        "\n",
        "    sent = df2.loc[i,'Sent']\n",
        "    year = df2.loc[i,'Year']\n",
        "    output = rule3(sent)  # Output\n",
        "    dict1 = {'Year':year,'Sent':sent,'Output':output}\n",
        "    row_list.append(dict1)\n",
        "\n",
        "df_rule3_all = pd.DataFrame(row_list)\n",
        "# check rule1 output on complete speeches\n",
        "output_per(df_rule3_all,'Output')"
      ]
    },
    {
      "cell_type": "code",
      "execution_count": null,
      "metadata": {
        "id": "c54XEBCYg60p"
      },
      "outputs": [],
      "source": [
        "df_rule3_all.head(10)"
      ]
    },
    {
      "cell_type": "markdown",
      "metadata": {
        "id": "oF4VA0xLg60p"
      },
      "source": [
        "Show only those sentences that have outputs"
      ]
    },
    {
      "cell_type": "code",
      "execution_count": null,
      "metadata": {
        "id": "S8zIakXrg60p"
      },
      "outputs": [],
      "source": [
        "# select non-empty outputs\n",
        "df_show3 = pd.DataFrame(columns=df_rule3_all.columns)\n",
        "\n",
        "for row in range(len(df_rule3_all)):\n",
        "\n",
        "    if len(df_rule3_all.loc[row,'Output'])!=0:\n",
        "        df_show3 = df_show3.append(df_rule3_all.loc[row,:])\n",
        "\n",
        "# reset the index\n",
        "df_show3.reset_index(inplace=True)\n",
        "df_show3.drop('index',axis=1,inplace=True)"
      ]
    },
    {
      "cell_type": "code",
      "execution_count": null,
      "metadata": {
        "id": "MCpjaZd7g60q"
      },
      "outputs": [],
      "source": [
        "df_rule3_all.shape, df_show3.shape"
      ]
    },
    {
      "cell_type": "code",
      "execution_count": null,
      "metadata": {
        "id": "FN17Y5oJg60q"
      },
      "outputs": [],
      "source": [
        "# separate noun, preposition and noun\n",
        "\n",
        "prep_dict = dict()\n",
        "dis_dict = dict()\n",
        "dis_list = []\n",
        "\n",
        "# iterating over all the sentences\n",
        "for i in range(len(df_show3)):\n",
        "\n",
        "    # sentence containing the output\n",
        "    sentence = df_show3.loc[i,'Sent']\n",
        "    # year of the sentence\n",
        "    year = df_show3.loc[i,'Year']\n",
        "    # output of the sentence\n",
        "    output = df_show3.loc[i,'Output']\n",
        "\n",
        "    # iterating over all the outputs from the sentence\n",
        "    for sent in output:\n",
        "\n",
        "        # separate subject, verb and object\n",
        "        n1 = sent.split()[0]\n",
        "        p = sent.split()[1]\n",
        "        n2 = sent.split()[2:]\n",
        "\n",
        "        # append to list, along with the sentence\n",
        "        dis_dict = {'Sent':sentence,'Year':year,'Noun1':n1,'Preposition':p,'Noun2':n2}\n",
        "        dis_list.append(dis_dict)\n",
        "\n",
        "        # counting the number of sentences containing the verb\n",
        "        prep = sent.split()[1]\n",
        "        if prep in prep_dict:\n",
        "            prep_dict[prep]+=1\n",
        "        else:\n",
        "            prep_dict[prep]=1\n",
        "\n",
        "df_sep3= pd.DataFrame(dis_list)"
      ]
    },
    {
      "cell_type": "markdown",
      "metadata": {
        "id": "gtBllZZ0g60q"
      },
      "source": [
        "The following dataframe shows the result of the rule on the entire corpus."
      ]
    },
    {
      "cell_type": "code",
      "execution_count": null,
      "metadata": {
        "scrolled": true,
        "id": "Fd-y9ZD7g60q"
      },
      "outputs": [],
      "source": [
        "df_sep3.head(10)"
      ]
    },
    {
      "cell_type": "markdown",
      "metadata": {
        "id": "rCuL3d8Ig60q"
      },
      "source": [
        "We can look at the topmost occuring prepositions in the entire corpus."
      ]
    },
    {
      "cell_type": "code",
      "execution_count": null,
      "metadata": {
        "scrolled": true,
        "id": "0UWAp62ng60q"
      },
      "outputs": [],
      "source": [
        "sort = sorted(prep_dict.items(), key = lambda d:(d[1],d[0]), reverse=True)\n",
        "sort[:10]"
      ]
    },
    {
      "cell_type": "markdown",
      "metadata": {
        "id": "VDSAaHKOg60q"
      },
      "source": [
        "We look at certain prepositions to explore the sentences in detail. For example the preposition 'against'. It can give us information about what India does not support."
      ]
    },
    {
      "cell_type": "code",
      "execution_count": null,
      "metadata": {
        "collapsed": true,
        "id": "OQns_W2vg60r"
      },
      "outputs": [],
      "source": [
        "# 'against'\n",
        "df_sep3[df_sep3['Preposition']=='for']"
      ]
    },
    {
      "cell_type": "markdown",
      "metadata": {
        "id": "IBJt1KVHg60r"
      },
      "source": [
        "Skimming over the nouns, some important phrases like:\n",
        "\n",
        "* efforts against proliferation\n",
        "* fight against terrorism, action against terrorism, war against terrorism\n",
        "* dsicrimination against women\n",
        "* war against poverty\n",
        "* struggle against colonialism\n",
        "\n",
        "... and so on. This should give us a fair idea about which sentences we want to explore in detail. For exmaple, *efforts against proliferation* talks about efforts towards nuclear disarmament. Or the sentence on *struggle against colonialism* talks about the historical links between India and Africa borne out of their common struggle against colonialism."
      ]
    },
    {
      "cell_type": "code",
      "execution_count": null,
      "metadata": {
        "scrolled": true,
        "id": "EZP-4Aygg60r"
      },
      "outputs": [],
      "source": [
        "df_sep3.loc[1,'Sent']"
      ]
    },
    {
      "cell_type": "code",
      "execution_count": null,
      "metadata": {
        "scrolled": true,
        "id": "ZRUQJBLLg60r"
      },
      "outputs": [],
      "source": [
        "df_sep3.loc[11513,'Sent']"
      ]
    },
    {
      "cell_type": "code",
      "execution_count": null,
      "metadata": {
        "id": "N_O4YUZ0g60r"
      },
      "outputs": [],
      "source": [
        "df_sep3.loc[11618,'Sent']"
      ]
    },
    {
      "cell_type": "code",
      "execution_count": null,
      "metadata": {
        "id": "2lKQ-e22g60r"
      },
      "outputs": [],
      "source": [
        "df_sep3.loc[11859,'Sent']"
      ]
    },
    {
      "cell_type": "markdown",
      "metadata": {
        "id": "ZxNc3C6Vg60s"
      },
      "source": [
        "As you can see, prepositions give us an important relationship between two nouns. And with a little domain knowledge we can easily seive through the vast data and determine what India supports or does not support and much more."
      ]
    },
    {
      "cell_type": "markdown",
      "metadata": {
        "id": "amJu8I2Rg60s"
      },
      "source": [
        "But at some time the output seems a bit incomplete. For example, in the sentence *efforts against proliferation*, what kind of a *proliferation* are we talking about? Certainly we need to include the modifiers attached to the nouns in the phrase, like we did in rule 2. This would definitely increase the comprehensibility of the extracted phrase.\n",
        "\n",
        "This rule can be easily modified to include the new change. I have created a new function to extract the noun modifiers for nouns that we extracted from rule 3."
      ]
    },
    {
      "cell_type": "code",
      "execution_count": null,
      "metadata": {
        "id": "owkTal2Cg60s"
      },
      "outputs": [],
      "source": [
        "# rule 0\n",
        "def rule0(text, index):\n",
        "\n",
        "    doc = nlp(text)\n",
        "\n",
        "    token = doc[index]\n",
        "\n",
        "    entity = ''\n",
        "\n",
        "    for sub_tok in token.children:\n",
        "        if (sub_tok.dep_ in ['compound','amod']):# and (sub_tok.pos_ in ['NOUN','PROPN']):\n",
        "            entity += sub_tok.text+' '\n",
        "\n",
        "    entity += token.text\n",
        "\n",
        "    return entity"
      ]
    },
    {
      "cell_type": "markdown",
      "metadata": {
        "id": "EiOorEHpg60s"
      },
      "source": [
        "All we have to do is call this function whenever we encounter a noun in our phrase."
      ]
    },
    {
      "cell_type": "code",
      "execution_count": null,
      "metadata": {
        "id": "MgVTooLgg60s"
      },
      "outputs": [],
      "source": [
        "# rule 3 function\n",
        "def rule3_mod(text):\n",
        "\n",
        "    doc = nlp(text)\n",
        "\n",
        "    sent = []\n",
        "\n",
        "    for token in doc:\n",
        "\n",
        "        if token.pos_=='ADP':\n",
        "\n",
        "            phrase = ''\n",
        "            if token.head.pos_=='NOUN':\n",
        "\n",
        "                # appended rule\n",
        "                append = rule0(text, token.head.i)\n",
        "                if len(append)!=0:\n",
        "                    phrase += append\n",
        "                else:\n",
        "                    phrase += token.head.text\n",
        "                phrase += ' '+token.text\n",
        "\n",
        "                for right_tok in token.rights:\n",
        "                    if (right_tok.pos_ in ['NOUN','PROPN']):\n",
        "\n",
        "                        right_phrase = ''\n",
        "                        # appended rule\n",
        "                        append = rule0(text, right_tok.i)\n",
        "                        if len(append)!=0:\n",
        "                            right_phrase += ' '+append\n",
        "                        else:\n",
        "                            right_phrase += ' '+right_tok.text\n",
        "\n",
        "                        phrase += right_phrase\n",
        "\n",
        "                if len(phrase)>2:\n",
        "                    sent.append(phrase)\n",
        "\n",
        "\n",
        "    return sent"
      ]
    },
    {
      "cell_type": "code",
      "execution_count": null,
      "metadata": {
        "id": "XGnN0AiTg60s"
      },
      "outputs": [],
      "source": [
        "# create a df containing sentence and its output for rule 3\n",
        "row_list = []\n",
        "\n",
        "# df2 contains all the sentences from all the speeches\n",
        "for i in range(len(df_show3)):\n",
        "\n",
        "    sent = df_show3.loc[i,'Sent']\n",
        "    year = df_show3.loc[i,'Year']\n",
        "    output = rule3_mod(sent)\n",
        "    dict1 = {'Year':year,'Sent':sent,'Output':output}\n",
        "    row_list.append(dict1)\n",
        "\n",
        "df_rule3_mod = pd.DataFrame(row_list)"
      ]
    },
    {
      "cell_type": "code",
      "execution_count": null,
      "metadata": {
        "collapsed": true,
        "id": "Kk5oPRlUg60s"
      },
      "outputs": [],
      "source": [
        "df_rule3_mod"
      ]
    },
    {
      "cell_type": "markdown",
      "metadata": {
        "id": "X4yj0KB1g60t"
      },
      "source": [
        "This definitely has more information than before. For example, 'impediments in economic development' instead of 'impediments in development' and 'greater transgressor of human rights' rather than 'transgressor of rights'.\n",
        "\n",
        "Once again combining rules has given us more power and flexibility to explore only those sentences in detail that have a meaningful extracted phrase."
      ]
    },
    {
      "cell_type": "code",
      "execution_count": null,
      "metadata": {
        "id": "BWI10Y2hg60u"
      },
      "outputs": [],
      "source": [
        "# separate noun, preposition and noun\n",
        "\n",
        "prep_dict = dict()\n",
        "dis_dict = dict()\n",
        "dis_list = []\n",
        "\n",
        "# iterating over all the sentences\n",
        "for i in range(len(df_rule3_mod)):\n",
        "\n",
        "    # sentence containing the output\n",
        "    sentence = df_rule3_mod.loc[i,'Sent']\n",
        "    # year of the sentence\n",
        "    year = df_rule3_mod.loc[i,'Year']\n",
        "    # output of the sentence\n",
        "    output = df_rule3_mod.loc[i,'Output']\n",
        "\n",
        "    # iterating over all the outputs from the sentence\n",
        "    for sent in output:\n",
        "\n",
        "        # separate subject, verb and object\n",
        "        n1 = sent[0]\n",
        "        p = sent[1]\n",
        "        n2 = sent[2:]\n",
        "\n",
        "        # append to list, along with the sentence\n",
        "        dis_dict = {'Sent':sentence,'Year':year,'Noun1':n1,'Preposition':p,'Noun2':n2}\n",
        "        dis_list.append(dis_dict)\n",
        "\n",
        "        # counting the number of sentences containing the verb\n",
        "        prep = sent[1]\n",
        "        if prep in prep_dict:\n",
        "            prep_dict[verb]+=1\n",
        "        else:\n",
        "            prep_dict[verb]=1\n",
        "\n",
        "df_sep3_mod = pd.DataFrame(dis_list)"
      ]
    },
    {
      "cell_type": "code",
      "execution_count": null,
      "metadata": {
        "scrolled": true,
        "id": "iw2-dot6g60u"
      },
      "outputs": [],
      "source": [
        "df_sep3"
      ]
    },
    {
      "cell_type": "markdown",
      "metadata": {
        "id": "XETGxxCQg60v"
      },
      "source": [
        "# End Notes\n",
        "\n",
        "Information extraction is by no means an easy NLP task to perform. You need to spend time with the data to better understand its structure and what it has to offer.\n",
        "\n",
        "In this article, we used theoretical knowledge and put it to practical use. We worked with a text dataset and tried to extract the information using traditional information extraction techniques.\n",
        "\n",
        "We looked for key phrases and relationships in the text data to try and extract the information from the text. This type of approach requires a combination of computer and human effort to extract relevant information."
      ]
    }
  ],
  "metadata": {
    "kernelspec": {
      "display_name": "Python 3",
      "language": "python",
      "name": "python3"
    },
    "language_info": {
      "codemirror_mode": {
        "name": "ipython",
        "version": 3
      },
      "file_extension": ".py",
      "mimetype": "text/x-python",
      "name": "python",
      "nbconvert_exporter": "python",
      "pygments_lexer": "ipython3",
      "version": "3.7.4"
    },
    "notify_time": "5",
    "toc": {
      "base_numbering": 1,
      "nav_menu": {},
      "number_sections": true,
      "sideBar": true,
      "skip_h1_title": false,
      "title_cell": "Table of Contents",
      "title_sidebar": "Contents",
      "toc_cell": false,
      "toc_position": {},
      "toc_section_display": true,
      "toc_window_display": false
    },
    "colab": {
      "provenance": [],
      "include_colab_link": true
    }
  },
  "nbformat": 4,
  "nbformat_minor": 0
}