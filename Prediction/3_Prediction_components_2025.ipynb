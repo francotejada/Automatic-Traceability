{
  "nbformat": 4,
  "nbformat_minor": 0,
  "metadata": {
    "colab": {
      "provenance": [],
      "authorship_tag": "ABX9TyO+L5/Bz98EuXRE6JmC4e8S",
      "include_colab_link": true
    },
    "kernelspec": {
      "name": "python3",
      "display_name": "Python 3"
    },
    "language_info": {
      "name": "python"
    }
  },
  "cells": [
    {
      "cell_type": "markdown",
      "metadata": {
        "id": "view-in-github",
        "colab_type": "text"
      },
      "source": [
        "<a href=\"https://colab.research.google.com/github/francotejada/Automatic-Traceability/blob/main/Prediction/3_Prediction_components_2025.ipynb\" target=\"_parent\"><img src=\"https://colab.research.google.com/assets/colab-badge.svg\" alt=\"Open In Colab\"/></a>"
      ]
    },
    {
      "cell_type": "code",
      "source": [
        "# Instalación de paquetes necesarios\n",
        "!pip install -q transformers datasets evaluate accelerate openpyxl scikit-learn"
      ],
      "metadata": {
        "id": "mPxDp8Wua7hT"
      },
      "execution_count": null,
      "outputs": []
    },
    {
      "cell_type": "code",
      "source": [
        "import os\n",
        "import torch\n",
        "import pandas as pd\n",
        "import evaluate\n",
        "\n",
        "from datasets import Dataset\n",
        "from sklearn.model_selection import train_test_split\n",
        "from sklearn.preprocessing import LabelEncoder\n",
        "from transformers import (\n",
        "    AutoTokenizer,\n",
        "    AutoModelForSequenceClassification,\n",
        "    TrainingArguments,\n",
        "    Trainer\n",
        ")\n",
        "\n",
        "# Desactivar logging de Weights & Biases\n",
        "os.environ[\"WANDB_DISABLED\"] = \"true\"\n",
        "\n",
        "# Cargar datos desde Excel\n",
        "df = pd.read_excel('/content/data_bugzilla.xlsx')\n",
        "df.columns = ['component', 'title', 'description']\n",
        "df.dropna(inplace=True)\n",
        "\n",
        "# Preparar textos y etiquetas\n",
        "df['text'] = df['title'].astype(str) + ' ' + df['description'].astype(str)\n",
        "label_encoder = LabelEncoder()\n",
        "df['label'] = label_encoder.fit_transform(df['component'])\n",
        "num_labels = len(label_encoder.classes_)\n",
        "\n",
        "# División en conjuntos de entrenamiento y prueba\n",
        "train_df, test_df = train_test_split(df[['text', 'label']], test_size=0.2, random_state=42)\n",
        "train_dataset = Dataset.from_pandas(train_df)\n",
        "test_dataset = Dataset.from_pandas(test_df)\n",
        "\n",
        "# Leer nuevo vocabulario\n",
        "with open(\"vocab.txt\", \"r\") as text_file:\n",
        "    new_tokens = text_file.readlines()\n",
        "print(new_tokens)\n",
        "print(len(new_tokens))\n",
        "\n",
        "# Cargar modelo y tokenizer DeBERTa v3\n",
        "model_checkpoint = \"microsoft/deberta-v3-base\"\n",
        "tokenizer = AutoTokenizer.from_pretrained(model_checkpoint)\n",
        "model = AutoModelForSequenceClassification.from_pretrained(model_checkpoint, num_labels=num_labels)\n",
        "\n",
        "print(\"[ BEFORE ] tokenizer vocab size:\", len(tokenizer))\n",
        "added_tokens = tokenizer.add_tokens(new_tokens)\n",
        "print(\"[ AFTER ] tokenizer vocab size:\", len(tokenizer))\n",
        "print(\"added_tokens:\", added_tokens)\n",
        "\n",
        "# Redimensionar embedding del modelo\n",
        "model.resize_token_embeddings(len(tokenizer))\n",
        "\n",
        "# Función de tokenización\n",
        "def tokenize_function(example):\n",
        "    return tokenizer(example[\"text\"], truncation=True, padding=\"max_length\", max_length=512)\n",
        "\n",
        "train_dataset = train_dataset.map(tokenize_function, batched=True).remove_columns([\"text\"])\n",
        "test_dataset = test_dataset.map(tokenize_function, batched=True).remove_columns([\"text\"])\n",
        "\n",
        "# Métrica\n",
        "accuracy = evaluate.load(\"accuracy\")\n",
        "\n",
        "def compute_metrics(eval_pred):\n",
        "    logits, labels = eval_pred\n",
        "    predictions = torch.argmax(torch.tensor(logits), dim=-1)\n",
        "    return accuracy.compute(predictions=predictions, references=labels)\n",
        "\n",
        "# Configuración de entrenamiento\n",
        "training_args = TrainingArguments(\n",
        "    output_dir=\"./results\",\n",
        "    do_eval=True,\n",
        "    eval_steps=500,\n",
        "    save_steps=500,\n",
        "    save_total_limit=2,\n",
        "    learning_rate=2e-5,\n",
        "    per_device_train_batch_size=4,\n",
        "    per_device_eval_batch_size=4,\n",
        "    num_train_epochs=15,\n",
        "    weight_decay=0.01\n",
        ")\n",
        "\n",
        "# Inicializar entrenador\n",
        "trainer = Trainer(\n",
        "    model=model,\n",
        "    args=training_args,\n",
        "    train_dataset=train_dataset,\n",
        "    eval_dataset=test_dataset,\n",
        "    compute_metrics=compute_metrics,\n",
        "    tokenizer=tokenizer,\n",
        ")\n",
        "\n",
        "# Entrenamiento y evaluación\n",
        "trainer.train()\n",
        "trainer.evaluate()\n",
        "\n",
        "# Guardar modelo, tokenizer y clases\n",
        "model.save_pretrained(\"./deberta-bugzilla\")\n",
        "tokenizer.save_pretrained(\"./deberta-bugzilla\")\n",
        "pd.Series(label_encoder.classes_).to_csv(\"label_classes.csv\", index=False)\n",
        "\n",
        "# Liberar memoria\n",
        "from torch.cuda import empty_cache\n",
        "empty_cache()"
      ],
      "metadata": {
        "id": "2xG3Xb7Va1R-"
      },
      "execution_count": null,
      "outputs": []
    }
  ]
}